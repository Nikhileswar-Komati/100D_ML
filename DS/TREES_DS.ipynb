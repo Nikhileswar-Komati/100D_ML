{
  "nbformat": 4,
  "nbformat_minor": 0,
  "metadata": {
    "colab": {
      "name": "TREES_DS.ipynb",
      "provenance": [],
      "authorship_tag": "ABX9TyMaNruBg8pCpypdpAMHIVy3",
      "include_colab_link": true
    },
    "kernelspec": {
      "name": "python3",
      "display_name": "Python 3"
    }
  },
  "cells": [
    {
      "cell_type": "markdown",
      "metadata": {
        "id": "view-in-github",
        "colab_type": "text"
      },
      "source": [
        "<a href=\"https://colab.research.google.com/github/Nikhileswar-Komati/100D_ML/blob/master/DS/TREES_DS.ipynb\" target=\"_parent\"><img src=\"https://colab.research.google.com/assets/colab-badge.svg\" alt=\"Open In Colab\"/></a>"
      ]
    },
    {
      "cell_type": "code",
      "metadata": {
        "id": "YjkZ8yzfV8TW",
        "colab_type": "code",
        "colab": {}
      },
      "source": [
        "class NewNode:\n",
        "  def __init__(self, val):\n",
        "    self.data = val\n",
        "    self.left = self.right = None\n",
        "\n",
        "class Tree:\n",
        "  def create_bst(self, arr, indx):\n",
        "    n = len(arr)\n",
        "    root = None\n",
        "    if indx < n:\n",
        "      root = NewNode(arr[indx])\n",
        "      root.left = self.create_bst(arr, 2*indx + 1)\n",
        "      root.right = self.create_bst(arr, 2*indx + 2)\n",
        "    return root\n",
        "\n",
        "  def print_inorder(self, li, root):\n",
        "    if root:\n",
        "      self.print_inorder(li, root.left)\n",
        "      li.append(root.data)\n",
        "      self.print_inorder(li, root.right)\n",
        "    return li\n",
        "\n",
        "  def print_preorder(self, li, root):\n",
        "    if root:\n",
        "      li.append(root.data)\n",
        "      self.print_preorder(li, root.left)\n",
        "      self.print_preorder(li, root.right)\n",
        "    return li\n",
        "\n",
        "  def print_postorder(self, li, root):\n",
        "    if root:\n",
        "      self.print_postorder(li, root.left)\n",
        "      self.print_postorder(li, root.right)\n",
        "      li.append(root.data)\n",
        "    return li\n",
        "\n",
        "  def height(self, root):\n",
        "    if not root:\n",
        "      return 0\n",
        "    return 1 + max(height(root.left), height(root.right))\n",
        "\n",
        "  def print_givenlevel(self, root, level, arr):\n",
        "    if not root:\n",
        "      return\n",
        "    elif level == 1:\n",
        "      arr.append(root.data)\n",
        "    else:\n",
        "      self.print_givenlevel(root.left, level-1, arr)\n",
        "      self.print_givenlevel(root.right, level-1, arr)\n",
        "    return arr\n",
        "    \n",
        "  def print_levelorder(self, root):\n",
        "    li = []\n",
        "    for level in range(1, self.height(root) + 1):\n",
        "      x = self.print_givenlevel(root, level, [])\n",
        "      li.append(x)\n",
        "    return li\n",
        "\n",
        "  def isMirror(self, root1, root2):\n",
        "    if root1 == None and root2 == None:\n",
        "      return True\n",
        "    elif root1 != None and root2 != None:\n",
        "      if root1.data == root2.data:\n",
        "        return self.isMirror(root1.left, root2.right) and self.isMirror(root1.right, root2.left)\n",
        "    return False \n",
        "\n",
        "  def isSymmetric(self, root):\n",
        "    val = self.isMirror(root, root)\n",
        "    if val:\n",
        "      return True\n",
        "    return False\n",
        "  "
      ],
      "execution_count": 77,
      "outputs": []
    },
    {
      "cell_type": "code",
      "metadata": {
        "id": "L3p9_lOCiCab",
        "colab_type": "code",
        "colab": {
          "base_uri": "https://localhost:8080/",
          "height": 34
        },
        "outputId": "58d69ad9-621d-4670-ee6b-f43d30c71875"
      },
      "source": [
        "obj = Tree()\n",
        "root = NewNode(1) \n",
        "root.left = NewNode(2) \n",
        "root.right = NewNode(2) \n",
        "root.left.left = NewNode(3) \n",
        "root.left.right = NewNode(4) \n",
        "root.right.left = NewNode(4) \n",
        "root.right.right = NewNode(3)\n",
        "val = obj.isSymmetric(root)\n",
        "if val == True:\n",
        "  print(\"Given Tree is Symmetric\")\n",
        "else:\n",
        "  print(\"Given Tree is not Symmetric\")"
      ],
      "execution_count": 78,
      "outputs": [
        {
          "output_type": "stream",
          "text": [
            "True\n"
          ],
          "name": "stdout"
        }
      ]
    },
    {
      "cell_type": "code",
      "metadata": {
        "id": "N-qqRPrtfaXM",
        "colab_type": "code",
        "colab": {
          "base_uri": "https://localhost:8080/",
          "height": 102
        },
        "outputId": "9da2ae32-d87b-4a9c-a780-655d708b3af3"
      },
      "source": [
        "#Driver Code\n",
        "obj = Tree()\n",
        "arr = [ele for ele in range(1, 9)]\n",
        "\n",
        "#create binary Tree\n",
        "\n",
        "root = obj.create_bst(arr, 0)\n",
        "\n",
        "post_order = obj.print_postorder([], root)\n",
        "\n",
        "in_order = obj.print_inorder([], root)\n",
        "\n",
        "pre_order = obj.print_preorder([], root)\n",
        "\n",
        "level_order = obj.print_levelorder(root)\n",
        "\n",
        "for type_of_traversal in zip([in_order, pre_order, post_order, level_order], ['in_order', 'pre_order', 'post_order', 'level_order']):\n",
        "  print(type_of_traversal[1], end = \" \")\n",
        "  for ele in type_of_traversal[0]:\n",
        "    print(ele, end = \" \")\n",
        "  print()\n",
        "\n",
        "print(\"Height of tree\", obj.height(root))"
      ],
      "execution_count": null,
      "outputs": [
        {
          "output_type": "stream",
          "text": [
            "in_order 8 4 2 5 1 6 3 7 \n",
            "pre_order 1 2 4 8 5 3 6 7 \n",
            "post_order 8 4 5 2 6 7 3 1 \n",
            "level_order [1] [2, 3] [4, 5, 6, 7] [8] \n",
            "Height of tree 4\n"
          ],
          "name": "stdout"
        }
      ]
    },
    {
      "cell_type": "code",
      "metadata": {
        "id": "hmgvNYL19sWy",
        "colab_type": "code",
        "colab": {}
      },
      "source": [
        ""
      ],
      "execution_count": null,
      "outputs": []
    }
  ]
}