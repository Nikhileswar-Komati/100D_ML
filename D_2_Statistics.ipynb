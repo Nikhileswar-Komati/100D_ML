{
  "nbformat": 4,
  "nbformat_minor": 0,
  "metadata": {
    "colab": {
      "name": "D-2-Statistics.ipynb",
      "provenance": [],
      "authorship_tag": "ABX9TyPojzTqoW7XClA+GStdIFOp",
      "include_colab_link": true
    },
    "kernelspec": {
      "name": "python3",
      "display_name": "Python 3"
    }
  },
  "cells": [
    {
      "cell_type": "markdown",
      "metadata": {
        "id": "view-in-github",
        "colab_type": "text"
      },
      "source": [
        "<a href=\"https://colab.research.google.com/github/Nikhileswar-Komati/100D_ML/blob/master/D_2_Statistics.ipynb\" target=\"_parent\"><img src=\"https://colab.research.google.com/assets/colab-badge.svg\" alt=\"Open In Colab\"/></a>"
      ]
    },
    {
      "cell_type": "markdown",
      "metadata": {
        "id": "cZJ8Mri2dCID",
        "colab_type": "text"
      },
      "source": [
        "# STATISTICS\n",
        "\n",
        "### DESCRIPTIVE"
      ]
    },
    {
      "cell_type": "markdown",
      "metadata": {
        "id": "_HCoenmFjR9v",
        "colab_type": "text"
      },
      "source": [
        "####1) MEAN"
      ]
    },
    {
      "cell_type": "code",
      "metadata": {
        "id": "ol8C1e0sMzZB",
        "colab_type": "code",
        "colab": {
          "base_uri": "https://localhost:8080/",
          "height": 68
        },
        "outputId": "5dcce5a5-daaf-42b5-a9be-8a42f414175c"
      },
      "source": [
        "li = [i for i in range(100)]\n",
        "\n",
        "def mean(li):\n",
        "  return sum(li) / len(li)\n",
        "\n",
        "print(\"population_mean =\", mean(li))\n",
        "\n",
        "#Sample mean of 10 numbers from list\n",
        "#Numbers must be randomly distributed \n",
        "new_li = li[5::10]\n",
        "print(\"sample_mean1 =\", mean(new_li))\n",
        "\n",
        "new_li = li[3::10]\n",
        "print(\"sample_mean2 =\", mean(new_li))"
      ],
      "execution_count": null,
      "outputs": [
        {
          "output_type": "stream",
          "text": [
            "population_mean = 49.5\n",
            "sample_mean1 = 50.0\n",
            "sample_mean2 = 48.0\n"
          ],
          "name": "stdout"
        }
      ]
    },
    {
      "cell_type": "markdown",
      "metadata": {
        "id": "P2JwCIWYjgXV",
        "colab_type": "text"
      },
      "source": [
        "####2) VARIANCE"
      ]
    },
    {
      "cell_type": "code",
      "metadata": {
        "id": "b-fJxZOLek_c",
        "colab_type": "code",
        "colab": {
          "base_uri": "https://localhost:8080/",
          "height": 85
        },
        "outputId": "5a8addc4-eaf7-4c82-89c9-c746397f6ba6"
      },
      "source": [
        "a = [2, 2, 3, 3]\n",
        "b = [0, 0, 5, 5]\n",
        "\n",
        "print(\"Mean of a is\", mean(a))\n",
        "print(\"Mean of b is\", mean(b))\n",
        "\n",
        "#distance from mean is greater in b compared to a\n",
        "\n",
        "##VARIANCE\n",
        "\n",
        "def variance(li, mean, n):\n",
        "  return sum([(ele-mean) ** 2 for ele in li]) / n\n",
        "\n",
        "print(\"Variance of a is\", variance(a, mean(a), len(a)))\n",
        "print(\"Variance of b is\", variance(b, mean(b), len(b)))"
      ],
      "execution_count": null,
      "outputs": [
        {
          "output_type": "stream",
          "text": [
            "Mean of a is 2.5\n",
            "Mean of b is 2.5\n",
            "Variance of a is 0.25\n",
            "Variance of b is 6.25\n"
          ],
          "name": "stdout"
        }
      ]
    },
    {
      "cell_type": "code",
      "metadata": {
        "id": "0bQQQHoSfz6W",
        "colab_type": "code",
        "colab": {
          "base_uri": "https://localhost:8080/",
          "height": 51
        },
        "outputId": "fc454c2c-219c-4280-a96e-a29cff6c6188"
      },
      "source": [
        "print(\"Variance of population is\", variance(li, mean(li), len(li)))\n",
        "print(\"Variance of sample data is\", variance(new_li, mean(new_li), len(new_li)))"
      ],
      "execution_count": null,
      "outputs": [
        {
          "output_type": "stream",
          "text": [
            "Variance of population is 833.25\n",
            "Variance of sample data is 825.0\n"
          ],
          "name": "stdout"
        }
      ]
    },
    {
      "cell_type": "code",
      "metadata": {
        "id": "BqsKjhJsh8Wr",
        "colab_type": "code",
        "colab": {
          "base_uri": "https://localhost:8080/",
          "height": 51
        },
        "outputId": "d602c1f1-89ce-4949-b6ea-cb4f82b3a505"
      },
      "source": [
        "#Variance for sample data divided by len(arr) - 1 to estimate variance of population \n",
        "\n",
        "print(\"Variance of population is\", variance(li, mean(li), len(li)))\n",
        "print(\"Variance of sample is\", variance(new_li, mean(new_li), len(new_li)-1))"
      ],
      "execution_count": null,
      "outputs": [
        {
          "output_type": "stream",
          "text": [
            "Variance of population is 833.25\n",
            "Variance of sample is 916.6666666666666\n"
          ],
          "name": "stdout"
        }
      ]
    },
    {
      "cell_type": "markdown",
      "metadata": {
        "id": "9bmleWi1jrXa",
        "colab_type": "text"
      },
      "source": [
        "####3) STANDARD DEVIATION"
      ]
    },
    {
      "cell_type": "code",
      "metadata": {
        "id": "vA8xGPiBimvC",
        "colab_type": "code",
        "colab": {}
      },
      "source": [
        "import math\n",
        "def standard_deviation(variance):\n",
        "  return math.sqrt(variance)\n"
      ],
      "execution_count": null,
      "outputs": []
    },
    {
      "cell_type": "code",
      "metadata": {
        "id": "fi3R2ULikHM_",
        "colab_type": "code",
        "colab": {
          "base_uri": "https://localhost:8080/",
          "height": 51
        },
        "outputId": "8df63a1e-4705-486e-898c-7925dfcc0a06"
      },
      "source": [
        "print(\"Standard Deviation of population is\", standard_deviation(variance(li, mean(li), len(li))))\n",
        "print(\"Standard Deviation of sample data is\", standard_deviation(variance(new_li, mean(new_li), len(new_li))))"
      ],
      "execution_count": null,
      "outputs": [
        {
          "output_type": "stream",
          "text": [
            "Standard Deviation of population is 28.86607004772212\n",
            "Standard Deviation of sample data is 28.722813232690143\n"
          ],
          "name": "stdout"
        }
      ]
    },
    {
      "cell_type": "code",
      "metadata": {
        "id": "sKvDpuFFkKtA",
        "colab_type": "code",
        "colab": {
          "base_uri": "https://localhost:8080/",
          "height": 51
        },
        "outputId": "812994e3-3cb8-4c3e-cf9e-3df9ec8d0a2e"
      },
      "source": [
        "print(\"Standard Deviation of population is\", standard_deviation(variance(li, mean(li), len(li))))\n",
        "print(\"Standard Deviation of sample data is\", standard_deviation(variance(new_li, mean(new_li), len(new_li)-1)))"
      ],
      "execution_count": null,
      "outputs": [
        {
          "output_type": "stream",
          "text": [
            "Standard Deviation of population is 28.86607004772212\n",
            "Standard Deviation of sample data is 30.276503540974915\n"
          ],
          "name": "stdout"
        }
      ]
    },
    {
      "cell_type": "markdown",
      "metadata": {
        "id": "BStCwvn-mOnG",
        "colab_type": "text"
      },
      "source": [
        "####4) ALTERNATE METHOD FOR VARIANCE"
      ]
    },
    {
      "cell_type": "code",
      "metadata": {
        "id": "u0r21pdTk7vX",
        "colab_type": "code",
        "colab": {}
      },
      "source": [
        "def new_var(li, m = None):\n",
        "  val = sum([ele ** 2 for ele in li]) / len(li)\n",
        "  if m:\n",
        "    return val - (m ** 2)\n",
        "  return val - (mean(li) ** 2)"
      ],
      "execution_count": null,
      "outputs": []
    },
    {
      "cell_type": "code",
      "metadata": {
        "id": "rJ1aCPm7nNXo",
        "colab_type": "code",
        "colab": {
          "base_uri": "https://localhost:8080/",
          "height": 51
        },
        "outputId": "9e06ba20-bcee-4bce-f2a5-3fb102bfe820"
      },
      "source": [
        "print(\"New Variance by passing mean (FASTER METHOD)\", new_var(li, mean(li)))\n",
        "print(\"New Variance without passing mean (FASTER METHOD)\", new_var(li))"
      ],
      "execution_count": null,
      "outputs": [
        {
          "output_type": "stream",
          "text": [
            "New Variance by passing mean (FASTER METHOD) 833.25\n",
            "New Variance without passing mean (FASTER METHOD) 833.25\n"
          ],
          "name": "stdout"
        }
      ]
    },
    {
      "cell_type": "markdown",
      "metadata": {
        "id": "rcONemgEqI2J",
        "colab_type": "text"
      },
      "source": [
        "####5) DISCRETE RANDOM VARIABLES"
      ]
    },
    {
      "cell_type": "code",
      "metadata": {
        "id": "SqUGgDZQniM5",
        "colab_type": "code",
        "colab": {
          "base_uri": "https://localhost:8080/",
          "height": 336
        },
        "outputId": "ce1e079a-deeb-425a-9dbf-67dfefaa7449"
      },
      "source": [
        "import seaborn as sns\n",
        "import numpy as np\n",
        "\n",
        "#ROLLING A  FAIR DIE \n",
        "prob_fair_die = [1/6] * 6\n",
        "die = [ele for ele in range(1, 7)]\n",
        "sns.barplot(x = die, y = prob_fair_die)"
      ],
      "execution_count": null,
      "outputs": [
        {
          "output_type": "stream",
          "text": [
            "/usr/local/lib/python3.6/dist-packages/statsmodels/tools/_testing.py:19: FutureWarning: pandas.util.testing is deprecated. Use the functions in the public API at pandas.testing instead.\n",
            "  import pandas.util.testing as tm\n"
          ],
          "name": "stderr"
        },
        {
          "output_type": "execute_result",
          "data": {
            "text/plain": [
              "<matplotlib.axes._subplots.AxesSubplot at 0x7f96f6c0d8d0>"
            ]
          },
          "metadata": {
            "tags": []
          },
          "execution_count": 10
        },
        {
          "output_type": "display_data",
          "data": {
            "image/png": "[encoded data removed]",
            "text/plain": [
              "<Figure size 432x288 with 1 Axes>"
            ]
          },
          "metadata": {
            "tags": [],
            "needs_background": "light"
          }
        }
      ]
    },
    {
      "cell_type": "code",
      "metadata": {
        "id": "ZRX3rZznq5KR",
        "colab_type": "code",
        "colab": {
          "base_uri": "https://localhost:8080/",
          "height": 286
        },
        "outputId": "3699487e-8710-45e8-a71f-d4c3b6ab6550"
      },
      "source": [
        "#ROLLING AN UNFAIR DIE with two 6 faces\n",
        "prob_fair_die = [1/6, 0, 1/6, 1/6, 1/6, 2/6]\n",
        "die = [ele for ele in range(1, 7)]\n",
        "sns.barplot(x = die, y = prob_fair_die)"
      ],
      "execution_count": null,
      "outputs": [
        {
          "output_type": "execute_result",
          "data": {
            "text/plain": [
              "<matplotlib.axes._subplots.AxesSubplot at 0x7f97015d7c50>"
            ]
          },
          "metadata": {
            "tags": []
          },
          "execution_count": 11
        },
        {
          "output_type": "display_data",
          "data": {
            "image/png": "[encoded data removed]",
            "text/plain": [
              "<Figure size 432x288 with 1 Axes>"
            ]
          },
          "metadata": {
            "tags": [],
            "needs_background": "light"
          }
        }
      ]
    },
    {
      "cell_type": "markdown",
      "metadata": {
        "id": "xD6E5tF9v0Ul",
        "colab_type": "text"
      },
      "source": [
        "####6) CONTINUOUS RANDOM VARIABLE"
      ]
    },
    {
      "cell_type": "code",
      "metadata": {
        "id": "W_d-fDUIus6w",
        "colab_type": "code",
        "colab": {
          "base_uri": "https://localhost:8080/",
          "height": 282
        },
        "outputId": "6236be61-92a4-491c-bbab-d7bb0ca3a42b"
      },
      "source": [
        "#PROBABILITY OF GETTING ANY NUMBER BTW 1-6 we can only calculate in a region like btw 1.99 to 2.01\n",
        "die = [ele for ele in range(1, 7)]\n",
        "sns.distplot(die, hist=False, bins = 6)"
      ],
      "execution_count": null,
      "outputs": [
        {
          "output_type": "execute_result",
          "data": {
            "text/plain": [
              "<matplotlib.axes._subplots.AxesSubplot at 0x7f96f6645860>"
            ]
          },
          "metadata": {
            "tags": []
          },
          "execution_count": 12
        },
        {
          "output_type": "display_data",
          "data": {
            "image/png": "[encoded data removed]",
            "text/plain": [
              "<Figure size 432x288 with 1 Axes>"
            ]
          },
          "metadata": {
            "tags": [],
            "needs_background": "light"
          }
        }
      ]
    },
    {
      "cell_type": "markdown",
      "metadata": {
        "id": "3aT9Rqaq7abO",
        "colab_type": "text"
      },
      "source": [
        "####7) BINOMIAL DISTRIBUTION"
      ]
    },
    {
      "cell_type": "code",
      "metadata": {
        "id": "HPdamzEnwcIt",
        "colab_type": "code",
        "colab": {
          "base_uri": "https://localhost:8080/",
          "height": 282
        },
        "outputId": "48191e2a-ebbc-4497-f477-453f9290d001"
      },
      "source": [
        "#EVENT OF GETTING HEADS BY TOSSING A UNBIASED COIN 5 TIMES\n",
        "def factorial(n):\n",
        "  if n == 1 or n == 0:\n",
        "    return 1\n",
        "  else:\n",
        "    return n * factorial(n-1)\n",
        "\n",
        "def cal_ncr(n, r):\n",
        "  n_fact = factorial(n)\n",
        "  n_r_fact = factorial(n-r)\n",
        "  r_fact = factorial(r)\n",
        "  return n_fact / (n_r_fact * r_fact)    \n",
        "def binomial_coeff(n, p, r):\n",
        "  ncr = cal_ncr(n, r)\n",
        "  return ncr * (p ** r) * ((1-p) ** (n-r))\n",
        "\n",
        "#DRIVER CODE\n",
        "# print(factorial(5))\n",
        "# print(cal_ncr(5, 5))\n",
        "n = 5\n",
        "p = 0.5 #getting a head prob\n",
        "probs_heads = [binomial_coeff(n, p, r) for r in range(n+1)]\n",
        "indexes = [ele for ele in range(n+1)]\n",
        "\n",
        "sns.barplot(x = indexes, y = probs_heads)"
      ],
      "execution_count": null,
      "outputs": [
        {
          "output_type": "execute_result",
          "data": {
            "text/plain": [
              "<matplotlib.axes._subplots.AxesSubplot at 0x7f96f65c1c18>"
            ]
          },
          "metadata": {
            "tags": []
          },
          "execution_count": 13
        },
        {
          "output_type": "display_data",
          "data": {
            "image/png": "[encoded data removed]",
            "text/plain": [
              "<Figure size 432x288 with 1 Axes>"
            ]
          },
          "metadata": {
            "tags": [],
            "needs_background": "light"
          }
        }
      ]
    },
    {
      "cell_type": "code",
      "metadata": {
        "id": "b9ELVkw598_t",
        "colab_type": "code",
        "colab": {
          "base_uri": "https://localhost:8080/",
          "height": 282
        },
        "outputId": "afa2a508-1b22-4fd3-b7fb-67fc7522c24d"
      },
      "source": [
        "#EVENT OF GETTING HEADS BY TOSSING A BIASED COIN 8 TIMES with p(head) = 0.7\n",
        "\n",
        "n = 8\n",
        "p = 0.7 #getting a head prob\n",
        "probs_heads = [binomial_coeff(n, p, r) for r in range(n+1)]\n",
        "indexes = [ele for ele in range(n+1)]\n",
        "\n",
        "sns.barplot(x = indexes, y = probs_heads)"
      ],
      "execution_count": null,
      "outputs": [
        {
          "output_type": "execute_result",
          "data": {
            "text/plain": [
              "<matplotlib.axes._subplots.AxesSubplot at 0x7f96f65baa58>"
            ]
          },
          "metadata": {
            "tags": []
          },
          "execution_count": 14
        },
        {
          "output_type": "display_data",
          "data": {
            "image/png": "[encoded data removed]",
            "text/plain": [
              "<Figure size 432x288 with 1 Axes>"
            ]
          },
          "metadata": {
            "tags": [],
            "needs_background": "light"
          }
        }
      ]
    },
    {
      "cell_type": "markdown",
      "metadata": {
        "id": "hQ4Tosnw2otH",
        "colab_type": "text"
      },
      "source": [
        "####8) EXPECTED VALUE OF A PROBABILITY DISTRIBUTION \n",
        "####OR\n",
        "####POPULATION MEAN"
      ]
    },
    {
      "cell_type": "code",
      "metadata": {
        "id": "253YtGmS_-Vu",
        "colab_type": "code",
        "colab": {
          "base_uri": "https://localhost:8080/",
          "height": 51
        },
        "outputId": "2636664f-a44a-41a2-ad47-91512a7270db"
      },
      "source": [
        "li = [3, 3, 3, 4, 5]\n",
        "m = mean(li)\n",
        "print(\"mean of li is\", m)\n",
        "\n",
        "#li has 60% -3's, 20% -4, 20% -5\n",
        "set_li = [3, 4, 5]\n",
        "new_li = [60, 20, 20]\n",
        "\n",
        "print(\"mean of li based on percentages of values\", sum([(set_li[i] * new_li[i]) / 100 for i in range(3)]))"
      ],
      "execution_count": null,
      "outputs": [
        {
          "output_type": "stream",
          "text": [
            "mean of li is 3.6\n",
            "mean of li based on percentages of values 3.6\n"
          ],
          "name": "stdout"
        }
      ]
    },
    {
      "cell_type": "code",
      "metadata": {
        "id": "FoX5_Q6K4Xgf",
        "colab_type": "code",
        "colab": {
          "base_uri": "https://localhost:8080/",
          "height": 299
        },
        "outputId": "e1d816cc-baee-4726-f048-2ca5c03942e5"
      },
      "source": [
        "#EVENT OF GETTING HEADS BY TOSSING A UNBIASED COIN 5 TIMES\n",
        "\n",
        "#DRIVER CODE\n",
        "n = 6\n",
        "p = 0.5 #getting a head prob\n",
        "probs_heads = [binomial_coeff(n, p, r) for r in range(n+1)]\n",
        "indexes = [ele for ele in range(n+1)]\n",
        "\n",
        "sns.barplot(x = indexes, y = probs_heads)\n",
        "\n",
        "#POPULATION MEAN\n",
        "population_mean = sum([ele[0] * ele[1] for ele in zip(probs_heads, indexes)])\n",
        "print(\"POPULATION MEAN IS\", population_mean)\n",
        "print(\"population mean for binomial distribution is\", n*p)"
      ],
      "execution_count": null,
      "outputs": [
        {
          "output_type": "stream",
          "text": [
            "POPULATION MEAN IS 3.0\n",
            "population mean for binomial distribution is 3.0\n"
          ],
          "name": "stdout"
        },
        {
          "output_type": "display_data",
          "data": {
            "image/png": "[encoded data removed]",
            "text/plain": [
              "<Figure size 432x288 with 1 Axes>"
            ]
          },
          "metadata": {
            "tags": [],
            "needs_background": "light"
          }
        }
      ]
    },
    {
      "cell_type": "code",
      "metadata": {
        "id": "hKBXRszy4php",
        "colab_type": "code",
        "colab": {
          "base_uri": "https://localhost:8080/",
          "height": 299
        },
        "outputId": "c7ffd4f3-b045-41e3-c65c-7d655585e3f8"
      },
      "source": [
        "#EVENT OF GETTING HEADS BY TOSSING A BIASED COIN 10 TIMES\n",
        "#DRIVER CODE\n",
        "n = 10\n",
        "p = 0.92 #getting a head prob\n",
        "probs_heads = [binomial_coeff(n, p, r) for r in range(n+1)]\n",
        "indexes = [ele for ele in range(n+1)]\n",
        "\n",
        "sns.barplot(x = indexes, y = probs_heads)\n",
        "\n",
        "#POPULATION MEAN\n",
        "population_mean = sum([ele[0] * ele[1] for ele in zip(probs_heads, indexes)])\n",
        "print(\"POPULATION MEAN IS\", population_mean)\n",
        "print(\"population mean for binomial distribution is\", n*p)"
      ],
      "execution_count": null,
      "outputs": [
        {
          "output_type": "stream",
          "text": [
            "POPULATION MEAN IS 9.2\n",
            "population mean for binomial distribution is 9.200000000000001\n"
          ],
          "name": "stdout"
        },
        {
          "output_type": "display_data",
          "data": {
            "image/png": "[encoded data removed]",
            "text/plain": [
              "<Figure size 432x288 with 1 Axes>"
            ]
          },
          "metadata": {
            "tags": [],
            "needs_background": "light"
          }
        }
      ]
    },
    {
      "cell_type": "markdown",
      "metadata": {
        "id": "KFPMC14AEw-G",
        "colab_type": "text"
      },
      "source": [
        "####9) POISSON DISTRIBUTION"
      ]
    },
    {
      "cell_type": "code",
      "metadata": {
        "id": "tQdSysWM84if",
        "colab_type": "code",
        "colab": {
          "base_uri": "https://localhost:8080/",
          "height": 313
        },
        "outputId": "5d02fa47-dfd3-4079-aa9b-97c9cd841701"
      },
      "source": [
        "import numpy as np\n",
        "import pandas as pd\n",
        "from scipy.special import factorial\n",
        "def poisson_dist(lambda_val, k):\n",
        "  return np.exp(-lambda_val) * np.power(lambda_val, k) / factorial(k) \n",
        "\n",
        "def driver_code(lam, k):\n",
        "  lambda_list = list(range(1, lam + 1))\n",
        "  k_list = list(range(k + 1))\n",
        "  final = [(lam, k, poisson_dist(lam, k)) for lam in lambda_list for k in k_list]\n",
        "  df = pd.DataFrame(final, columns = ['Lambda', 'K', 'Prob'])\n",
        "  print(df.loc[(df['Lambda'] == 5) & (df['K'] == 3), ['Lambda', 'K', 'Prob']])\n",
        "  sns.lineplot(x = \"K\", y = \"Prob\", hue = \"Lambda\", data = df)\n",
        "  \n",
        "#DRIVER CODE\n",
        "lam = 10\n",
        "k = 20\n",
        "\n",
        "\n",
        "\n",
        "\n",
        "\n",
        "driver_code(lam, k)"
      ],
      "execution_count": null,
      "outputs": [
        {
          "output_type": "stream",
          "text": [
            "    Lambda  K      Prob\n",
            "87       5  3  0.140374\n"
          ],
          "name": "stdout"
        },
        {
          "output_type": "display_data",
          "data": {
            "image/png": "[encoded data removed]",
            "text/plain": [
              "<Figure size 432x288 with 1 Axes>"
            ]
          },
          "metadata": {
            "tags": [],
            "needs_background": "light"
          }
        }
      ]
    },
    {
      "cell_type": "code",
      "metadata": {
        "id": "_AqgX1VInIJw",
        "colab_type": "code",
        "colab": {}
      },
      "source": [
        ""
      ],
      "execution_count": null,
      "outputs": []
    }
  ]
}