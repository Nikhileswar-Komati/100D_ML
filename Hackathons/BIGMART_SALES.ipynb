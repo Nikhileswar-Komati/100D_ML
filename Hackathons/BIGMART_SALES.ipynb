{
  "nbformat": 4,
  "nbformat_minor": 0,
  "metadata": {
    "colab": {
      "name": "BIGMART_SALES.ipynb",
      "provenance": [],
      "authorship_tag": "ABX9TyMn4ONjDP/dWjys8ZTln+XH",
      "include_colab_link": true
    },
    "kernelspec": {
      "name": "python3",
      "display_name": "Python 3"
    }
  },
  "cells": [
    {
      "cell_type": "markdown",
      "metadata": {
        "id": "view-in-github",
        "colab_type": "text"
      },
      "source": [
        "<a href=\"https://colab.research.google.com/github/Nikhileswar-Komati/100D_ML/blob/master/Hackathons/BIGMART_SALES.ipynb\" target=\"_parent\"><img src=\"https://colab.research.google.com/assets/colab-badge.svg\" alt=\"Open In Colab\"/></a>"
      ]
    },
    {
      "cell_type": "code",
      "metadata": {
        "id": "mYLbIElFGTQg",
        "colab_type": "code",
        "colab": {
          "base_uri": "https://localhost:8080/",
          "height": 71
        },
        "outputId": "1d2353c9-7567-4e14-e9e6-02334baeb8cb"
      },
      "source": [
        "import pandas as pd\n",
        "import numpy as np\n",
        "import matplotlib.pyplot as plt\n",
        "import seaborn as sns"
      ],
      "execution_count": null,
      "outputs": [
        {
          "output_type": "stream",
          "text": [
            "/usr/local/lib/python3.6/dist-packages/statsmodels/tools/_testing.py:19: FutureWarning: pandas.util.testing is deprecated. Use the functions in the public API at pandas.testing instead.\n",
            "  import pandas.util.testing as tm\n"
          ],
          "name": "stderr"
        }
      ]
    },
    {
      "cell_type": "code",
      "metadata": {
        "id": "mEYv2UnJGiH4",
        "colab_type": "code",
        "colab": {}
      },
      "source": [
        "from google.colab import files\n",
        "files.upload()"
      ],
      "execution_count": null,
      "outputs": []
    },
    {
      "cell_type": "code",
      "metadata": {
        "id": "wVPa2Iw0G0gd",
        "colab_type": "code",
        "colab": {
          "base_uri": "https://localhost:8080/",
          "height": 326
        },
        "outputId": "02957824-11ab-4cd0-ab7c-66569100555a"
      },
      "source": [
        "train_df = pd.read_csv('/content/BigMart_Train.csv')\n",
        "test_df = pd.read_csv('/content/BigMart_Test.csv')\n",
        "train_df['Source'] = 'Train'\n",
        "test_df['Source'] = 'Test'\n",
        "data = pd.concat([train_df, test_df])\n",
        "print(train_df.shape, test_df.shape, data.shape)\n",
        "data.sample(5)"
      ],
      "execution_count": null,
      "outputs": [
        {
          "output_type": "stream",
          "text": [
            "(8523, 13) (5681, 12) (14204, 13)\n"
          ],
          "name": "stdout"
        },
        {
          "output_type": "execute_result",
          "data": {
            "text/html": [
              "<div>\n",
              "<style scoped>\n",
              "    .dataframe tbody tr th:only-of-type {\n",
              "        vertical-align: middle;\n",
              "    }\n",
              "\n",
              "    .dataframe tbody tr th {\n",
              "        vertical-align: top;\n",
              "    }\n",
              "\n",
              "    .dataframe thead th {\n",
              "        text-align: right;\n",
              "    }\n",
              "</style>\n",
              "<table border=\"1\" class=\"dataframe\">\n",
              "  <thead>\n",
              "    <tr style=\"text-align: right;\">\n",
              "      <th></th>\n",
              "      <th>Item_Identifier</th>\n",
              "      <th>Item_Weight</th>\n",
              "      <th>Item_Fat_Content</th>\n",
              "      <th>Item_Visibility</th>\n",
              "      <th>Item_Type</th>\n",
              "      <th>Item_MRP</th>\n",
              "      <th>Outlet_Identifier</th>\n",
              "      <th>Outlet_Establishment_Year</th>\n",
              "      <th>Outlet_Size</th>\n",
              "      <th>Outlet_Location_Type</th>\n",
              "      <th>Outlet_Type</th>\n",
              "      <th>Item_Outlet_Sales</th>\n",
              "      <th>Source</th>\n",
              "    </tr>\n",
              "  </thead>\n",
              "  <tbody>\n",
              "    <tr>\n",
              "      <th>5389</th>\n",
              "      <td>DRE60</td>\n",
              "      <td>9.395</td>\n",
              "      <td>Low Fat</td>\n",
              "      <td>0.159984</td>\n",
              "      <td>Soft Drinks</td>\n",
              "      <td>225.4720</td>\n",
              "      <td>OUT018</td>\n",
              "      <td>2009</td>\n",
              "      <td>Medium</td>\n",
              "      <td>Tier 3</td>\n",
              "      <td>Supermarket Type2</td>\n",
              "      <td>NaN</td>\n",
              "      <td>Test</td>\n",
              "    </tr>\n",
              "    <tr>\n",
              "      <th>730</th>\n",
              "      <td>FDJ03</td>\n",
              "      <td>12.350</td>\n",
              "      <td>Regular</td>\n",
              "      <td>0.072542</td>\n",
              "      <td>Dairy</td>\n",
              "      <td>48.5692</td>\n",
              "      <td>OUT045</td>\n",
              "      <td>2002</td>\n",
              "      <td>NaN</td>\n",
              "      <td>Tier 2</td>\n",
              "      <td>Supermarket Type1</td>\n",
              "      <td>886.8456</td>\n",
              "      <td>Train</td>\n",
              "    </tr>\n",
              "    <tr>\n",
              "      <th>1938</th>\n",
              "      <td>FDR58</td>\n",
              "      <td>6.675</td>\n",
              "      <td>Low Fat</td>\n",
              "      <td>0.042159</td>\n",
              "      <td>Snack Foods</td>\n",
              "      <td>90.8462</td>\n",
              "      <td>OUT017</td>\n",
              "      <td>2007</td>\n",
              "      <td>NaN</td>\n",
              "      <td>Tier 2</td>\n",
              "      <td>Supermarket Type1</td>\n",
              "      <td>NaN</td>\n",
              "      <td>Test</td>\n",
              "    </tr>\n",
              "    <tr>\n",
              "      <th>987</th>\n",
              "      <td>FDR14</td>\n",
              "      <td>11.650</td>\n",
              "      <td>Low Fat</td>\n",
              "      <td>0.174016</td>\n",
              "      <td>Dairy</td>\n",
              "      <td>55.9298</td>\n",
              "      <td>OUT035</td>\n",
              "      <td>2004</td>\n",
              "      <td>Small</td>\n",
              "      <td>Tier 2</td>\n",
              "      <td>Supermarket Type1</td>\n",
              "      <td>NaN</td>\n",
              "      <td>Test</td>\n",
              "    </tr>\n",
              "    <tr>\n",
              "      <th>7326</th>\n",
              "      <td>FDM25</td>\n",
              "      <td>10.695</td>\n",
              "      <td>Regular</td>\n",
              "      <td>0.060913</td>\n",
              "      <td>Breakfast</td>\n",
              "      <td>173.8712</td>\n",
              "      <td>OUT018</td>\n",
              "      <td>2009</td>\n",
              "      <td>Medium</td>\n",
              "      <td>Tier 3</td>\n",
              "      <td>Supermarket Type2</td>\n",
              "      <td>4570.0512</td>\n",
              "      <td>Train</td>\n",
              "    </tr>\n",
              "  </tbody>\n",
              "</table>\n",
              "</div>"
            ],
            "text/plain": [
              "     Item_Identifier  Item_Weight  ... Item_Outlet_Sales  Source\n",
              "5389           DRE60        9.395  ...               NaN    Test\n",
              "730            FDJ03       12.350  ...          886.8456   Train\n",
              "1938           FDR58        6.675  ...               NaN    Test\n",
              "987            FDR14       11.650  ...               NaN    Test\n",
              "7326           FDM25       10.695  ...         4570.0512   Train\n",
              "\n",
              "[5 rows x 13 columns]"
            ]
          },
          "metadata": {
            "tags": []
          },
          "execution_count": 3
        }
      ]
    },
    {
      "cell_type": "markdown",
      "metadata": {
        "id": "qnhYsYVKzeXE",
        "colab_type": "text"
      },
      "source": [
        "###MISSING-VALUES"
      ]
    },
    {
      "cell_type": "code",
      "metadata": {
        "id": "xnmVsVeFZM21",
        "colab_type": "code",
        "colab": {
          "base_uri": "https://localhost:8080/",
          "height": 34
        },
        "outputId": "957a3ec0-7566-4a38-c63b-7f04b1cddf93"
      },
      "source": [
        "impute_weights = data.pivot_table(values = 'Item_Weight', index = 'Item_Identifier')\n",
        "count = 0\n",
        "for i, row in data.loc[data['Item_Weight'].isnull(), :].iterrows():\n",
        "  x = row['Item_Identifier']\n",
        "  if x in impute_weights.index:\n",
        "    count += 1\n",
        "    data.loc[i,'Item_Weight'] = impute_weights.loc[x].values[0]\n",
        "print(\"IMPUTED VALUES\", count)\n",
        "\n"
      ],
      "execution_count": null,
      "outputs": [
        {
          "output_type": "stream",
          "text": [
            "IMPUTED VALUES 2439\n"
          ],
          "name": "stdout"
        }
      ]
    },
    {
      "cell_type": "code",
      "metadata": {
        "id": "Q-Xo4k-E6r7o",
        "colab_type": "code",
        "colab": {
          "base_uri": "https://localhost:8080/",
          "height": 34
        },
        "outputId": "d35cf54f-788d-4671-de4c-d0642ab25a1d"
      },
      "source": [
        "from scipy.stats import mode\n",
        "impute_sizes = data.pivot_table(values = 'Outlet_Size', index = ['Outlet_Type', 'Outlet_Location_Type'], aggfunc = (lambda x: mode(x).mode[0]))\n",
        "impute_sizes.loc[('Grocery Store', 'Tier 3')] = 'Small2'\n",
        "count = 0\n",
        "for i, row in data.loc[data['Outlet_Size'].isnull(), :].iterrows():\n",
        "  x = (row['Outlet_Type'], row['Outlet_Location_Type'])\n",
        "  if x in impute_sizes.index:\n",
        "    count += 1\n",
        "    data.loc[i,'Outlet_Size'] = impute_sizes.loc[x].values[0]\n",
        "print(\"IMPUTED VALUES\", count)"
      ],
      "execution_count": null,
      "outputs": [
        {
          "output_type": "stream",
          "text": [
            "IMPUTED VALUES 4016\n"
          ],
          "name": "stdout"
        }
      ]
    },
    {
      "cell_type": "code",
      "metadata": {
        "id": "RGOBx8oRRDU2",
        "colab_type": "code",
        "colab": {
          "base_uri": "https://localhost:8080/",
          "height": 34
        },
        "outputId": "3fbfeeda-0e38-428c-c2a0-ae7d09a92a58"
      },
      "source": [
        "impute_visibility = data.pivot_table(values = 'Item_Visibility', index = ['Item_Identifier'])\n",
        "count = 0\n",
        "for i, row in data.loc[data['Item_Visibility'] == 0, :].iterrows():\n",
        "  x = row['Item_Identifier']\n",
        "  if x in impute_visibility.index:\n",
        "    count += 1\n",
        "    data.loc[i,'Item_Visibility'] = impute_visibility.loc[x].values[0]\n",
        "print(\"IMPUTED VALUES\", count)"
      ],
      "execution_count": null,
      "outputs": [
        {
          "output_type": "stream",
          "text": [
            "IMPUTED VALUES 879\n"
          ],
          "name": "stdout"
        }
      ]
    },
    {
      "cell_type": "code",
      "metadata": {
        "id": "Lryo_LCsgJy5",
        "colab_type": "code",
        "colab": {
          "base_uri": "https://localhost:8080/",
          "height": 34
        },
        "outputId": "e1acd9e5-99cc-478d-c70f-40968b7760b6"
      },
      "source": [
        "data.loc[data['Item_Visibility'] == 0].shape"
      ],
      "execution_count": null,
      "outputs": [
        {
          "output_type": "execute_result",
          "data": {
            "text/plain": [
              "(0, 13)"
            ]
          },
          "metadata": {
            "tags": []
          },
          "execution_count": 7
        }
      ]
    },
    {
      "cell_type": "code",
      "metadata": {
        "id": "tN4svFOyZAKd",
        "colab_type": "code",
        "colab": {
          "base_uri": "https://localhost:8080/",
          "height": 170
        },
        "outputId": "0807cad4-bed7-474c-c75c-48670d88f758"
      },
      "source": [
        "data['Item_Visibility_MeanRatio'] = data.apply(lambda x: x['Item_Visibility'] / impute_visibility.loc[x['Item_Identifier']].values[0], axis=1)\n",
        "data['Item_Visibility_MeanRatio'].describe()"
      ],
      "execution_count": null,
      "outputs": [
        {
          "output_type": "execute_result",
          "data": {
            "text/plain": [
              "count    14204.000000\n",
              "mean         1.088248\n",
              "std          0.503002\n",
              "min          0.041552\n",
              "25%          0.924160\n",
              "50%          0.999070\n",
              "75%          1.055881\n",
              "max         14.575492\n",
              "Name: Item_Visibility_MeanRatio, dtype: float64"
            ]
          },
          "metadata": {
            "tags": []
          },
          "execution_count": 8
        }
      ]
    },
    {
      "cell_type": "code",
      "metadata": {
        "id": "5B8CfQErZPg9",
        "colab_type": "code",
        "colab": {
          "base_uri": "https://localhost:8080/",
          "height": 85
        },
        "outputId": "dfac0661-b20f-461c-d360-6a47c123a6f1"
      },
      "source": [
        "data['Item_Type_Combined'] = data['Item_Identifier'].apply(lambda x: x[0:2])\n",
        "#Rename them to more intuitive categories:\n",
        "data['Item_Type_Combined'] = data['Item_Type_Combined'].map({'FD':'Food',\n",
        "                                                             'NC':'Non-Consumable',\n",
        "                                                             'DR':'Drinks'})\n",
        "data['Item_Type_Combined'].value_counts()"
      ],
      "execution_count": null,
      "outputs": [
        {
          "output_type": "execute_result",
          "data": {
            "text/plain": [
              "Food              10201\n",
              "Non-Consumable     2686\n",
              "Drinks             1317\n",
              "Name: Item_Type_Combined, dtype: int64"
            ]
          },
          "metadata": {
            "tags": []
          },
          "execution_count": 9
        }
      ]
    },
    {
      "cell_type": "code",
      "metadata": {
        "id": "lSDXVnAxhm6b",
        "colab_type": "code",
        "colab": {
          "base_uri": "https://localhost:8080/",
          "height": 170
        },
        "outputId": "14214d96-2bbe-4b4b-8d36-035f8c3ce106"
      },
      "source": [
        "data['Outlet_Years'] = 2013 - data['Outlet_Establishment_Year']\n",
        "data['Outlet_Years'].describe()"
      ],
      "execution_count": null,
      "outputs": [
        {
          "output_type": "execute_result",
          "data": {
            "text/plain": [
              "count    14204.000000\n",
              "mean        15.169319\n",
              "std          8.371664\n",
              "min          4.000000\n",
              "25%          9.000000\n",
              "50%         14.000000\n",
              "75%         26.000000\n",
              "max         28.000000\n",
              "Name: Outlet_Years, dtype: float64"
            ]
          },
          "metadata": {
            "tags": []
          },
          "execution_count": 10
        }
      ]
    },
    {
      "cell_type": "code",
      "metadata": {
        "id": "cJT2d-QJhsb-",
        "colab_type": "code",
        "colab": {}
      },
      "source": [
        "data['Item_Fat_Content'] = data['Item_Fat_Content'].replace({'LF':'Low Fat',\n",
        "                                                             'reg':'Regular',\n",
        "                                                             'low fat':'Low Fat'})\n"
      ],
      "execution_count": null,
      "outputs": []
    },
    {
      "cell_type": "code",
      "metadata": {
        "id": "JPQpiWc6h8dH",
        "colab_type": "code",
        "colab": {
          "base_uri": "https://localhost:8080/",
          "height": 85
        },
        "outputId": "dcabece0-3db4-4157-bdcf-4db737497fb8"
      },
      "source": [
        "data.loc[data['Item_Type_Combined']==\"Non-Consumable\",'Item_Fat_Content'] = \"Non-Edible\"\n",
        "data['Item_Fat_Content'].value_counts()"
      ],
      "execution_count": null,
      "outputs": [
        {
          "output_type": "execute_result",
          "data": {
            "text/plain": [
              "Low Fat       6499\n",
              "Regular       5019\n",
              "Non-Edible    2686\n",
              "Name: Item_Fat_Content, dtype: int64"
            ]
          },
          "metadata": {
            "tags": []
          },
          "execution_count": 12
        }
      ]
    },
    {
      "cell_type": "code",
      "metadata": {
        "id": "GTUkQF7ZiH7-",
        "colab_type": "code",
        "colab": {}
      },
      "source": [
        "#One Hot Coding:\n",
        "from sklearn.preprocessing import LabelEncoder\n",
        "le = LabelEncoder()\n",
        "#New variable for outlet\n",
        "data['Outlet'] = le.fit_transform(data['Outlet_Identifier'])\n",
        "\n",
        "data = pd.get_dummies(data, columns=['Item_Fat_Content','Outlet_Location_Type','Outlet_Size','Outlet_Type',\n",
        "                              'Item_Type_Combined','Outlet'])"
      ],
      "execution_count": null,
      "outputs": []
    },
    {
      "cell_type": "code",
      "metadata": {
        "id": "lbBpV9GgiQ7Y",
        "colab_type": "code",
        "colab": {
          "base_uri": "https://localhost:8080/",
          "height": 680
        },
        "outputId": "eb685eb0-c40f-4405-ca30-1ccc0165f6ce"
      },
      "source": [
        "data.dtypes"
      ],
      "execution_count": null,
      "outputs": [
        {
          "output_type": "execute_result",
          "data": {
            "text/plain": [
              "Item_Identifier                       object\n",
              "Item_Weight                          float64\n",
              "Item_Visibility                      float64\n",
              "Item_Type                             object\n",
              "Item_MRP                             float64\n",
              "Outlet_Identifier                     object\n",
              "Outlet_Establishment_Year              int64\n",
              "Item_Outlet_Sales                    float64\n",
              "Source                                object\n",
              "Item_Visibility_MeanRatio            float64\n",
              "Outlet_Years                           int64\n",
              "Item_Fat_Content_Low Fat               uint8\n",
              "Item_Fat_Content_Non-Edible            uint8\n",
              "Item_Fat_Content_Regular               uint8\n",
              "Outlet_Location_Type_Tier 1            uint8\n",
              "Outlet_Location_Type_Tier 2            uint8\n",
              "Outlet_Location_Type_Tier 3            uint8\n",
              "Outlet_Size_High                       uint8\n",
              "Outlet_Size_Medium                     uint8\n",
              "Outlet_Size_Small                      uint8\n",
              "Outlet_Size_Small2                     uint8\n",
              "Outlet_Type_Grocery Store              uint8\n",
              "Outlet_Type_Supermarket Type1          uint8\n",
              "Outlet_Type_Supermarket Type2          uint8\n",
              "Outlet_Type_Supermarket Type3          uint8\n",
              "Item_Type_Combined_Drinks              uint8\n",
              "Item_Type_Combined_Food                uint8\n",
              "Item_Type_Combined_Non-Consumable      uint8\n",
              "Outlet_0                               uint8\n",
              "Outlet_1                               uint8\n",
              "Outlet_2                               uint8\n",
              "Outlet_3                               uint8\n",
              "Outlet_4                               uint8\n",
              "Outlet_5                               uint8\n",
              "Outlet_6                               uint8\n",
              "Outlet_7                               uint8\n",
              "Outlet_8                               uint8\n",
              "Outlet_9                               uint8\n",
              "dtype: object"
            ]
          },
          "metadata": {
            "tags": []
          },
          "execution_count": 14
        }
      ]
    },
    {
      "cell_type": "code",
      "metadata": {
        "id": "tDgqQSaDinrF",
        "colab_type": "code",
        "colab": {
          "base_uri": "https://localhost:8080/",
          "height": 179
        },
        "outputId": "305ab262-e1c4-4e94-da46-3aabb233b54b"
      },
      "source": [
        "data.head(3)"
      ],
      "execution_count": null,
      "outputs": [
        {
          "output_type": "execute_result",
          "data": {
            "text/html": [
              "<div>\n",
              "<style scoped>\n",
              "    .dataframe tbody tr th:only-of-type {\n",
              "        vertical-align: middle;\n",
              "    }\n",
              "\n",
              "    .dataframe tbody tr th {\n",
              "        vertical-align: top;\n",
              "    }\n",
              "\n",
              "    .dataframe thead th {\n",
              "        text-align: right;\n",
              "    }\n",
              "</style>\n",
              "<table border=\"1\" class=\"dataframe\">\n",
              "  <thead>\n",
              "    <tr style=\"text-align: right;\">\n",
              "      <th></th>\n",
              "      <th>Item_Identifier</th>\n",
              "      <th>Item_Weight</th>\n",
              "      <th>Item_Visibility</th>\n",
              "      <th>Item_Type</th>\n",
              "      <th>Item_MRP</th>\n",
              "      <th>Outlet_Identifier</th>\n",
              "      <th>Outlet_Establishment_Year</th>\n",
              "      <th>Item_Outlet_Sales</th>\n",
              "      <th>Source</th>\n",
              "      <th>Item_Visibility_MeanRatio</th>\n",
              "      <th>Outlet_Years</th>\n",
              "      <th>Item_Fat_Content_Low Fat</th>\n",
              "      <th>Item_Fat_Content_Non-Edible</th>\n",
              "      <th>Item_Fat_Content_Regular</th>\n",
              "      <th>Outlet_Location_Type_Tier 1</th>\n",
              "      <th>Outlet_Location_Type_Tier 2</th>\n",
              "      <th>Outlet_Location_Type_Tier 3</th>\n",
              "      <th>Outlet_Size_High</th>\n",
              "      <th>Outlet_Size_Medium</th>\n",
              "      <th>Outlet_Size_Small</th>\n",
              "      <th>Outlet_Size_Small2</th>\n",
              "      <th>Outlet_Type_Grocery Store</th>\n",
              "      <th>Outlet_Type_Supermarket Type1</th>\n",
              "      <th>Outlet_Type_Supermarket Type2</th>\n",
              "      <th>Outlet_Type_Supermarket Type3</th>\n",
              "      <th>Item_Type_Combined_Drinks</th>\n",
              "      <th>Item_Type_Combined_Food</th>\n",
              "      <th>Item_Type_Combined_Non-Consumable</th>\n",
              "      <th>Outlet_0</th>\n",
              "      <th>Outlet_1</th>\n",
              "      <th>Outlet_2</th>\n",
              "      <th>Outlet_3</th>\n",
              "      <th>Outlet_4</th>\n",
              "      <th>Outlet_5</th>\n",
              "      <th>Outlet_6</th>\n",
              "      <th>Outlet_7</th>\n",
              "      <th>Outlet_8</th>\n",
              "      <th>Outlet_9</th>\n",
              "    </tr>\n",
              "  </thead>\n",
              "  <tbody>\n",
              "    <tr>\n",
              "      <th>0</th>\n",
              "      <td>FDA15</td>\n",
              "      <td>9.30</td>\n",
              "      <td>0.016047</td>\n",
              "      <td>Dairy</td>\n",
              "      <td>249.8092</td>\n",
              "      <td>OUT049</td>\n",
              "      <td>1999</td>\n",
              "      <td>3735.1380</td>\n",
              "      <td>Train</td>\n",
              "      <td>0.931078</td>\n",
              "      <td>14</td>\n",
              "      <td>1</td>\n",
              "      <td>0</td>\n",
              "      <td>0</td>\n",
              "      <td>1</td>\n",
              "      <td>0</td>\n",
              "      <td>0</td>\n",
              "      <td>0</td>\n",
              "      <td>1</td>\n",
              "      <td>0</td>\n",
              "      <td>0</td>\n",
              "      <td>0</td>\n",
              "      <td>1</td>\n",
              "      <td>0</td>\n",
              "      <td>0</td>\n",
              "      <td>0</td>\n",
              "      <td>1</td>\n",
              "      <td>0</td>\n",
              "      <td>0</td>\n",
              "      <td>0</td>\n",
              "      <td>0</td>\n",
              "      <td>0</td>\n",
              "      <td>0</td>\n",
              "      <td>0</td>\n",
              "      <td>0</td>\n",
              "      <td>0</td>\n",
              "      <td>0</td>\n",
              "      <td>1</td>\n",
              "    </tr>\n",
              "    <tr>\n",
              "      <th>1</th>\n",
              "      <td>DRC01</td>\n",
              "      <td>5.92</td>\n",
              "      <td>0.019278</td>\n",
              "      <td>Soft Drinks</td>\n",
              "      <td>48.2692</td>\n",
              "      <td>OUT018</td>\n",
              "      <td>2009</td>\n",
              "      <td>443.4228</td>\n",
              "      <td>Train</td>\n",
              "      <td>0.933420</td>\n",
              "      <td>4</td>\n",
              "      <td>0</td>\n",
              "      <td>0</td>\n",
              "      <td>1</td>\n",
              "      <td>0</td>\n",
              "      <td>0</td>\n",
              "      <td>1</td>\n",
              "      <td>0</td>\n",
              "      <td>0</td>\n",
              "      <td>1</td>\n",
              "      <td>0</td>\n",
              "      <td>0</td>\n",
              "      <td>0</td>\n",
              "      <td>1</td>\n",
              "      <td>0</td>\n",
              "      <td>1</td>\n",
              "      <td>0</td>\n",
              "      <td>0</td>\n",
              "      <td>0</td>\n",
              "      <td>0</td>\n",
              "      <td>0</td>\n",
              "      <td>1</td>\n",
              "      <td>0</td>\n",
              "      <td>0</td>\n",
              "      <td>0</td>\n",
              "      <td>0</td>\n",
              "      <td>0</td>\n",
              "      <td>0</td>\n",
              "    </tr>\n",
              "    <tr>\n",
              "      <th>2</th>\n",
              "      <td>FDN15</td>\n",
              "      <td>17.50</td>\n",
              "      <td>0.016760</td>\n",
              "      <td>Meat</td>\n",
              "      <td>141.6180</td>\n",
              "      <td>OUT049</td>\n",
              "      <td>1999</td>\n",
              "      <td>2097.2700</td>\n",
              "      <td>Train</td>\n",
              "      <td>0.960069</td>\n",
              "      <td>14</td>\n",
              "      <td>1</td>\n",
              "      <td>0</td>\n",
              "      <td>0</td>\n",
              "      <td>1</td>\n",
              "      <td>0</td>\n",
              "      <td>0</td>\n",
              "      <td>0</td>\n",
              "      <td>0</td>\n",
              "      <td>0</td>\n",
              "      <td>1</td>\n",
              "      <td>0</td>\n",
              "      <td>1</td>\n",
              "      <td>0</td>\n",
              "      <td>0</td>\n",
              "      <td>0</td>\n",
              "      <td>1</td>\n",
              "      <td>0</td>\n",
              "      <td>0</td>\n",
              "      <td>0</td>\n",
              "      <td>0</td>\n",
              "      <td>0</td>\n",
              "      <td>0</td>\n",
              "      <td>0</td>\n",
              "      <td>0</td>\n",
              "      <td>0</td>\n",
              "      <td>0</td>\n",
              "      <td>1</td>\n",
              "    </tr>\n",
              "  </tbody>\n",
              "</table>\n",
              "</div>"
            ],
            "text/plain": [
              "  Item_Identifier  Item_Weight  Item_Visibility  ... Outlet_7  Outlet_8 Outlet_9\n",
              "0           FDA15         9.30         0.016047  ...        0         0        1\n",
              "1           DRC01         5.92         0.019278  ...        0         0        0\n",
              "2           FDN15        17.50         0.016760  ...        0         0        1\n",
              "\n",
              "[3 rows x 38 columns]"
            ]
          },
          "metadata": {
            "tags": []
          },
          "execution_count": 15
        }
      ]
    },
    {
      "cell_type": "code",
      "metadata": {
        "id": "wWLcjEtoiwZ4",
        "colab_type": "code",
        "colab": {
          "base_uri": "https://localhost:8080/",
          "height": 102
        },
        "outputId": "8d50472d-e10c-4798-c501-6e50dbbd99ce"
      },
      "source": [
        "data.drop(['Item_Type','Outlet_Establishment_Year'],axis=1,inplace=True)\n",
        "\n",
        "#Divide into test and train:\n",
        "train = data.loc[data['Source']==\"Train\"]\n",
        "test = data.loc[data['Source']==\"Test\"]\n",
        "\n",
        "#Drop unnecessary columns:\n",
        "test.drop(['Item_Outlet_Sales','Source'],axis=1,inplace=True)\n",
        "train.drop(['Source'],axis=1,inplace=True)\n",
        "\n",
        "#Export files as modified versions:\n",
        "train.to_csv(\"train_modified.csv\",index=False)\n",
        "test.to_csv(\"test_modified.csv\",index=False)"
      ],
      "execution_count": null,
      "outputs": [
        {
          "output_type": "stream",
          "text": [
            "/usr/local/lib/python3.6/dist-packages/pandas/core/frame.py:3997: SettingWithCopyWarning: \n",
            "A value is trying to be set on a copy of a slice from a DataFrame\n",
            "\n",
            "See the caveats in the documentation: https://pandas.pydata.org/pandas-docs/stable/user_guide/indexing.html#returning-a-view-versus-a-copy\n",
            "  errors=errors,\n"
          ],
          "name": "stderr"
        }
      ]
    },
    {
      "cell_type": "code",
      "metadata": {
        "id": "539FNHKkjfaS",
        "colab_type": "code",
        "colab": {}
      },
      "source": [
        "target = 'Item_Outlet_Sales'\n",
        "idcols = ['Item_Identifier','Outlet_Identifier']\n",
        "predictors = [ele for ele in train.columns if ele not in [target] + idcols]"
      ],
      "execution_count": null,
      "outputs": []
    },
    {
      "cell_type": "code",
      "metadata": {
        "id": "hqhL1jI_p-QQ",
        "colab_type": "code",
        "colab": {}
      },
      "source": [
        "from sklearn import metrics, model_selection\n",
        "def model_fit(alg, train, test, predictors, target, idcols, filename):\n",
        "\n",
        "  idocls = idcols\n",
        "  alg.fit(train[predictors], train[target])\n",
        "  train_predictions = alg.predict(train[predictors])\n",
        "\n",
        "  cv_score = model_selection.cross_val_score(alg, train[predictors], train[target], cv = 20, scoring = 'neg_mean_squared_error')\n",
        "  cv_score = np.sqrt(np.abs(cv_score))\n",
        "\n",
        "  print(\"Model Report\")\n",
        "  print(\"RMSE On Train\", np.sqrt(np.abs(metrics.mean_squared_error(train[target], train_predictions))))\n",
        "\n",
        "  print(\"CV Score - Mean {} | Standard Deviation {} | Min {} | Max {}\".format(np.mean(cv_score), np.std(cv_score), np.min(cv_score), np.max(cv_score)))\n",
        "\n",
        "  test[target] = alg.predict(test[predictors])\n",
        "  test[target] = np.abs(test[target])\n",
        "  submission = pd.DataFrame({ ele: test[ele] for ele in idcols + [target]})\n",
        "  submission.to_csv(filename, index=False)"
      ],
      "execution_count": null,
      "outputs": []
    },
    {
      "cell_type": "code",
      "metadata": {
        "id": "r0f372IHqBJA",
        "colab_type": "code",
        "colab": {
          "base_uri": "https://localhost:8080/",
          "height": 637
        },
        "outputId": "e1f71b82-bfe3-421c-9df9-834af8aba855"
      },
      "source": [
        "from sklearn.linear_model import LinearRegression, Ridge, Lasso\n",
        "# print predictors\n",
        "alg1 = LinearRegression(normalize=True)\n",
        "model_fit(alg1, train, test, predictors, target, idcols, 'alg1.csv')\n",
        "coef1 = pd.Series(alg1.coef_, predictors).sort_values()\n",
        "coef1.plot(kind='bar', title='Model Coefficients')"
      ],
      "execution_count": null,
      "outputs": [
        {
          "output_type": "stream",
          "text": [
            "Model Report\n",
            "RMSE On Train 1127.0862236691783\n",
            "CV Score - Mean 1129.0154951647232 | Standard Deviation 43.57431745469792 | Min 1075.718304165889 | Max 1212.6731768823697\n"
          ],
          "name": "stdout"
        },
        {
          "output_type": "stream",
          "text": [
            "/usr/local/lib/python3.6/dist-packages/ipykernel_launcher.py:16: SettingWithCopyWarning: \n",
            "A value is trying to be set on a copy of a slice from a DataFrame.\n",
            "Try using .loc[row_indexer,col_indexer] = value instead\n",
            "\n",
            "See the caveats in the documentation: https://pandas.pydata.org/pandas-docs/stable/user_guide/indexing.html#returning-a-view-versus-a-copy\n",
            "  app.launch_new_instance()\n"
          ],
          "name": "stderr"
        },
        {
          "output_type": "execute_result",
          "data": {
            "text/plain": [
              "<matplotlib.axes._subplots.AxesSubplot at 0x7fcc77206828>"
            ]
          },
          "metadata": {
            "tags": []
          },
          "execution_count": 21
        },
        {
          "output_type": "display_data",
          "data": {
            "image/png": "[encoded data removed]",
            "text/plain": [
              "<Figure size 432x288 with 1 Axes>"
            ]
          },
          "metadata": {
            "tags": [],
            "needs_background": "light"
          }
        }
      ]
    },
    {
      "cell_type": "code",
      "metadata": {
        "id": "DkP9UpcxqH44",
        "colab_type": "code",
        "colab": {
          "base_uri": "https://localhost:8080/",
          "height": 637
        },
        "outputId": "18863f1f-ef92-4fc9-a702-2a54748570d7"
      },
      "source": [
        "alg2 = Ridge(alpha=0.05,normalize=True)\n",
        "model_fit(alg2, train, test, predictors, target, idcols, 'alg2.csv')\n",
        "coef2 = pd.Series(alg2.coef_, predictors).sort_values()\n",
        "coef2.plot(kind='bar', title='Model Coefficients')"
      ],
      "execution_count": null,
      "outputs": [
        {
          "output_type": "stream",
          "text": [
            "Model Report\n",
            "RMSE On Train 1128.2943486560173\n",
            "CV Score - Mean 1129.8475742263984 | Standard Deviation 44.603686107108594 | Min 1075.9663261840399 | Max 1216.4551785804297\n"
          ],
          "name": "stdout"
        },
        {
          "output_type": "stream",
          "text": [
            "/usr/local/lib/python3.6/dist-packages/ipykernel_launcher.py:16: SettingWithCopyWarning: \n",
            "A value is trying to be set on a copy of a slice from a DataFrame.\n",
            "Try using .loc[row_indexer,col_indexer] = value instead\n",
            "\n",
            "See the caveats in the documentation: https://pandas.pydata.org/pandas-docs/stable/user_guide/indexing.html#returning-a-view-versus-a-copy\n",
            "  app.launch_new_instance()\n"
          ],
          "name": "stderr"
        },
        {
          "output_type": "execute_result",
          "data": {
            "text/plain": [
              "<matplotlib.axes._subplots.AxesSubplot at 0x7fcc770e2c50>"
            ]
          },
          "metadata": {
            "tags": []
          },
          "execution_count": 24
        },
        {
          "output_type": "display_data",
          "data": {
            "image/png": "[encoded data removed]",
            "text/plain": [
              "<Figure size 432x288 with 1 Axes>"
            ]
          },
          "metadata": {
            "tags": [],
            "needs_background": "light"
          }
        }
      ]
    },
    {
      "cell_type": "code",
      "metadata": {
        "id": "lZaf65_oqucb",
        "colab_type": "code",
        "colab": {
          "base_uri": "https://localhost:8080/",
          "height": 637
        },
        "outputId": "49796b60-be97-4618-cb63-7e5385ad60aa"
      },
      "source": [
        "from sklearn.tree import DecisionTreeRegressor\n",
        "predictors = [x for x in train.columns if x not in [target]+idcols]\n",
        "alg3 = DecisionTreeRegressor(max_depth=15, min_samples_leaf=100)\n",
        "model_fit(alg3, train, test, predictors, target, idcols, 'alg3.csv')\n",
        "coef3 = pd.Series(alg3.feature_importances_, predictors).sort_values(ascending=False)\n",
        "coef3.plot(kind='bar', title='Feature Importances')"
      ],
      "execution_count": null,
      "outputs": [
        {
          "output_type": "stream",
          "text": [
            "Model Report\n",
            "RMSE On Train 1057.7284245217386\n",
            "CV Score - Mean 1092.3321638182606 | Standard Deviation 45.389096879027434 | Min 1010.6392702746468 | Max 1183.5608675645485\n"
          ],
          "name": "stdout"
        },
        {
          "output_type": "stream",
          "text": [
            "/usr/local/lib/python3.6/dist-packages/ipykernel_launcher.py:16: SettingWithCopyWarning: \n",
            "A value is trying to be set on a copy of a slice from a DataFrame.\n",
            "Try using .loc[row_indexer,col_indexer] = value instead\n",
            "\n",
            "See the caveats in the documentation: https://pandas.pydata.org/pandas-docs/stable/user_guide/indexing.html#returning-a-view-versus-a-copy\n",
            "  app.launch_new_instance()\n"
          ],
          "name": "stderr"
        },
        {
          "output_type": "execute_result",
          "data": {
            "text/plain": [
              "<matplotlib.axes._subplots.AxesSubplot at 0x7fcc758206d8>"
            ]
          },
          "metadata": {
            "tags": []
          },
          "execution_count": 25
        },
        {
          "output_type": "display_data",
          "data": {
            "image/png": "[encoded data removed]",
            "text/plain": [
              "<Figure size 432x288 with 1 Axes>"
            ]
          },
          "metadata": {
            "tags": [],
            "needs_background": "light"
          }
        }
      ]
    },
    {
      "cell_type": "code",
      "metadata": {
        "id": "rWpN-cNdrICh",
        "colab_type": "code",
        "colab": {
          "base_uri": "https://localhost:8080/",
          "height": 637
        },
        "outputId": "0e76d64a-9f74-4225-e7e9-27847a9f546b"
      },
      "source": [
        "from sklearn.ensemble import RandomForestRegressor\n",
        "predictors = [x for x in train.columns if x not in [target]+idcols]\n",
        "alg6 = RandomForestRegressor(n_estimators=400,max_depth=6, min_samples_leaf=100,n_jobs=4)\n",
        "model_fit(alg6, train, test, predictors, target, idcols, 'alg6.csv')\n",
        "coef6 = pd.Series(alg6.feature_importances_, predictors).sort_values(ascending=False)\n",
        "coef6.plot(kind='bar', title='Feature Importances')"
      ],
      "execution_count": null,
      "outputs": [
        {
          "output_type": "stream",
          "text": [
            "Model Report\n",
            "RMSE On Train 1068.0118862996194\n",
            "CV Score - Mean 1082.6842885576286 | Standard Deviation 43.776972546096836 | Min 1019.7208454489869 | Max 1162.3570524186769\n"
          ],
          "name": "stdout"
        },
        {
          "output_type": "stream",
          "text": [
            "/usr/local/lib/python3.6/dist-packages/ipykernel_launcher.py:16: SettingWithCopyWarning: \n",
            "A value is trying to be set on a copy of a slice from a DataFrame.\n",
            "Try using .loc[row_indexer,col_indexer] = value instead\n",
            "\n",
            "See the caveats in the documentation: https://pandas.pydata.org/pandas-docs/stable/user_guide/indexing.html#returning-a-view-versus-a-copy\n",
            "  app.launch_new_instance()\n"
          ],
          "name": "stderr"
        },
        {
          "output_type": "execute_result",
          "data": {
            "text/plain": [
              "<matplotlib.axes._subplots.AxesSubplot at 0x7fcc7485fda0>"
            ]
          },
          "metadata": {
            "tags": []
          },
          "execution_count": 33
        },
        {
          "output_type": "display_data",
          "data": {
            "image/png": "[encoded data removed]",
            "text/plain": [
              "<Figure size 432x288 with 1 Axes>"
            ]
          },
          "metadata": {
            "tags": [],
            "needs_background": "light"
          }
        }
      ]
    },
    {
      "cell_type": "code",
      "metadata": {
        "id": "u-vgHLcbQdqJ",
        "colab_type": "code",
        "colab": {
          "base_uri": "https://localhost:8080/",
          "height": 612
        },
        "outputId": "caf7e9cb-22bd-4b35-e52f-625bc7ce7139"
      },
      "source": [
        "import xgboost as xgb\n",
        "alg15 = xgb.XGBRegressor(learning_rate = 0.05, n_estimators = 100, reg_lambda = 10, gamma=0, max_depth=3)\n",
        "\n",
        "predictors = [x for x in train.columns if x not in [target]+idcols]\n",
        "\n",
        "model_fit(alg15, train, test, predictors, target, idcols, 'alg15.csv')"
      ],
      "execution_count": null,
      "outputs": [
        {
          "output_type": "stream",
          "text": [
            "[09:08:29] WARNING: /workspace/src/objective/regression_obj.cu:152: reg:linear is now deprecated in favor of reg:squarederror.\n",
            "[09:08:30] WARNING: /workspace/src/objective/regression_obj.cu:152: reg:linear is now deprecated in favor of reg:squarederror.\n",
            "[09:08:31] WARNING: /workspace/src/objective/regression_obj.cu:152: reg:linear is now deprecated in favor of reg:squarederror.\n",
            "[09:08:31] WARNING: /workspace/src/objective/regression_obj.cu:152: reg:linear is now deprecated in favor of reg:squarederror.\n",
            "[09:08:32] WARNING: /workspace/src/objective/regression_obj.cu:152: reg:linear is now deprecated in favor of reg:squarederror.\n",
            "[09:08:33] WARNING: /workspace/src/objective/regression_obj.cu:152: reg:linear is now deprecated in favor of reg:squarederror.\n",
            "[09:08:34] WARNING: /workspace/src/objective/regression_obj.cu:152: reg:linear is now deprecated in favor of reg:squarederror.\n",
            "[09:08:34] WARNING: /workspace/src/objective/regression_obj.cu:152: reg:linear is now deprecated in favor of reg:squarederror.\n",
            "[09:08:35] WARNING: /workspace/src/objective/regression_obj.cu:152: reg:linear is now deprecated in favor of reg:squarederror.\n",
            "[09:08:36] WARNING: /workspace/src/objective/regression_obj.cu:152: reg:linear is now deprecated in favor of reg:squarederror.\n",
            "[09:08:36] WARNING: /workspace/src/objective/regression_obj.cu:152: reg:linear is now deprecated in favor of reg:squarederror.\n",
            "[09:08:37] WARNING: /workspace/src/objective/regression_obj.cu:152: reg:linear is now deprecated in favor of reg:squarederror.\n",
            "[09:08:38] WARNING: /workspace/src/objective/regression_obj.cu:152: reg:linear is now deprecated in favor of reg:squarederror.\n",
            "[09:08:39] WARNING: /workspace/src/objective/regression_obj.cu:152: reg:linear is now deprecated in favor of reg:squarederror.\n",
            "[09:08:39] WARNING: /workspace/src/objective/regression_obj.cu:152: reg:linear is now deprecated in favor of reg:squarederror.\n",
            "[09:08:40] WARNING: /workspace/src/objective/regression_obj.cu:152: reg:linear is now deprecated in favor of reg:squarederror.\n",
            "[09:08:41] WARNING: /workspace/src/objective/regression_obj.cu:152: reg:linear is now deprecated in favor of reg:squarederror.\n",
            "[09:08:41] WARNING: /workspace/src/objective/regression_obj.cu:152: reg:linear is now deprecated in favor of reg:squarederror.\n",
            "[09:08:42] WARNING: /workspace/src/objective/regression_obj.cu:152: reg:linear is now deprecated in favor of reg:squarederror.\n",
            "[09:08:43] WARNING: /workspace/src/objective/regression_obj.cu:152: reg:linear is now deprecated in favor of reg:squarederror.\n",
            "[09:08:44] WARNING: /workspace/src/objective/regression_obj.cu:152: reg:linear is now deprecated in favor of reg:squarederror.\n",
            "Model Report\n",
            "RMSE On Train 1057.1807166365165\n",
            "CV Score - Mean 1077.6369080733493 | Standard Deviation 45.34364796581799 | Min 1005.8225620629287 | Max 1164.7942882387813\n"
          ],
          "name": "stdout"
        },
        {
          "output_type": "stream",
          "text": [
            "/usr/local/lib/python3.6/dist-packages/ipykernel_launcher.py:16: SettingWithCopyWarning: \n",
            "A value is trying to be set on a copy of a slice from a DataFrame.\n",
            "Try using .loc[row_indexer,col_indexer] = value instead\n",
            "\n",
            "See the caveats in the documentation: https://pandas.pydata.org/pandas-docs/stable/user_guide/indexing.html#returning-a-view-versus-a-copy\n",
            "  app.launch_new_instance()\n",
            "/usr/local/lib/python3.6/dist-packages/ipykernel_launcher.py:17: SettingWithCopyWarning: \n",
            "A value is trying to be set on a copy of a slice from a DataFrame.\n",
            "Try using .loc[row_indexer,col_indexer] = value instead\n",
            "\n",
            "See the caveats in the documentation: https://pandas.pydata.org/pandas-docs/stable/user_guide/indexing.html#returning-a-view-versus-a-copy\n"
          ],
          "name": "stderr"
        }
      ]
    },
    {
      "cell_type": "code",
      "metadata": {
        "id": "qPo599bWU04A",
        "colab_type": "code",
        "colab": {}
      },
      "source": [
        ""
      ],
      "execution_count": null,
      "outputs": []
    }
  ]
}