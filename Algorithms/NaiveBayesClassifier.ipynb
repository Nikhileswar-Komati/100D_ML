{
  "nbformat": 4,
  "nbformat_minor": 0,
  "metadata": {
    "colab": {
      "name": "NaiveBayesClassifier.ipynb",
      "provenance": [],
      "authorship_tag": "ABX9TyMIEFEJOTg9hmwoXLkStxpW",
      "include_colab_link": true
    },
    "kernelspec": {
      "name": "python3",
      "display_name": "Python 3"
    }
  },
  "cells": [
    {
      "cell_type": "markdown",
      "metadata": {
        "id": "view-in-github",
        "colab_type": "text"
      },
      "source": [
        "<a href=\"https://colab.research.google.com/github/Nikhileswar-Komati/100D_ML/blob/master/Algorithms/NaiveBayesClassifier.ipynb\" target=\"_parent\"><img src=\"https://colab.research.google.com/assets/colab-badge.svg\" alt=\"Open In Colab\"/></a>"
      ]
    },
    {
      "cell_type": "code",
      "metadata": {
        "id": "9e2hZnVuOtQO",
        "colab_type": "code",
        "colab": {}
      },
      "source": [
        "import numpy as np\n",
        "import pandas as pd\n",
        "import re\n",
        "from collections import defaultdict"
      ],
      "execution_count": null,
      "outputs": []
    },
    {
      "cell_type": "code",
      "metadata": {
        "id": "QYHD7vlBT9og",
        "colab_type": "code",
        "colab": {}
      },
      "source": [
        "text = \"Hello, Stupid:: idiot!\"\n",
        "def preprocess(string):\n",
        "  processed_string = re.sub('[^a-z]+', ' ', string, flags=re.IGNORECASE)\n",
        "  processed_string = re.sub('(\\s+)', ' ', processed_string)\n",
        "  processed_string = processed_string.lower()\n",
        "  return processed_string"
      ],
      "execution_count": null,
      "outputs": []
    },
    {
      "cell_type": "code",
      "metadata": {
        "id": "onqIB4GMq8Gu",
        "colab_type": "code",
        "colab": {
          "base_uri": "https://localhost:8080/",
          "height": 34
        },
        "outputId": "5e6c8bdd-7c7f-4b76-b10e-b60941febde8"
      },
      "source": [
        "print(preprocess(text))"
      ],
      "execution_count": null,
      "outputs": [
        {
          "output_type": "stream",
          "text": [
            "hello stupid idiot \n"
          ],
          "name": "stdout"
        }
      ]
    },
    {
      "cell_type": "code",
      "metadata": {
        "id": "yhpMb4kZrBY9",
        "colab_type": "code",
        "colab": {
          "base_uri": "https://localhost:8080/",
          "height": 34
        },
        "outputId": "9c2b8d65-c4eb-4f4e-ce94-bfa3343fd4f1"
      },
      "source": [
        "arr = np.array([defaultdict(lambda:0) for _ in range(5)])\n",
        "arr[0][1] += 5\n",
        "arr[0][100] += 1000\n",
        "li = []\n",
        "li += arr[0].keys()\n",
        "arr[1][1] += 2000\n",
        "li +=  arr[1].keys()\n",
        "li"
      ],
      "execution_count": 42,
      "outputs": [
        {
          "output_type": "execute_result",
          "data": {
            "text/plain": [
              "[1, 100, 1]"
            ]
          },
          "metadata": {
            "tags": []
          },
          "execution_count": 42
        }
      ]
    },
    {
      "cell_type": "code",
      "metadata": {
        "id": "xuhhQSdUyCkr",
        "colab_type": "code",
        "colab": {}
      },
      "source": [
        "class NaiveBayesFromScratch:\n",
        "\n",
        "  def __init__(self, unq_classes_count):\n",
        "    self.unq_classes_count = unq_classes_count\n",
        "\n",
        "  #example refers to one sample or one observation .. the class_label is used to create bag of words for particular class\n",
        "  def bag_of_words(self, example, class_label_indx):\n",
        "    #if example is a numpy array retreve example[0]\n",
        "    if isinstance(example, np.ndarray):\n",
        "      example = example[0]\n",
        "\n",
        "    for word in example.split():\n",
        "      self.bow_dict[class_label_indx][word] += 1\n",
        "\n",
        "  def fit(self, data, labels):\n",
        "\n",
        "    self.data = data\n",
        "    self.labels = labels\n",
        "    self.bow_dict = np.array([defaultdict(lambda: 0) for _ in range(self.unq_classes_count)])\n",
        "    self.unq_classes = np.unique(self.labels)\n",
        "\n",
        "    if not isinstance(self.data, np.ndarray):\n",
        "      self.data = np.array(self.data)\n",
        "    if not isinstance(self.labels, np.ndarray):\n",
        "      self.labels = np.array(self.labels)\n",
        "\n",
        "    for cat_indx, cat in enumerate(self.unq_classes):\n",
        "      particular_cat_data = self.data[self.labels = cat]\n",
        "      cleaned_particular_cat_data = [preprocess(ele) for ele in particular_cat_data]\n",
        "      cleaned_particular_cat_data = pd.DataFrame(data=cleaned_particular_cat_data)\n",
        "      np.apply_along_axis(self.addToBow,1,cleaned_particular_cat_data,cat_indx)\n",
        "\n",
        "    prob_classes = np.zeros(self.unq_classes_count)\n",
        "    words_in_each_class = np.zeros(self.unq_classes_count)\n",
        "    all_words = []\n",
        "\n",
        "    for cat_indx, cat in enumerate(self.unq_classes):\n",
        "      prob_classes[cat_indx] = np.sum(self.labels == cat) / (self.unq_classes_count)\n",
        "      words_in_each_class[cat_indx] = np.sum(np.array(list(self.bow_dict[cat_indx].values + 1)))\n",
        "      all_words += self.bow_dict[cat_indx].keys()\n",
        "\n",
        "    self.vocab = np.unique(np.array(all_words))\n",
        "    self.vocab_size = self.vocab.size[0]\n",
        "    denom_for_each_class = np.array([words_in_each_class[cat_indx] + self.vocab_size + 1 for cat_indx in range(self.unq_classes_count)])\n",
        "\n",
        "    self.cats_info = np.array([(self.bow_dict[cat_indx], prob_classes[cat_indx], denom_for_each_class[cat_indx]) for cat_indx in range(self.unq_classes_count)])\n",
        "    \n",
        "\n",
        "\n",
        "\n",
        "\n"
      ],
      "execution_count": null,
      "outputs": []
    },
    {
      "cell_type": "code",
      "metadata": {
        "id": "Zgiz6p4098qF",
        "colab_type": "code",
        "colab": {
          "base_uri": "https://localhost:8080/",
          "height": 34
        },
        "outputId": "a3b70dfe-0498-43b8-aa45-74fa3083ced4"
      },
      "source": [
        "print(2/3)"
      ],
      "execution_count": 34,
      "outputs": [
        {
          "output_type": "stream",
          "text": [
            "0.6666666666666666\n"
          ],
          "name": "stdout"
        }
      ]
    },
    {
      "cell_type": "code",
      "metadata": {
        "id": "s58v9nvE9-Dg",
        "colab_type": "code",
        "colab": {}
      },
      "source": [
        ""
      ],
      "execution_count": null,
      "outputs": []
    }
  ]
}