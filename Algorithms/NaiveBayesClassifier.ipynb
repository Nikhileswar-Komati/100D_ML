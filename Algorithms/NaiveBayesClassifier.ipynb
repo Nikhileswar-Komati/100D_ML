{
  "nbformat": 4,
  "nbformat_minor": 0,
  "metadata": {
    "colab": {
      "name": "NaiveBayesClassifier.ipynb",
      "provenance": [],
      "authorship_tag": "ABX9TyMXiXP8etQ0uIY1/aOWBB2C",
      "include_colab_link": true
    },
    "kernelspec": {
      "name": "python3",
      "display_name": "Python 3"
    }
  },
  "cells": [
    {
      "cell_type": "markdown",
      "metadata": {
        "id": "view-in-github",
        "colab_type": "text"
      },
      "source": [
        "<a href=\"https://colab.research.google.com/github/Nikhileswar-Komati/100D_ML/blob/master/Algorithms/NaiveBayesClassifier.ipynb\" target=\"_parent\"><img src=\"https://colab.research.google.com/assets/colab-badge.svg\" alt=\"Open In Colab\"/></a>"
      ]
    },
    {
      "cell_type": "code",
      "metadata": {
        "id": "9e2hZnVuOtQO",
        "colab_type": "code",
        "colab": {}
      },
      "source": [
        "import numpy as np\n",
        "import pandas as pd\n",
        "import re\n",
        "from collections import defaultdict"
      ],
      "execution_count": 1,
      "outputs": []
    },
    {
      "cell_type": "code",
      "metadata": {
        "id": "QYHD7vlBT9og",
        "colab_type": "code",
        "colab": {}
      },
      "source": [
        "text = \"Hello, Stupid:: idiot!\"\n",
        "def preprocess(string):\n",
        "  processed_string = re.sub('[^a-z]+', ' ', string, flags=re.IGNORECASE)\n",
        "  processed_string = re.sub('(\\s+)', ' ', processed_string)\n",
        "  processed_string = processed_string.lower()\n",
        "  return processed_string"
      ],
      "execution_count": 2,
      "outputs": []
    },
    {
      "cell_type": "code",
      "metadata": {
        "id": "onqIB4GMq8Gu",
        "colab_type": "code",
        "colab": {
          "base_uri": "https://localhost:8080/",
          "height": 34
        },
        "outputId": "48c62523-4d0f-4a5b-e9df-d01c567bd479"
      },
      "source": [
        "print(preprocess(text))"
      ],
      "execution_count": 3,
      "outputs": [
        {
          "output_type": "stream",
          "text": [
            "hello stupid idiot \n"
          ],
          "name": "stdout"
        }
      ]
    },
    {
      "cell_type": "code",
      "metadata": {
        "id": "xuhhQSdUyCkr",
        "colab_type": "code",
        "colab": {}
      },
      "source": [
        "class NaiveBayesFromScratch:\n",
        "\n",
        "  def __init__(self, unq_classes_count):\n",
        "    self.unq_classes_count = unq_classes_count\n",
        "\n",
        "  #example refers to one sample or one observation .. the class_label is used to create bag of words for particular class\n",
        "  def bag_of_words(self, example, class_label_indx):\n",
        "    #if example is a numpy array retreve example[0]\n",
        "    if isinstance(example, np.ndarray):\n",
        "      example = example[0]\n",
        "\n",
        "    for word in example.split():\n",
        "      self.bow_dict[class_label_indx][word] += 1\n",
        "\n",
        "  def fit(self, data, labels):\n",
        "\n",
        "    self.data = data\n",
        "    self.labels = labels\n",
        "    self.bow_dict = np.array([defaultdict(lambda: 0) for _ in range(self.unq_classes_count)])\n",
        "    self.unq_classes = np.unique(self.labels)\n",
        "\n",
        "    if not isinstance(self.data, np.ndarray):\n",
        "      self.data = np.array(self.data)\n",
        "    if not isinstance(self.labels, np.ndarray):\n",
        "      self.labels = np.array(self.labels)\n",
        "\n",
        "    for cat_indx, cat in enumerate(self.unq_classes):\n",
        "      particular_cat_data = self.data[self.labels == cat]\n",
        "      cleaned_particular_cat_data = [preprocess(ele) for ele in particular_cat_data]\n",
        "      cleaned_particular_cat_data = pd.DataFrame(data=cleaned_particular_cat_data)\n",
        "      np.apply_along_axis(self.bag_of_words, 1, cleaned_particular_cat_data, cat_indx)\n",
        "\n",
        "    prob_classes = np.zeros(self.unq_classes_count)\n",
        "    words_in_each_class = np.zeros(self.unq_classes_count)\n",
        "    all_words = []\n",
        "\n",
        "    for cat_indx, cat in enumerate(self.unq_classes):\n",
        "      prob_classes[cat_indx] = np.sum(self.labels == cat) / (self.unq_classes_count)\n",
        "      words_in_each_class[cat_indx] = np.sum(np.array(list(self.bow_dict[cat_indx].values()))) + 1\n",
        "      all_words += self.bow_dict[cat_indx].keys()\n",
        "\n",
        "    self.vocab = np.unique(np.array(all_words))\n",
        "    self.vocab_size = self.vocab.shape[0]\n",
        "    denom_for_each_class = np.array([words_in_each_class[cat_indx] + self.vocab_size + 1 for cat_indx in range(self.unq_classes_count)])\n",
        "\n",
        "    self.cats_info = np.array([(self.bow_dict[cat_indx], prob_classes[cat_indx], denom_for_each_class[cat_indx]) for cat_indx in range(self.unq_classes_count)])\n",
        "  \n",
        "  def get_prob_for_example(self, example):\n",
        "    likelihood_prob = np.zeros(self.unq_classes_count)\n",
        "    for cat_indx in range(self.unq_classes_count):\n",
        "      for test_token in example.split():\n",
        "        test_token_counts = self.cats_info[cat_indx][0].get(test_token, 0) + 1\n",
        "        #now get likelihood of this test_token word                              \n",
        "        test_token_prob = test_token_counts/float(self.cats_info[cat_indx][2])                              \n",
        "                \n",
        "        #remember why taking log? To prevent underflow!\n",
        "        likelihood_prob[cat_indx] += np.log(test_token_prob)\n",
        "\n",
        "    post_prob = np.zeros(self.unq_classes_count)\n",
        "    for cat_indx in range(self.unq_classes_count):\n",
        "      post_prob[cat_indx] = likelihood_prob[cat_indx] + np.log(self.cats_info[cat_indx][1])                                  \n",
        "      \n",
        "    return post_prob\n",
        "\n",
        "  def predict(self, test_data):\n",
        "    predictions=[] #to store prediction of each test example\n",
        "    for example in test_data: \n",
        "      #preprocess the test example the same way we did for training set exampels                                  \n",
        "      cleaned_example = preprocess(example) \n",
        "             \n",
        "      #simply get the posterior probability of every example                                  \n",
        "      post_prob = self.get_prob_for_example(cleaned_example) #get prob of this example for both classes\n",
        "      #simply pick the max value and map against self.classes!\n",
        "      predictions.append(self.unq_classes[np.argmax(post_prob)])\n",
        "            \n",
        "    return np.array(predictions) \n",
        "\n"
      ],
      "execution_count": 29,
      "outputs": []
    },
    {
      "cell_type": "code",
      "metadata": {
        "id": "Zgiz6p4098qF",
        "colab_type": "code",
        "colab": {}
      },
      "source": [
        "from sklearn.datasets import fetch_20newsgroups\n",
        "newsgroups_train=fetch_20newsgroups(subset='train')\n",
        "\n",
        "train_data=newsgroups_train.data #getting all trainign examples\n",
        "train_labels=newsgroups_train.target #getting training labels"
      ],
      "execution_count": 32,
      "outputs": []
    },
    {
      "cell_type": "code",
      "metadata": {
        "id": "Xt36jHGxje_e",
        "colab_type": "code",
        "colab": {
          "base_uri": "https://localhost:8080/",
          "height": 51
        },
        "outputId": "b84f923c-203b-485b-bc43-3bbe60f3c706"
      },
      "source": [
        "np.unique(train_labels)"
      ],
      "execution_count": 34,
      "outputs": [
        {
          "output_type": "execute_result",
          "data": {
            "text/plain": [
              "array([ 0,  1,  2,  3,  4,  5,  6,  7,  8,  9, 10, 11, 12, 13, 14, 15, 16,\n",
              "       17, 18, 19])"
            ]
          },
          "metadata": {
            "tags": []
          },
          "execution_count": 34
        }
      ]
    },
    {
      "cell_type": "code",
      "metadata": {
        "id": "s58v9nvE9-Dg",
        "colab_type": "code",
        "colab": {
          "base_uri": "https://localhost:8080/",
          "height": 51
        },
        "outputId": "c5f657b1-44ab-40bb-a15a-c93322fc158a"
      },
      "source": [
        "nb = NaiveBayesFromScratch(np.unique(train_labels).shape[0]) #instantiate a NB class object\n",
        "print (\"---------------- Training In Progress --------------------\")\n",
        "\n",
        "nb.fit(train_data,train_labels) #start tarining by calling the train function\n",
        "print ('----------------- Training Completed ---------------------')"
      ],
      "execution_count": 35,
      "outputs": [
        {
          "output_type": "stream",
          "text": [
            "---------------- Training In Progress --------------------\n",
            "----------------- Training Completed ---------------------\n"
          ],
          "name": "stdout"
        }
      ]
    },
    {
      "cell_type": "code",
      "metadata": {
        "id": "LQ1nYEvVjp-Y",
        "colab_type": "code",
        "colab": {}
      },
      "source": [
        "newsgroups_test=fetch_20newsgroups(subset='test') #loading test data\n",
        "test_data=newsgroups_test.data #get test set examples\n",
        "test_labels=newsgroups_test.target #get test set labels\n"
      ],
      "execution_count": 36,
      "outputs": []
    },
    {
      "cell_type": "code",
      "metadata": {
        "id": "HC9S3V00o0ws",
        "colab_type": "code",
        "colab": {
          "base_uri": "https://localhost:8080/",
          "height": 51
        },
        "outputId": "07f123c9-ff53-4fd5-95d0-d536027ffd8f"
      },
      "source": [
        "pclasses = nb.predict(test_data) #get predcitions for test set\n",
        "\n",
        "#check how many predcitions actually match original test labels\n",
        "test_acc = np.sum(pclasses == test_labels) / float(test_labels.shape[0]) \n",
        "\n",
        "print (\"Test Set Examples: \",test_labels.shape[0]) # Outputs : Test Set Examples:  1502\n",
        "print (\"Test Set Accuracy: \",test_acc*100,\"%\") # Outputs : Test Set Accuracy:  93.8748335553 %"
      ],
      "execution_count": 37,
      "outputs": [
        {
          "output_type": "stream",
          "text": [
            "Test Set Examples:  7532\n",
            "Test Set Accuracy:  78.71747211895911 %\n"
          ],
          "name": "stdout"
        }
      ]
    },
    {
      "cell_type": "code",
      "metadata": {
        "id": "-L52HxqYpHNa",
        "colab_type": "code",
        "colab": {
          "base_uri": "https://localhost:8080/",
          "height": 34
        },
        "outputId": "c9366262-3e20-4557-e066-c3204058c6c0"
      },
      "source": [
        "test_labels.shape"
      ],
      "execution_count": 38,
      "outputs": [
        {
          "output_type": "execute_result",
          "data": {
            "text/plain": [
              "(7532,)"
            ]
          },
          "metadata": {
            "tags": []
          },
          "execution_count": 38
        }
      ]
    },
    {
      "cell_type": "code",
      "metadata": {
        "id": "fE9XI63UqDxN",
        "colab_type": "code",
        "colab": {}
      },
      "source": [
        ""
      ],
      "execution_count": null,
      "outputs": []
    }
  ]
}