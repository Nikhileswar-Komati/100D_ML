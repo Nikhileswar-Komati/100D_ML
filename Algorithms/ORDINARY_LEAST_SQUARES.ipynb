{
  "nbformat": 4,
  "nbformat_minor": 0,
  "metadata": {
    "colab": {
      "name": "ORDINARY_LEAST_SQUARES",
      "provenance": [],
      "authorship_tag": "ABX9TyNTjq4+9KPJm3fj5X9kTSSu",
      "include_colab_link": true
    },
    "kernelspec": {
      "name": "python3",
      "display_name": "Python 3"
    }
  },
  "cells": [
    {
      "cell_type": "markdown",
      "metadata": {
        "id": "view-in-github",
        "colab_type": "text"
      },
      "source": [
        "<a href=\"https://colab.research.google.com/github/Nikhileswar-Komati/100D_ML/blob/master/Algorithms/ORDINARY_LEAST_SQUARES.ipynb\" target=\"_parent\"><img src=\"https://colab.research.google.com/assets/colab-badge.svg\" alt=\"Open In Colab\"/></a>"
      ]
    },
    {
      "cell_type": "code",
      "metadata": {
        "id": "Pk0_d2tmxtGG",
        "colab_type": "code",
        "colab": {
          "base_uri": "https://localhost:8080/",
          "height": 71
        },
        "outputId": "e4a4f617-2e73-4ec0-fd1f-4a6b77fb647a"
      },
      "source": [
        "import numpy as np\n",
        "import pandas as pd\n",
        "import seaborn as sns"
      ],
      "execution_count": 1,
      "outputs": [
        {
          "output_type": "stream",
          "text": [
            "/usr/local/lib/python3.6/dist-packages/statsmodels/tools/_testing.py:19: FutureWarning: pandas.util.testing is deprecated. Use the functions in the public API at pandas.testing instead.\n",
            "  import pandas.util.testing as tm\n"
          ],
          "name": "stderr"
        }
      ]
    },
    {
      "cell_type": "code",
      "metadata": {
        "id": "ze92FoaA2UPC",
        "colab_type": "code",
        "colab": {}
      },
      "source": [
        "from sklearn.metrics import mean_squared_error"
      ],
      "execution_count": 5,
      "outputs": []
    },
    {
      "cell_type": "code",
      "metadata": {
        "id": "duKKGnciyFeh",
        "colab_type": "code",
        "colab": {}
      },
      "source": [
        "class OrdinaryLeastSquares:\n",
        "  def __init__(self):\n",
        "    self.thetas = None\n",
        "  \n",
        "  def fit(self, X, y):\n",
        "    X = np.insert(X, 0, 1, axis = 1)\n",
        "    A = np.dot(X.T, X)\n",
        "    self.thetas = np.dot(np.dot(np.linalg.inv(A), X.T), y)\n",
        "  \n",
        "  def predict(self, test_X):\n",
        "    test_X = np.insert(test_X, 0, 1, axis = 1)\n",
        "    return np.dot(test_X, self.thetas)\n"
      ],
      "execution_count": 6,
      "outputs": []
    },
    {
      "cell_type": "code",
      "metadata": {
        "id": "xoH2bRSZ0zrP",
        "colab_type": "code",
        "colab": {
          "base_uri": "https://localhost:8080/",
          "height": 68
        },
        "outputId": "4405144f-4340-447f-e23a-f7857eccef73"
      },
      "source": [
        "np.random.seed(0)\n",
        "X = np.random.rand(1000, 1)\n",
        "y = 2 + 3 * X + np.random.rand(1000, 1)\n",
        "\n",
        "reg = OrdinaryLeastSquares()\n",
        "reg.fit(X, y)\n",
        "predicted_y = reg.predict(X)\n",
        "print(\"RMSE\", mean_squared_error(y, predicted_y))\n",
        "print(reg.thetas)"
      ],
      "execution_count": 7,
      "outputs": [
        {
          "output_type": "stream",
          "text": [
            "RMSE 0.08937277533486776\n",
            "[[2.50828041]\n",
            " [3.00618965]]\n"
          ],
          "name": "stdout"
        }
      ]
    },
    {
      "cell_type": "code",
      "metadata": {
        "id": "AarJ6SdP277c",
        "colab_type": "code",
        "colab": {
          "base_uri": "https://localhost:8080/",
          "height": 34
        },
        "outputId": "4b76d099-894d-44f5-fb4a-283a7a38d5d0"
      },
      "source": [
        "from sklearn.linear_model import LinearRegression\n",
        "\n",
        "reg1  = LinearRegression()\n",
        "reg1.fit(X, y)\n",
        "y_pred = reg1.predict(X)\n",
        "\n",
        "print(\"RMSE\", mean_squared_error(y, y_pred))\n",
        "#print(reg1.coeff_)\n"
      ],
      "execution_count": 9,
      "outputs": [
        {
          "output_type": "stream",
          "text": [
            "RMSE 0.08937277533486776\n"
          ],
          "name": "stdout"
        }
      ]
    },
    {
      "cell_type": "code",
      "metadata": {
        "id": "GLaGyIJy4nhW",
        "colab_type": "code",
        "colab": {
          "base_uri": "https://localhost:8080/",
          "height": 282
        },
        "outputId": "a5cca702-243d-48e7-dbc0-25a5fc1cbe5c"
      },
      "source": [
        "plt.scatter(X, y)\n",
        "plt.plot(X, predicted_y, 'r')\n",
        "plt.plot(X, y_pred, 'g')"
      ],
      "execution_count": 27,
      "outputs": [
        {
          "output_type": "execute_result",
          "data": {
            "text/plain": [
              "[<matplotlib.lines.Line2D at 0x7fb1f6585f60>]"
            ]
          },
          "metadata": {
            "tags": []
          },
          "execution_count": 27
        },
        {
          "output_type": "display_data",
          "data": {
            "image/png": "[encoded data removed]",
            "text/plain": [
              "<Figure size 432x288 with 1 Axes>"
            ]
          },
          "metadata": {
            "tags": [],
            "needs_background": "light"
          }
        }
      ]
    },
    {
      "cell_type": "code",
      "metadata": {
        "id": "csMiY5qR3nKP",
        "colab_type": "code",
        "colab": {}
      },
      "source": [
        ""
      ],
      "execution_count": null,
      "outputs": []
    }
  ]
}