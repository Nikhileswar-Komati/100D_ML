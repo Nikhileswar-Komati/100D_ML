{
  "nbformat": 4,
  "nbformat_minor": 0,
  "metadata": {
    "colab": {
      "name": "LINEAR_REGRESSION",
      "provenance": [],
      "authorship_tag": "ABX9TyOFJ9k2rx0EyW0nfyiZQfls",
      "include_colab_link": true
    },
    "kernelspec": {
      "name": "python3",
      "display_name": "Python 3"
    }
  },
  "cells": [
    {
      "cell_type": "markdown",
      "metadata": {
        "id": "view-in-github",
        "colab_type": "text"
      },
      "source": [
        "<a href=\"https://colab.research.google.com/github/Nikhileswar-Komati/100D_ML/blob/master/Algorithms/LINEAR_REGRESSION.ipynb\" target=\"_parent\"><img src=\"https://colab.research.google.com/assets/colab-badge.svg\" alt=\"Open In Colab\"/></a>"
      ]
    },
    {
      "cell_type": "code",
      "metadata": {
        "id": "c7JFHS_9WslC",
        "colab_type": "code",
        "colab": {
          "base_uri": "https://localhost:8080/",
          "height": 71
        },
        "outputId": "87b1af69-fa08-4a5c-95a8-8be9799ebb02"
      },
      "source": [
        "import pandas as pd\n",
        "import numpy as np\n",
        "import matplotlib.pyplot as plt\n",
        "import seaborn as sns\n",
        "%matplotlib inline"
      ],
      "execution_count": null,
      "outputs": [
        {
          "output_type": "stream",
          "text": [
            "/usr/local/lib/python3.6/dist-packages/statsmodels/tools/_testing.py:19: FutureWarning: pandas.util.testing is deprecated. Use the functions in the public API at pandas.testing instead.\n",
            "  import pandas.util.testing as tm\n"
          ],
          "name": "stderr"
        }
      ]
    },
    {
      "cell_type": "code",
      "metadata": {
        "id": "E7EEzKUwgZCI",
        "colab_type": "code",
        "colab": {}
      },
      "source": [
        "class LinearRegressionFromScratch:\n",
        "  def __init__(self, learning_rate = 0.05, n_iterations = 1000):\n",
        "    self.learning_rate = learning_rate\n",
        "    self.n_iterations = n_iterations\n",
        "  def fit(self, x, y):\n",
        "    \"\"\"\n",
        "    shape of x (m, f) m - no of rows, f - no of features\n",
        "    shape of y (m, ) m - no of rows, column vector\n",
        "    shape of weights (f, 1) - no of features\n",
        "    shape of y_pred = np.dot(x, weights) is (m, f) * (f, 1) = (m, 1)\n",
        "    residuals shape = (m, 1)\n",
        "    gradients (residuals * x)/m so transpose x  gradients = np.dot(x.T, residuals) = (f, m) * (m, 1) = (f, 1)\n",
        "    \"\"\"\n",
        "    self.costs = list()\n",
        "    m = x.shape[0]\n",
        "    self.weights = np.random.rand(x.shape[1], 1)\n",
        "    for _ in range(self.n_iterations):\n",
        "      y_pred = np.dot(x, self.weights)\n",
        "      residuals = y_pred - y\n",
        "      gradients = np.dot(x.T, residuals)\n",
        "      self.weights -= (self.learning_rate / m) * gradients\n",
        "      cost = np.sum((residuals ** 2)) / (2 * m)\n",
        "      self.costs.append(cost)\n",
        "    return self\n",
        "  def predict(self, x):\n",
        "    return np.dot(x, self.weights) \n"
      ],
      "execution_count": 53,
      "outputs": []
    },
    {
      "cell_type": "code",
      "metadata": {
        "id": "76No32qpML5r",
        "colab_type": "code",
        "colab": {
          "base_uri": "https://localhost:8080/",
          "height": 102
        },
        "outputId": "15be076b-21c2-4f07-8d28-af48406a2661"
      },
      "source": [
        "#y = 2x1 + 2x2\n",
        "train_X = np.array([[1, 1], [1, 2], [2, 1], [2, 2], [3, 1], [1, 3], [3, 2], [2, 3], [3, 3], [4, 5]])\n",
        "train_Y = np.array([[4], [6], [6], [8], [8], [7], [10], [10], [12], [12]])\n",
        "test_x = np.array([[2, 1], [4, 1], [0, 2]])\n",
        "regressor = LinearRegressionFromScratch(n_iterations=500)\n",
        "var = regressor.fit(train_X, train_Y)\n",
        "y_pred = regressor.predict(test_x)\n",
        "test_Y = np.array([[6], [10], [4]])\n",
        "rmse1 = mean_squared_error(test_Y, y_pred)\n",
        "print(y_pred)\n",
        "print(rmse1)\n",
        "max(var.costs)"
      ],
      "execution_count": 54,
      "outputs": [
        {
          "output_type": "stream",
          "text": [
            "[[ 5.77599996]\n",
            " [10.23733322]\n",
            " [ 2.6293334 ]]\n",
            "0.6617433326102791\n"
          ],
          "name": "stdout"
        },
        {
          "output_type": "execute_result",
          "data": {
            "text/plain": [
              "15.868279388408265"
            ]
          },
          "metadata": {
            "tags": []
          },
          "execution_count": 54
        }
      ]
    },
    {
      "cell_type": "code",
      "metadata": {
        "id": "Ed8G31TfR7-M",
        "colab_type": "code",
        "colab": {
          "base_uri": "https://localhost:8080/",
          "height": 282
        },
        "outputId": "8a54403a-16cd-4802-f898-fbdb34647e35"
      },
      "source": [
        "x_var = np.array(range(5))\n",
        "y_var = np.array(var.costs[:5])\n",
        "sns.lineplot(x_var, y_var)"
      ],
      "execution_count": 55,
      "outputs": [
        {
          "output_type": "execute_result",
          "data": {
            "text/plain": [
              "<matplotlib.axes._subplots.AxesSubplot at 0x7ff19c109a90>"
            ]
          },
          "metadata": {
            "tags": []
          },
          "execution_count": 55
        },
        {
          "output_type": "display_data",
          "data": {
            "image/png": "[encoded data removed]",
            "text/plain": [
              "<Figure size 432x288 with 1 Axes>"
            ]
          },
          "metadata": {
            "tags": [],
            "needs_background": "light"
          }
        }
      ]
    },
    {
      "cell_type": "code",
      "metadata": {
        "id": "lbvdL4nXVOhI",
        "colab_type": "code",
        "colab": {
          "base_uri": "https://localhost:8080/",
          "height": 51
        },
        "outputId": "a381236a-85b1-4bc2-a783-2d7ac61eed65"
      },
      "source": [
        "np.random.seed(0)\n",
        "x = np.random.rand(1000, 1)\n",
        "y = 2 + 3 * x + np.random.rand(1000, 1)\n",
        "\n",
        "\n",
        "regressor = LinearRegressionFromScratch(learning_rate=0.1, n_iterations=1500)\n",
        "var = regressor.fit(x, y)\n",
        "y_pred = regressor.predict(x)\n",
        "rmse1 = mean_squared_error(y, y_pred)\n",
        "print(rmse1)\n",
        "var.weights"
      ],
      "execution_count": 56,
      "outputs": [
        {
          "output_type": "stream",
          "text": [
            "1.697492885527333\n"
          ],
          "name": "stdout"
        },
        {
          "output_type": "execute_result",
          "data": {
            "text/plain": [
              "array([[6.77121242]])"
            ]
          },
          "metadata": {
            "tags": []
          },
          "execution_count": 56
        }
      ]
    },
    {
      "cell_type": "code",
      "metadata": {
        "id": "9MrilrcDVhbR",
        "colab_type": "code",
        "colab": {
          "base_uri": "https://localhost:8080/",
          "height": 286
        },
        "outputId": "9b1976b9-1cfc-4c0a-fc8f-13bbabd60d4b"
      },
      "source": [
        "x_var = np.array(range(100))\n",
        "y_var = np.array(var.costs[:100])\n",
        "sns.lineplot(x_var, y_var)"
      ],
      "execution_count": 57,
      "outputs": [
        {
          "output_type": "execute_result",
          "data": {
            "text/plain": [
              "<matplotlib.axes._subplots.AxesSubplot at 0x7ff19bfad6a0>"
            ]
          },
          "metadata": {
            "tags": []
          },
          "execution_count": 57
        },
        {
          "output_type": "display_data",
          "data": {
            "image/png": "[encoded data removed]",
            "text/plain": [
              "<Figure size 432x288 with 1 Axes>"
            ]
          },
          "metadata": {
            "tags": [],
            "needs_background": "light"
          }
        }
      ]
    },
    {
      "cell_type": "code",
      "metadata": {
        "id": "AaoXVCn7VsSO",
        "colab_type": "code",
        "colab": {
          "base_uri": "https://localhost:8080/",
          "height": 85
        },
        "outputId": "e94b8891-4acd-4f25-fe70-afd2fe628c07"
      },
      "source": [
        "regression_model = LinearRegression()\n",
        "regression_model.fit(x, y)\n",
        "y_predicted = regression_model.predict(x)\n",
        "rmse = mean_squared_error(y, y_predicted)\n",
        "r2 = r2_score(y, y_predicted)\n",
        "\n",
        "# printing values\n",
        "print('Slope:' ,regression_model.coef_)\n",
        "print('Intercept:', regression_model.intercept_)\n",
        "print('Root mean squared error: ', rmse)\n",
        "print('R2 score: ', r2)"
      ],
      "execution_count": 70,
      "outputs": [
        {
          "output_type": "stream",
          "text": [
            "Slope: [[3.00618965]]\n",
            "Intercept: [2.50828041]\n",
            "Root mean squared error:  0.08937277533486776\n",
            "R2 score:  0.8951689909999495\n"
          ],
          "name": "stdout"
        }
      ]
    },
    {
      "cell_type": "code",
      "metadata": {
        "id": "dJw-5OngWWC3",
        "colab_type": "code",
        "colab": {}
      },
      "source": [
        "class LinearRegressionFromScratch:\n",
        "  def __init__(self, learning_rate = 0.01, n_iterations = 1000):\n",
        "    self.learning_rate = learning_rate\n",
        "    self.n_iterations = n_iterations\n",
        "  def fit(self, x, y):\n",
        "    \"\"\"\n",
        "    shape of x (m, f) m - no of rows, f - no of features\n",
        "    shape of y (m, ) m - no of rows, column vector\n",
        "    shape of weights (f, 1) - no of features\n",
        "    shape of y_pred = np.dot(x, weights) is (m, f) * (f, 1) = (m, 1)\n",
        "    residuals shape = (m, 1)\n",
        "    gradients (residuals * x)/m so transpose x  gradients = np.dot(x.T, residuals) = (f, m) * (m, 1) = (f, 1)\n",
        "    \"\"\"\n",
        "    self.costs = list()\n",
        "    m = x.shape[0]\n",
        "    ones = np.ones((m, 1))\n",
        "    x = np.append(ones, x, axis = 1)\n",
        "    print(x.shape)\n",
        "    self.weights = np.random.rand(x.shape[1], 1)\n",
        "    for _ in range(self.n_iterations):\n",
        "      y_pred = np.dot(x, self.weights)\n",
        "      residuals = y_pred - y\n",
        "      gradients = np.dot(x.T, residuals)\n",
        "      self.weights -= (self.learning_rate / m) * gradients\n",
        "      cost = np.sum((residuals ** 2)) / (2 * m)\n",
        "      if _ > 1 and self.costs[-1] == cost:\n",
        "        return self\n",
        "      self.costs.append(cost)\n",
        "    return self\n",
        "  def predict(self, x):\n",
        "    ones = np.ones((x.shape[0], 1))\n",
        "    x = np.append(ones, x, axis = 1)\n",
        "    return np.dot(x, self.weights) \n"
      ],
      "execution_count": 79,
      "outputs": []
    },
    {
      "cell_type": "code",
      "metadata": {
        "id": "6eK7AABGhVgj",
        "colab_type": "code",
        "colab": {
          "base_uri": "https://localhost:8080/",
          "height": 85
        },
        "outputId": "3e52ead0-d89b-4fd9-9b11-e26c002ed10b"
      },
      "source": [
        "np.random.seed(0)\n",
        "x = np.random.rand(1000, 1)\n",
        "y = 2 + 3 * x + np.random.rand(1000, 1)\n",
        "\n",
        "\n",
        "regressor = LinearRegressionFromScratch(learning_rate=0.1, n_iterations=1500)\n",
        "var = regressor.fit(x, y)\n",
        "y_pred = regressor.predict(x)\n",
        "rmse1 = mean_squared_error(y, y_pred)\n",
        "print(rmse1)\n",
        "var.weights"
      ],
      "execution_count": 80,
      "outputs": [
        {
          "output_type": "stream",
          "text": [
            "(1000, 2)\n",
            "0.08937277558815401\n"
          ],
          "name": "stdout"
        },
        {
          "output_type": "execute_result",
          "data": {
            "text/plain": [
              "array([[2.5083093 ],\n",
              "       [3.00613529]])"
            ]
          },
          "metadata": {
            "tags": []
          },
          "execution_count": 80
        }
      ]
    },
    {
      "cell_type": "code",
      "metadata": {
        "id": "vwhVSqBAhzUq",
        "colab_type": "code",
        "colab": {
          "base_uri": "https://localhost:8080/",
          "height": 34
        },
        "outputId": "091671eb-78cf-42cd-d0c5-1e8eda84448f"
      },
      "source": [
        "print(rmse - rmse1)"
      ],
      "execution_count": 81,
      "outputs": [
        {
          "output_type": "stream",
          "text": [
            "-2.532862530824076e-10\n"
          ],
          "name": "stdout"
        }
      ]
    },
    {
      "cell_type": "code",
      "metadata": {
        "id": "9J5O9tbPk8xU",
        "colab_type": "code",
        "colab": {
          "base_uri": "https://localhost:8080/",
          "height": 282
        },
        "outputId": "718f7a87-485d-4f4a-c922-71fbdd5071c5"
      },
      "source": [
        "x_var = np.array(range(100))\n",
        "y_var = np.array(var.costs[:100])\n",
        "sns.lineplot(x_var, y_var)\n",
        "len(var.costs)"
      ],
      "execution_count": 82,
      "outputs": [
        {
          "output_type": "execute_result",
          "data": {
            "text/plain": [
              "1500"
            ]
          },
          "metadata": {
            "tags": []
          },
          "execution_count": 82
        },
        {
          "output_type": "display_data",
          "data": {
            "image/png": "[encoded data removed]",
            "text/plain": [
              "<Figure size 432x288 with 1 Axes>"
            ]
          },
          "metadata": {
            "tags": [],
            "needs_background": "light"
          }
        }
      ]
    },
    {
      "cell_type": "code",
      "metadata": {
        "id": "hsJ-sRY_lCk2",
        "colab_type": "code",
        "colab": {
          "base_uri": "https://localhost:8080/",
          "height": 34
        },
        "outputId": "64275bce-d210-4389-a886-4ddd2326b653"
      },
      "source": [
        "var.costs[:-4:-1]"
      ],
      "execution_count": 78,
      "outputs": [
        {
          "output_type": "execute_result",
          "data": {
            "text/plain": [
              "[0.04468638779578693, 0.04468638779751994, 0.044686387799276354]"
            ]
          },
          "metadata": {
            "tags": []
          },
          "execution_count": 78
        }
      ]
    },
    {
      "cell_type": "code",
      "metadata": {
        "id": "FOtWkAXllWhS",
        "colab_type": "code",
        "colab": {}
      },
      "source": [
        ""
      ],
      "execution_count": null,
      "outputs": []
    }
  ]
}