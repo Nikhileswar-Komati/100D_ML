{
  "nbformat": 4,
  "nbformat_minor": 0,
  "metadata": {
    "colab": {
      "name": "Decision-Tree-Classifier.ipynb",
      "provenance": [],
      "authorship_tag": "ABX9TyNnQm9gl39sGEV8DLClOPhP",
      "include_colab_link": true
    },
    "kernelspec": {
      "name": "python3",
      "display_name": "Python 3"
    }
  },
  "cells": [
    {
      "cell_type": "markdown",
      "metadata": {
        "id": "view-in-github",
        "colab_type": "text"
      },
      "source": [
        "<a href=\"https://colab.research.google.com/github/Nikhileswar-Komati/100D_ML/blob/master/Algorithms/Decision_Tree_Classifier.ipynb\" target=\"_parent\"><img src=\"https://colab.research.google.com/assets/colab-badge.svg\" alt=\"Open In Colab\"/></a>"
      ]
    },
    {
      "cell_type": "code",
      "metadata": {
        "id": "jTNufS1WA1Rb",
        "colab_type": "code",
        "colab": {}
      },
      "source": [
        "import pandas as pd\n",
        "import numpy as np\n",
        "import matplotlib.pyplot as plt\n",
        "import seaborn as sns"
      ],
      "execution_count": null,
      "outputs": []
    },
    {
      "cell_type": "code",
      "metadata": {
        "id": "L67N3T9-BOP-",
        "colab_type": "code",
        "colab": {}
      },
      "source": [
        "from sklearn import datasets\n",
        "from sklearn.tree import DecisionTreeClassifier, export_graphviz\n",
        "import graphviz\n",
        "from sklearn.metrics import accuracy_score\n",
        "from sklearn.model_selection import  train_test_split"
      ],
      "execution_count": null,
      "outputs": []
    },
    {
      "cell_type": "code",
      "metadata": {
        "id": "uQmirLvMeOCV",
        "colab_type": "code",
        "colab": {
          "base_uri": "https://localhost:8080/",
          "height": 204
        },
        "outputId": "d8a2b896-3ad0-4cae-ba79-44c3dea23704"
      },
      "source": [
        "dataset = datasets.load_iris() \n",
        "df = pd.DataFrame(columns = dataset.feature_names, data = dataset.data)\n",
        "target_zip= dict(zip(set(dataset.target), dataset.target_names))\n",
        "df['target'] = dataset.target\n",
        "df['target_names'] = df['target'].map(target_zip)\n",
        "df.sample(5)"
      ],
      "execution_count": null,
      "outputs": [
        {
          "output_type": "execute_result",
          "data": {
            "text/html": [
              "<div>\n",
              "<style scoped>\n",
              "    .dataframe tbody tr th:only-of-type {\n",
              "        vertical-align: middle;\n",
              "    }\n",
              "\n",
              "    .dataframe tbody tr th {\n",
              "        vertical-align: top;\n",
              "    }\n",
              "\n",
              "    .dataframe thead th {\n",
              "        text-align: right;\n",
              "    }\n",
              "</style>\n",
              "<table border=\"1\" class=\"dataframe\">\n",
              "  <thead>\n",
              "    <tr style=\"text-align: right;\">\n",
              "      <th></th>\n",
              "      <th>sepal length (cm)</th>\n",
              "      <th>sepal width (cm)</th>\n",
              "      <th>petal length (cm)</th>\n",
              "      <th>petal width (cm)</th>\n",
              "      <th>target</th>\n",
              "      <th>target_names</th>\n",
              "    </tr>\n",
              "  </thead>\n",
              "  <tbody>\n",
              "    <tr>\n",
              "      <th>130</th>\n",
              "      <td>7.4</td>\n",
              "      <td>2.8</td>\n",
              "      <td>6.1</td>\n",
              "      <td>1.9</td>\n",
              "      <td>2</td>\n",
              "      <td>virginica</td>\n",
              "    </tr>\n",
              "    <tr>\n",
              "      <th>3</th>\n",
              "      <td>4.6</td>\n",
              "      <td>3.1</td>\n",
              "      <td>1.5</td>\n",
              "      <td>0.2</td>\n",
              "      <td>0</td>\n",
              "      <td>setosa</td>\n",
              "    </tr>\n",
              "    <tr>\n",
              "      <th>22</th>\n",
              "      <td>4.6</td>\n",
              "      <td>3.6</td>\n",
              "      <td>1.0</td>\n",
              "      <td>0.2</td>\n",
              "      <td>0</td>\n",
              "      <td>setosa</td>\n",
              "    </tr>\n",
              "    <tr>\n",
              "      <th>89</th>\n",
              "      <td>5.5</td>\n",
              "      <td>2.5</td>\n",
              "      <td>4.0</td>\n",
              "      <td>1.3</td>\n",
              "      <td>1</td>\n",
              "      <td>versicolor</td>\n",
              "    </tr>\n",
              "    <tr>\n",
              "      <th>127</th>\n",
              "      <td>6.1</td>\n",
              "      <td>3.0</td>\n",
              "      <td>4.9</td>\n",
              "      <td>1.8</td>\n",
              "      <td>2</td>\n",
              "      <td>virginica</td>\n",
              "    </tr>\n",
              "  </tbody>\n",
              "</table>\n",
              "</div>"
            ],
            "text/plain": [
              "     sepal length (cm)  sepal width (cm)  ...  target  target_names\n",
              "130                7.4               2.8  ...       2     virginica\n",
              "3                  4.6               3.1  ...       0        setosa\n",
              "22                 4.6               3.6  ...       0        setosa\n",
              "89                 5.5               2.5  ...       1    versicolor\n",
              "127                6.1               3.0  ...       2     virginica\n",
              "\n",
              "[5 rows x 6 columns]"
            ]
          },
          "metadata": {
            "tags": []
          },
          "execution_count": 14
        }
      ]
    },
    {
      "cell_type": "code",
      "metadata": {
        "id": "pd2y8zKLeZAZ",
        "colab_type": "code",
        "colab": {}
      },
      "source": [
        "X = df.iloc[:, :4]\n",
        "y = df.iloc[:, -1]\n",
        "X_train, X_test, y_train, y_test = train_test_split(X, y, test_size = 0.25, shuffle = True, random_state = 24)"
      ],
      "execution_count": null,
      "outputs": []
    },
    {
      "cell_type": "code",
      "metadata": {
        "id": "nAIeqaPLe6vp",
        "colab_type": "code",
        "colab": {
          "base_uri": "https://localhost:8080/",
          "height": 916
        },
        "outputId": "6947e204-dbad-4fda-da99-c4fc50334969"
      },
      "source": [
        "dt = DecisionTreeClassifier()\n",
        "dt.fit(X_train, y_train)\n",
        "\n",
        "dot_data = export_graphviz(dt, out_file=None, \n",
        "                           feature_names=X.columns,  \n",
        "                           class_names=dataset.target_names,  \n",
        "                           filled=True, rounded=True,  \n",
        "                           special_characters=True)  \n",
        "graph = graphviz.Source(dot_data)  \n",
        "graph"
      ],
      "execution_count": null,
      "outputs": [
        {
          "output_type": "execute_result",
          "data": {
            "text/plain": [
              "<graphviz.files.Source at 0x7f0ad79884a8>"
            ],
            "image/svg+xml": "<?xml version=\"1.0\" encoding=\"UTF-8\" standalone=\"no\"?>\n<!DOCTYPE svg PUBLIC \"-//W3C//DTD SVG 1.1//EN\"\n \"http://www.w3.org/Graphics/SVG/1.1/DTD/svg11.dtd\">\n<!-- Generated by graphviz version 2.40.1 (20161225.0304)\n -->\n<!-- Title: Tree Pages: 1 -->\n<svg width=\"690pt\" height=\"671pt\"\n viewBox=\"0.00 0.00 690.00 671.00\" xmlns=\"http://www.w3.org/2000/svg\" xmlns:xlink=\"http://www.w3.org/1999/xlink\">\n<g id=\"graph0\" class=\"graph\" transform=\"scale(1 1) rotate(0) translate(4 667)\">\n<title>Tree</title>\n<polygon fill=\"#ffffff\" stroke=\"transparent\" points=\"-4,4 -4,-667 686,-667 686,4 -4,4\"/>\n<!-- 0 -->\n<g id=\"node1\" class=\"node\">\n<title>0</title>\n<path fill=\"#f4fef8\" stroke=\"#000000\" d=\"M355,-663C355,-663 226,-663 226,-663 220,-663 214,-657 214,-651 214,-651 214,-592 214,-592 214,-586 220,-580 226,-580 226,-580 355,-580 355,-580 361,-580 367,-586 367,-592 367,-592 367,-651 367,-651 367,-657 361,-663 355,-663\"/>\n<text text-anchor=\"start\" x=\"222\" y=\"-647.8\" font-family=\"Helvetica,sans-Serif\" font-size=\"14.00\" fill=\"#000000\">petal width (cm) ≤ 0.8</text>\n<text text-anchor=\"start\" x=\"252.5\" y=\"-632.8\" font-family=\"Helvetica,sans-Serif\" font-size=\"14.00\" fill=\"#000000\">gini = 0.663</text>\n<text text-anchor=\"start\" x=\"242.5\" y=\"-617.8\" font-family=\"Helvetica,sans-Serif\" font-size=\"14.00\" fill=\"#000000\">samples = 112</text>\n<text text-anchor=\"start\" x=\"228.5\" y=\"-602.8\" font-family=\"Helvetica,sans-Serif\" font-size=\"14.00\" fill=\"#000000\">value = [38, 42, 32]</text>\n<text text-anchor=\"start\" x=\"234.5\" y=\"-587.8\" font-family=\"Helvetica,sans-Serif\" font-size=\"14.00\" fill=\"#000000\">class = versicolor</text>\n</g>\n<!-- 1 -->\n<g id=\"node2\" class=\"node\">\n<title>1</title>\n<path fill=\"#e58139\" stroke=\"#000000\" d=\"M260,-536.5C260,-536.5 161,-536.5 161,-536.5 155,-536.5 149,-530.5 149,-524.5 149,-524.5 149,-480.5 149,-480.5 149,-474.5 155,-468.5 161,-468.5 161,-468.5 260,-468.5 260,-468.5 266,-468.5 272,-474.5 272,-480.5 272,-480.5 272,-524.5 272,-524.5 272,-530.5 266,-536.5 260,-536.5\"/>\n<text text-anchor=\"start\" x=\"181\" y=\"-521.3\" font-family=\"Helvetica,sans-Serif\" font-size=\"14.00\" fill=\"#000000\">gini = 0.0</text>\n<text text-anchor=\"start\" x=\"166.5\" y=\"-506.3\" font-family=\"Helvetica,sans-Serif\" font-size=\"14.00\" fill=\"#000000\">samples = 38</text>\n<text text-anchor=\"start\" x=\"157\" y=\"-491.3\" font-family=\"Helvetica,sans-Serif\" font-size=\"14.00\" fill=\"#000000\">value = [38, 0, 0]</text>\n<text text-anchor=\"start\" x=\"163.5\" y=\"-476.3\" font-family=\"Helvetica,sans-Serif\" font-size=\"14.00\" fill=\"#000000\">class = setosa</text>\n</g>\n<!-- 0&#45;&gt;1 -->\n<g id=\"edge1\" class=\"edge\">\n<title>0&#45;&gt;1</title>\n<path fill=\"none\" stroke=\"#000000\" d=\"M262.5199,-579.8796C254.9797,-568.6636 246.8113,-556.5131 239.2309,-545.2372\"/>\n<polygon fill=\"#000000\" stroke=\"#000000\" points=\"242.0527,-543.1612 233.5689,-536.8149 236.2434,-547.0667 242.0527,-543.1612\"/>\n<text text-anchor=\"middle\" x=\"228.7608\" y=\"-557.6482\" font-family=\"Helvetica,sans-Serif\" font-size=\"14.00\" fill=\"#000000\">True</text>\n</g>\n<!-- 2 -->\n<g id=\"node3\" class=\"node\">\n<title>2</title>\n<path fill=\"#d0f9e1\" stroke=\"#000000\" d=\"M439,-544C439,-544 302,-544 302,-544 296,-544 290,-538 290,-532 290,-532 290,-473 290,-473 290,-467 296,-461 302,-461 302,-461 439,-461 439,-461 445,-461 451,-467 451,-473 451,-473 451,-532 451,-532 451,-538 445,-544 439,-544\"/>\n<text text-anchor=\"start\" x=\"298\" y=\"-528.8\" font-family=\"Helvetica,sans-Serif\" font-size=\"14.00\" fill=\"#000000\">petal width (cm) ≤ 1.65</text>\n<text text-anchor=\"start\" x=\"332.5\" y=\"-513.8\" font-family=\"Helvetica,sans-Serif\" font-size=\"14.00\" fill=\"#000000\">gini = 0.491</text>\n<text text-anchor=\"start\" x=\"326.5\" y=\"-498.8\" font-family=\"Helvetica,sans-Serif\" font-size=\"14.00\" fill=\"#000000\">samples = 74</text>\n<text text-anchor=\"start\" x=\"313\" y=\"-483.8\" font-family=\"Helvetica,sans-Serif\" font-size=\"14.00\" fill=\"#000000\">value = [0, 42, 32]</text>\n<text text-anchor=\"start\" x=\"314.5\" y=\"-468.8\" font-family=\"Helvetica,sans-Serif\" font-size=\"14.00\" fill=\"#000000\">class = versicolor</text>\n</g>\n<!-- 0&#45;&gt;2 -->\n<g id=\"edge2\" class=\"edge\">\n<title>0&#45;&gt;2</title>\n<path fill=\"none\" stroke=\"#000000\" d=\"M318.4801,-579.8796C324.3531,-571.1434 330.6073,-561.8404 336.6679,-552.8253\"/>\n<polygon fill=\"#000000\" stroke=\"#000000\" points=\"339.7259,-554.5498 342.4005,-544.2981 333.9166,-550.6444 339.7259,-554.5498\"/>\n<text text-anchor=\"middle\" x=\"347.2085\" y=\"-565.1314\" font-family=\"Helvetica,sans-Serif\" font-size=\"14.00\" fill=\"#000000\">False</text>\n</g>\n<!-- 3 -->\n<g id=\"node4\" class=\"node\">\n<title>3</title>\n<path fill=\"#47e78a\" stroke=\"#000000\" d=\"M350,-425C350,-425 207,-425 207,-425 201,-425 195,-419 195,-413 195,-413 195,-354 195,-354 195,-348 201,-342 207,-342 207,-342 350,-342 350,-342 356,-342 362,-348 362,-354 362,-354 362,-413 362,-413 362,-419 356,-425 350,-425\"/>\n<text text-anchor=\"start\" x=\"203\" y=\"-409.8\" font-family=\"Helvetica,sans-Serif\" font-size=\"14.00\" fill=\"#000000\">petal length (cm) ≤ 4.95</text>\n<text text-anchor=\"start\" x=\"240.5\" y=\"-394.8\" font-family=\"Helvetica,sans-Serif\" font-size=\"14.00\" fill=\"#000000\">gini = 0.127</text>\n<text text-anchor=\"start\" x=\"234.5\" y=\"-379.8\" font-family=\"Helvetica,sans-Serif\" font-size=\"14.00\" fill=\"#000000\">samples = 44</text>\n<text text-anchor=\"start\" x=\"225\" y=\"-364.8\" font-family=\"Helvetica,sans-Serif\" font-size=\"14.00\" fill=\"#000000\">value = [0, 41, 3]</text>\n<text text-anchor=\"start\" x=\"222.5\" y=\"-349.8\" font-family=\"Helvetica,sans-Serif\" font-size=\"14.00\" fill=\"#000000\">class = versicolor</text>\n</g>\n<!-- 2&#45;&gt;3 -->\n<g id=\"edge3\" class=\"edge\">\n<title>2&#45;&gt;3</title>\n<path fill=\"none\" stroke=\"#000000\" d=\"M338.3229,-460.8796C331.4296,-451.9633 324.0798,-442.4565 316.9761,-433.268\"/>\n<polygon fill=\"#000000\" stroke=\"#000000\" points=\"319.6999,-431.0687 310.8145,-425.2981 314.1619,-435.3502 319.6999,-431.0687\"/>\n</g>\n<!-- 10 -->\n<g id=\"node11\" class=\"node\">\n<title>10</title>\n<path fill=\"#8540e6\" stroke=\"#000000\" d=\"M535,-425C535,-425 392,-425 392,-425 386,-425 380,-419 380,-413 380,-413 380,-354 380,-354 380,-348 386,-342 392,-342 392,-342 535,-342 535,-342 541,-342 547,-348 547,-354 547,-354 547,-413 547,-413 547,-419 541,-425 535,-425\"/>\n<text text-anchor=\"start\" x=\"388\" y=\"-409.8\" font-family=\"Helvetica,sans-Serif\" font-size=\"14.00\" fill=\"#000000\">petal length (cm) ≤ 4.85</text>\n<text text-anchor=\"start\" x=\"425.5\" y=\"-394.8\" font-family=\"Helvetica,sans-Serif\" font-size=\"14.00\" fill=\"#000000\">gini = 0.064</text>\n<text text-anchor=\"start\" x=\"419.5\" y=\"-379.8\" font-family=\"Helvetica,sans-Serif\" font-size=\"14.00\" fill=\"#000000\">samples = 30</text>\n<text text-anchor=\"start\" x=\"410\" y=\"-364.8\" font-family=\"Helvetica,sans-Serif\" font-size=\"14.00\" fill=\"#000000\">value = [0, 1, 29]</text>\n<text text-anchor=\"start\" x=\"412\" y=\"-349.8\" font-family=\"Helvetica,sans-Serif\" font-size=\"14.00\" fill=\"#000000\">class = virginica</text>\n</g>\n<!-- 2&#45;&gt;10 -->\n<g id=\"edge10\" class=\"edge\">\n<title>2&#45;&gt;10</title>\n<path fill=\"none\" stroke=\"#000000\" d=\"M403.0269,-460.8796C409.9951,-451.9633 417.4247,-442.4565 424.6056,-433.268\"/>\n<polygon fill=\"#000000\" stroke=\"#000000\" points=\"427.4343,-435.3326 430.8343,-425.2981 421.9188,-431.0221 427.4343,-435.3326\"/>\n</g>\n<!-- 4 -->\n<g id=\"node5\" class=\"node\">\n<title>4</title>\n<path fill=\"#39e581\" stroke=\"#000000\" d=\"M163.5,-298.5C163.5,-298.5 59.5,-298.5 59.5,-298.5 53.5,-298.5 47.5,-292.5 47.5,-286.5 47.5,-286.5 47.5,-242.5 47.5,-242.5 47.5,-236.5 53.5,-230.5 59.5,-230.5 59.5,-230.5 163.5,-230.5 163.5,-230.5 169.5,-230.5 175.5,-236.5 175.5,-242.5 175.5,-242.5 175.5,-286.5 175.5,-286.5 175.5,-292.5 169.5,-298.5 163.5,-298.5\"/>\n<text text-anchor=\"start\" x=\"82\" y=\"-283.3\" font-family=\"Helvetica,sans-Serif\" font-size=\"14.00\" fill=\"#000000\">gini = 0.0</text>\n<text text-anchor=\"start\" x=\"67.5\" y=\"-268.3\" font-family=\"Helvetica,sans-Serif\" font-size=\"14.00\" fill=\"#000000\">samples = 40</text>\n<text text-anchor=\"start\" x=\"58\" y=\"-253.3\" font-family=\"Helvetica,sans-Serif\" font-size=\"14.00\" fill=\"#000000\">value = [0, 40, 0]</text>\n<text text-anchor=\"start\" x=\"55.5\" y=\"-238.3\" font-family=\"Helvetica,sans-Serif\" font-size=\"14.00\" fill=\"#000000\">class = versicolor</text>\n</g>\n<!-- 3&#45;&gt;4 -->\n<g id=\"edge4\" class=\"edge\">\n<title>3&#45;&gt;4</title>\n<path fill=\"none\" stroke=\"#000000\" d=\"M220.0915,-341.8796C203.036,-329.7263 184.4409,-316.4759 167.5359,-304.4297\"/>\n<polygon fill=\"#000000\" stroke=\"#000000\" points=\"169.562,-301.5759 159.3869,-298.623 165.4998,-307.2766 169.562,-301.5759\"/>\n</g>\n<!-- 5 -->\n<g id=\"node6\" class=\"node\">\n<title>5</title>\n<path fill=\"#ab7bee\" stroke=\"#000000\" d=\"M353,-306C353,-306 206,-306 206,-306 200,-306 194,-300 194,-294 194,-294 194,-235 194,-235 194,-229 200,-223 206,-223 206,-223 353,-223 353,-223 359,-223 365,-229 365,-235 365,-235 365,-294 365,-294 365,-300 359,-306 353,-306\"/>\n<text text-anchor=\"start\" x=\"202\" y=\"-290.8\" font-family=\"Helvetica,sans-Serif\" font-size=\"14.00\" fill=\"#000000\">sepal length (cm) ≤ 6.05</text>\n<text text-anchor=\"start\" x=\"241.5\" y=\"-275.8\" font-family=\"Helvetica,sans-Serif\" font-size=\"14.00\" fill=\"#000000\">gini = 0.375</text>\n<text text-anchor=\"start\" x=\"240\" y=\"-260.8\" font-family=\"Helvetica,sans-Serif\" font-size=\"14.00\" fill=\"#000000\">samples = 4</text>\n<text text-anchor=\"start\" x=\"230\" y=\"-245.8\" font-family=\"Helvetica,sans-Serif\" font-size=\"14.00\" fill=\"#000000\">value = [0, 1, 3]</text>\n<text text-anchor=\"start\" x=\"228\" y=\"-230.8\" font-family=\"Helvetica,sans-Serif\" font-size=\"14.00\" fill=\"#000000\">class = virginica</text>\n</g>\n<!-- 3&#45;&gt;5 -->\n<g id=\"edge5\" class=\"edge\">\n<title>3&#45;&gt;5</title>\n<path fill=\"none\" stroke=\"#000000\" d=\"M278.8498,-341.8796C278.9186,-333.6838 278.9917,-324.9891 279.063,-316.5013\"/>\n<polygon fill=\"#000000\" stroke=\"#000000\" points=\"282.5645,-316.3272 279.1488,-306.2981 275.5648,-316.2683 282.5645,-316.3272\"/>\n</g>\n<!-- 6 -->\n<g id=\"node7\" class=\"node\">\n<title>6</title>\n<path fill=\"#ffffff\" stroke=\"#000000\" d=\"M201,-187C201,-187 60,-187 60,-187 54,-187 48,-181 48,-175 48,-175 48,-116 48,-116 48,-110 54,-104 60,-104 60,-104 201,-104 201,-104 207,-104 213,-110 213,-116 213,-116 213,-175 213,-175 213,-181 207,-187 201,-187\"/>\n<text text-anchor=\"start\" x=\"56\" y=\"-171.8\" font-family=\"Helvetica,sans-Serif\" font-size=\"14.00\" fill=\"#000000\">sepal width (cm) ≤ 2.45</text>\n<text text-anchor=\"start\" x=\"101\" y=\"-156.8\" font-family=\"Helvetica,sans-Serif\" font-size=\"14.00\" fill=\"#000000\">gini = 0.5</text>\n<text text-anchor=\"start\" x=\"91\" y=\"-141.8\" font-family=\"Helvetica,sans-Serif\" font-size=\"14.00\" fill=\"#000000\">samples = 2</text>\n<text text-anchor=\"start\" x=\"81\" y=\"-126.8\" font-family=\"Helvetica,sans-Serif\" font-size=\"14.00\" fill=\"#000000\">value = [0, 1, 1]</text>\n<text text-anchor=\"start\" x=\"74.5\" y=\"-111.8\" font-family=\"Helvetica,sans-Serif\" font-size=\"14.00\" fill=\"#000000\">class = versicolor</text>\n</g>\n<!-- 5&#45;&gt;6 -->\n<g id=\"edge6\" class=\"edge\">\n<title>5&#45;&gt;6</title>\n<path fill=\"none\" stroke=\"#000000\" d=\"M227.387,-222.8796C215.4775,-213.368 202.7266,-203.1843 190.5156,-193.432\"/>\n<polygon fill=\"#000000\" stroke=\"#000000\" points=\"192.5816,-190.6027 182.5835,-187.0969 188.2132,-196.0724 192.5816,-190.6027\"/>\n</g>\n<!-- 9 -->\n<g id=\"node10\" class=\"node\">\n<title>9</title>\n<path fill=\"#8139e5\" stroke=\"#000000\" d=\"M338,-179.5C338,-179.5 243,-179.5 243,-179.5 237,-179.5 231,-173.5 231,-167.5 231,-167.5 231,-123.5 231,-123.5 231,-117.5 237,-111.5 243,-111.5 243,-111.5 338,-111.5 338,-111.5 344,-111.5 350,-117.5 350,-123.5 350,-123.5 350,-167.5 350,-167.5 350,-173.5 344,-179.5 338,-179.5\"/>\n<text text-anchor=\"start\" x=\"261\" y=\"-164.3\" font-family=\"Helvetica,sans-Serif\" font-size=\"14.00\" fill=\"#000000\">gini = 0.0</text>\n<text text-anchor=\"start\" x=\"251\" y=\"-149.3\" font-family=\"Helvetica,sans-Serif\" font-size=\"14.00\" fill=\"#000000\">samples = 2</text>\n<text text-anchor=\"start\" x=\"241\" y=\"-134.3\" font-family=\"Helvetica,sans-Serif\" font-size=\"14.00\" fill=\"#000000\">value = [0, 0, 2]</text>\n<text text-anchor=\"start\" x=\"239\" y=\"-119.3\" font-family=\"Helvetica,sans-Serif\" font-size=\"14.00\" fill=\"#000000\">class = virginica</text>\n</g>\n<!-- 5&#45;&gt;9 -->\n<g id=\"edge9\" class=\"edge\">\n<title>5&#45;&gt;9</title>\n<path fill=\"none\" stroke=\"#000000\" d=\"M283.3473,-222.8796C284.3332,-212.2134 285.3973,-200.7021 286.3957,-189.9015\"/>\n<polygon fill=\"#000000\" stroke=\"#000000\" points=\"289.8926,-190.0947 287.328,-179.8149 282.9224,-189.4503 289.8926,-190.0947\"/>\n</g>\n<!-- 7 -->\n<g id=\"node8\" class=\"node\">\n<title>7</title>\n<path fill=\"#8139e5\" stroke=\"#000000\" d=\"M107,-68C107,-68 12,-68 12,-68 6,-68 0,-62 0,-56 0,-56 0,-12 0,-12 0,-6 6,0 12,0 12,0 107,0 107,0 113,0 119,-6 119,-12 119,-12 119,-56 119,-56 119,-62 113,-68 107,-68\"/>\n<text text-anchor=\"start\" x=\"30\" y=\"-52.8\" font-family=\"Helvetica,sans-Serif\" font-size=\"14.00\" fill=\"#000000\">gini = 0.0</text>\n<text text-anchor=\"start\" x=\"20\" y=\"-37.8\" font-family=\"Helvetica,sans-Serif\" font-size=\"14.00\" fill=\"#000000\">samples = 1</text>\n<text text-anchor=\"start\" x=\"10\" y=\"-22.8\" font-family=\"Helvetica,sans-Serif\" font-size=\"14.00\" fill=\"#000000\">value = [0, 0, 1]</text>\n<text text-anchor=\"start\" x=\"8\" y=\"-7.8\" font-family=\"Helvetica,sans-Serif\" font-size=\"14.00\" fill=\"#000000\">class = virginica</text>\n</g>\n<!-- 6&#45;&gt;7 -->\n<g id=\"edge7\" class=\"edge\">\n<title>6&#45;&gt;7</title>\n<path fill=\"none\" stroke=\"#000000\" d=\"M104.0622,-103.9815C98.444,-95.1585 92.5012,-85.8258 86.8497,-76.9506\"/>\n<polygon fill=\"#000000\" stroke=\"#000000\" points=\"89.6416,-74.8188 81.3181,-68.2637 83.7371,-78.5787 89.6416,-74.8188\"/>\n</g>\n<!-- 8 -->\n<g id=\"node9\" class=\"node\">\n<title>8</title>\n<path fill=\"#39e581\" stroke=\"#000000\" d=\"M253.5,-68C253.5,-68 149.5,-68 149.5,-68 143.5,-68 137.5,-62 137.5,-56 137.5,-56 137.5,-12 137.5,-12 137.5,-6 143.5,0 149.5,0 149.5,0 253.5,0 253.5,0 259.5,0 265.5,-6 265.5,-12 265.5,-12 265.5,-56 265.5,-56 265.5,-62 259.5,-68 253.5,-68\"/>\n<text text-anchor=\"start\" x=\"172\" y=\"-52.8\" font-family=\"Helvetica,sans-Serif\" font-size=\"14.00\" fill=\"#000000\">gini = 0.0</text>\n<text text-anchor=\"start\" x=\"162\" y=\"-37.8\" font-family=\"Helvetica,sans-Serif\" font-size=\"14.00\" fill=\"#000000\">samples = 1</text>\n<text text-anchor=\"start\" x=\"152\" y=\"-22.8\" font-family=\"Helvetica,sans-Serif\" font-size=\"14.00\" fill=\"#000000\">value = [0, 1, 0]</text>\n<text text-anchor=\"start\" x=\"145.5\" y=\"-7.8\" font-family=\"Helvetica,sans-Serif\" font-size=\"14.00\" fill=\"#000000\">class = versicolor</text>\n</g>\n<!-- 6&#45;&gt;8 -->\n<g id=\"edge8\" class=\"edge\">\n<title>6&#45;&gt;8</title>\n<path fill=\"none\" stroke=\"#000000\" d=\"M156.9378,-103.9815C162.556,-95.1585 168.4988,-85.8258 174.1503,-76.9506\"/>\n<polygon fill=\"#000000\" stroke=\"#000000\" points=\"177.2629,-78.5787 179.6819,-68.2637 171.3584,-74.8188 177.2629,-78.5787\"/>\n</g>\n<!-- 11 -->\n<g id=\"node12\" class=\"node\">\n<title>11</title>\n<path fill=\"#ab7bee\" stroke=\"#000000\" d=\"M529,-306C529,-306 396,-306 396,-306 390,-306 384,-300 384,-294 384,-294 384,-235 384,-235 384,-229 390,-223 396,-223 396,-223 529,-223 529,-223 535,-223 541,-229 541,-235 541,-235 541,-294 541,-294 541,-300 535,-306 529,-306\"/>\n<text text-anchor=\"start\" x=\"392\" y=\"-290.8\" font-family=\"Helvetica,sans-Serif\" font-size=\"14.00\" fill=\"#000000\">sepal width (cm) ≤ 3.1</text>\n<text text-anchor=\"start\" x=\"424.5\" y=\"-275.8\" font-family=\"Helvetica,sans-Serif\" font-size=\"14.00\" fill=\"#000000\">gini = 0.375</text>\n<text text-anchor=\"start\" x=\"423\" y=\"-260.8\" font-family=\"Helvetica,sans-Serif\" font-size=\"14.00\" fill=\"#000000\">samples = 4</text>\n<text text-anchor=\"start\" x=\"413\" y=\"-245.8\" font-family=\"Helvetica,sans-Serif\" font-size=\"14.00\" fill=\"#000000\">value = [0, 1, 3]</text>\n<text text-anchor=\"start\" x=\"411\" y=\"-230.8\" font-family=\"Helvetica,sans-Serif\" font-size=\"14.00\" fill=\"#000000\">class = virginica</text>\n</g>\n<!-- 10&#45;&gt;11 -->\n<g id=\"edge11\" class=\"edge\">\n<title>10&#45;&gt;11</title>\n<path fill=\"none\" stroke=\"#000000\" d=\"M463.1502,-341.8796C463.0814,-333.6838 463.0083,-324.9891 462.937,-316.5013\"/>\n<polygon fill=\"#000000\" stroke=\"#000000\" points=\"466.4352,-316.2683 462.8512,-306.2981 459.4355,-316.3272 466.4352,-316.2683\"/>\n</g>\n<!-- 14 -->\n<g id=\"node15\" class=\"node\">\n<title>14</title>\n<path fill=\"#8139e5\" stroke=\"#000000\" d=\"M670,-298.5C670,-298.5 571,-298.5 571,-298.5 565,-298.5 559,-292.5 559,-286.5 559,-286.5 559,-242.5 559,-242.5 559,-236.5 565,-230.5 571,-230.5 571,-230.5 670,-230.5 670,-230.5 676,-230.5 682,-236.5 682,-242.5 682,-242.5 682,-286.5 682,-286.5 682,-292.5 676,-298.5 670,-298.5\"/>\n<text text-anchor=\"start\" x=\"591\" y=\"-283.3\" font-family=\"Helvetica,sans-Serif\" font-size=\"14.00\" fill=\"#000000\">gini = 0.0</text>\n<text text-anchor=\"start\" x=\"576.5\" y=\"-268.3\" font-family=\"Helvetica,sans-Serif\" font-size=\"14.00\" fill=\"#000000\">samples = 26</text>\n<text text-anchor=\"start\" x=\"567\" y=\"-253.3\" font-family=\"Helvetica,sans-Serif\" font-size=\"14.00\" fill=\"#000000\">value = [0, 0, 26]</text>\n<text text-anchor=\"start\" x=\"569\" y=\"-238.3\" font-family=\"Helvetica,sans-Serif\" font-size=\"14.00\" fill=\"#000000\">class = virginica</text>\n</g>\n<!-- 10&#45;&gt;14 -->\n<g id=\"edge14\" class=\"edge\">\n<title>10&#45;&gt;14</title>\n<path fill=\"none\" stroke=\"#000000\" d=\"M518.411,-341.8796C534.2994,-329.8368 551.6091,-316.7167 567.3857,-304.7586\"/>\n<polygon fill=\"#000000\" stroke=\"#000000\" points=\"569.6253,-307.4529 575.4805,-298.623 565.3969,-301.8743 569.6253,-307.4529\"/>\n</g>\n<!-- 12 -->\n<g id=\"node13\" class=\"node\">\n<title>12</title>\n<path fill=\"#8139e5\" stroke=\"#000000\" d=\"M499,-179.5C499,-179.5 404,-179.5 404,-179.5 398,-179.5 392,-173.5 392,-167.5 392,-167.5 392,-123.5 392,-123.5 392,-117.5 398,-111.5 404,-111.5 404,-111.5 499,-111.5 499,-111.5 505,-111.5 511,-117.5 511,-123.5 511,-123.5 511,-167.5 511,-167.5 511,-173.5 505,-179.5 499,-179.5\"/>\n<text text-anchor=\"start\" x=\"422\" y=\"-164.3\" font-family=\"Helvetica,sans-Serif\" font-size=\"14.00\" fill=\"#000000\">gini = 0.0</text>\n<text text-anchor=\"start\" x=\"412\" y=\"-149.3\" font-family=\"Helvetica,sans-Serif\" font-size=\"14.00\" fill=\"#000000\">samples = 3</text>\n<text text-anchor=\"start\" x=\"402\" y=\"-134.3\" font-family=\"Helvetica,sans-Serif\" font-size=\"14.00\" fill=\"#000000\">value = [0, 0, 3]</text>\n<text text-anchor=\"start\" x=\"400\" y=\"-119.3\" font-family=\"Helvetica,sans-Serif\" font-size=\"14.00\" fill=\"#000000\">class = virginica</text>\n</g>\n<!-- 11&#45;&gt;12 -->\n<g id=\"edge12\" class=\"edge\">\n<title>11&#45;&gt;12</title>\n<path fill=\"none\" stroke=\"#000000\" d=\"M458.6527,-222.8796C457.6668,-212.2134 456.6027,-200.7021 455.6043,-189.9015\"/>\n<polygon fill=\"#000000\" stroke=\"#000000\" points=\"459.0776,-189.4503 454.672,-179.8149 452.1074,-190.0947 459.0776,-189.4503\"/>\n</g>\n<!-- 13 -->\n<g id=\"node14\" class=\"node\">\n<title>13</title>\n<path fill=\"#39e581\" stroke=\"#000000\" d=\"M645.5,-179.5C645.5,-179.5 541.5,-179.5 541.5,-179.5 535.5,-179.5 529.5,-173.5 529.5,-167.5 529.5,-167.5 529.5,-123.5 529.5,-123.5 529.5,-117.5 535.5,-111.5 541.5,-111.5 541.5,-111.5 645.5,-111.5 645.5,-111.5 651.5,-111.5 657.5,-117.5 657.5,-123.5 657.5,-123.5 657.5,-167.5 657.5,-167.5 657.5,-173.5 651.5,-179.5 645.5,-179.5\"/>\n<text text-anchor=\"start\" x=\"564\" y=\"-164.3\" font-family=\"Helvetica,sans-Serif\" font-size=\"14.00\" fill=\"#000000\">gini = 0.0</text>\n<text text-anchor=\"start\" x=\"554\" y=\"-149.3\" font-family=\"Helvetica,sans-Serif\" font-size=\"14.00\" fill=\"#000000\">samples = 1</text>\n<text text-anchor=\"start\" x=\"544\" y=\"-134.3\" font-family=\"Helvetica,sans-Serif\" font-size=\"14.00\" fill=\"#000000\">value = [0, 1, 0]</text>\n<text text-anchor=\"start\" x=\"537.5\" y=\"-119.3\" font-family=\"Helvetica,sans-Serif\" font-size=\"14.00\" fill=\"#000000\">class = versicolor</text>\n</g>\n<!-- 11&#45;&gt;13 -->\n<g id=\"edge13\" class=\"edge\">\n<title>11&#45;&gt;13</title>\n<path fill=\"none\" stroke=\"#000000\" d=\"M508.3174,-222.8796C521.2697,-211.1138 535.354,-198.3197 548.2714,-186.5855\"/>\n<polygon fill=\"#000000\" stroke=\"#000000\" points=\"550.6761,-189.1296 555.7247,-179.8149 545.9694,-183.9482 550.6761,-189.1296\"/>\n</g>\n</g>\n</svg>\n"
          },
          "metadata": {
            "tags": []
          },
          "execution_count": 30
        }
      ]
    },
    {
      "cell_type": "code",
      "metadata": {
        "id": "UBn7Wfy4gPxw",
        "colab_type": "code",
        "colab": {
          "base_uri": "https://localhost:8080/",
          "height": 51
        },
        "outputId": "caed6ed2-abb8-4539-de2c-2a0cfe0ee639"
      },
      "source": [
        "sklearn_y_preds = dt.predict(X_test)\n",
        "print(f\"Sklearn Implementation:\\nACCURACY: {accuracy_score(y_test, sklearn_y_preds)}\")"
      ],
      "execution_count": null,
      "outputs": [
        {
          "output_type": "stream",
          "text": [
            "Sklearn Implementation:\n",
            "ACCURACY: 0.9736842105263158\n"
          ],
          "name": "stdout"
        }
      ]
    },
    {
      "cell_type": "code",
      "metadata": {
        "id": "oo2X0igrjdFg",
        "colab_type": "code",
        "colab": {}
      },
      "source": [
        "def partition(data, column, value):\n",
        "  left = data[data[column] <= value].index\n",
        "  right = data[data[column] > value].index\n",
        "  return left, right"
      ],
      "execution_count": null,
      "outputs": []
    },
    {
      "cell_type": "code",
      "metadata": {
        "id": "hEiD6SxskcnO",
        "colab_type": "code",
        "colab": {
          "base_uri": "https://localhost:8080/",
          "height": 68
        },
        "outputId": "61d72c1c-ba78-4cd4-c887-791e18a166a0"
      },
      "source": [
        "left_idx, right_idx = partition(X_train, \"petal length (cm)\", 2.45)\n",
        "\n",
        "print(\"[petal length (cm) <= 2.45]\")\n",
        "\n",
        "# print results --> left_idx = 38 setosa | right index = 42 versicolor, 32 virginica \n",
        "print(f\"left_idx: {dict(zip(np.unique(y_train.loc[left_idx], return_counts=True)[0], np.unique(y_train.loc[left_idx], return_counts=True)[1]))}\\n\\\n",
        "right_idx: {dict(zip(np.unique(y_train.loc[right_idx], return_counts=True)[0], np.unique(y_train.loc[right_idx], return_counts=True)[1]))}\")"
      ],
      "execution_count": null,
      "outputs": [
        {
          "output_type": "stream",
          "text": [
            "[petal length (cm) <= 2.45]\n",
            "left_idx: {'setosa': 38}\n",
            "right_idx: {'versicolor': 42, 'virginica': 32}\n"
          ],
          "name": "stdout"
        }
      ]
    },
    {
      "cell_type": "code",
      "metadata": {
        "id": "szN5rzf-n9Z8",
        "colab_type": "code",
        "colab": {}
      },
      "source": [
        "def gini_impurity(labels, labels_indxs):\n",
        "  unq_labels, unq_labels_count = np.unique(labels.loc[labels_indxs], return_counts = True)\n",
        "  impurity = 1.0\n",
        "  count_of_labels = np.sum(unq_labels_count)\n",
        "  for label_counts in unq_labels_count:\n",
        "    p_label = label_counts / count_of_labels\n",
        "    impurity -= p_label ** 2\n",
        "  return impurity"
      ],
      "execution_count": null,
      "outputs": []
    },
    {
      "cell_type": "code",
      "metadata": {
        "id": "Ls4ro20UoiVA",
        "colab_type": "code",
        "colab": {
          "base_uri": "https://localhost:8080/",
          "height": 34
        },
        "outputId": "ed51f76a-c2a2-4b4d-a999-88ba5a33348b"
      },
      "source": [
        "impurity = gini_impurity(y_train, y_train.index)\n",
        "impurity"
      ],
      "execution_count": null,
      "outputs": [
        {
          "output_type": "execute_result",
          "data": {
            "text/plain": [
              "0.6626275510204082"
            ]
          },
          "metadata": {
            "tags": []
          },
          "execution_count": 68
        }
      ]
    },
    {
      "cell_type": "code",
      "metadata": {
        "id": "_rdi0Hxco61d",
        "colab_type": "code",
        "colab": {}
      },
      "source": [
        "def info_gain(labels, left_idx, right_idx, impurity):\n",
        "  length_left_indx = len(left_idx)\n",
        "  length_right_indx = len(right_idx)\n",
        "  p = length_left_indx / (length_left_indx + length_right_indx)\n",
        "  information_gain = impurity - p  * gini_impurity(labels, left_idx) - (1-p)*gini_impurity(labels, right_idx)\n",
        "  return information_gain"
      ],
      "execution_count": null,
      "outputs": []
    },
    {
      "cell_type": "code",
      "metadata": {
        "id": "lWtoXTkDpuJo",
        "colab_type": "code",
        "colab": {
          "base_uri": "https://localhost:8080/",
          "height": 34
        },
        "outputId": "9dc2a10f-32ae-4d02-84fd-9e9ce4d2303c"
      },
      "source": [
        "# testing info gain of the first split at root node\n",
        "information_gain = info_gain(y_train, left_idx, right_idx, impurity)\n",
        "information_gain"
      ],
      "execution_count": null,
      "outputs": [
        {
          "output_type": "execute_result",
          "data": {
            "text/plain": [
              "0.25446843371494937"
            ]
          },
          "metadata": {
            "tags": []
          },
          "execution_count": 70
        }
      ]
    },
    {
      "cell_type": "code",
      "metadata": {
        "id": "WPXWw487xr9X",
        "colab_type": "code",
        "colab": {
          "base_uri": "https://localhost:8080/",
          "height": 51
        },
        "outputId": "effba8af-0772-4ab6-d89f-6c67124cebd8"
      },
      "source": [
        "# testing a random feature and value to see the information gain\n",
        "left_idx, right_idx = partition(X_train, \"petal width (cm)\", 1.65)\n",
        "\n",
        "impurity = gini_impurity(y_train, y_train.index)\n",
        "print(impurity)\n",
        "info_gain(y_train, left_idx, right_idx, impurity)"
      ],
      "execution_count": null,
      "outputs": [
        {
          "output_type": "stream",
          "text": [
            "0.6626275510204082\n"
          ],
          "name": "stdout"
        },
        {
          "output_type": "execute_result",
          "data": {
            "text/plain": [
              "0.25446843371494937"
            ]
          },
          "metadata": {
            "tags": []
          },
          "execution_count": 71
        }
      ]
    },
    {
      "cell_type": "code",
      "metadata": {
        "id": "RRhtLITfx-Uz",
        "colab_type": "code",
        "colab": {}
      },
      "source": [
        "def find_best_split(df, labels, indxs):\n",
        "  best_gain = 0\n",
        "  best_col = None\n",
        "  best_val = None\n",
        "  df = df.loc[indxs]\n",
        "  labels_indxs = labels.loc[indxs].index\n",
        "  impurity = gini_impurity(labels, labels_indxs)\n",
        "  for col in df.columns:\n",
        "    for unq_val in df[col].unique():\n",
        "      left_indx, right_indx = partition(df, col, unq_val)\n",
        "      if len(left_indx) == 0 or len(right_idx) == 0:\n",
        "        continue\n",
        "      information_gain = info_gain(labels, left_indx, right_indx, impurity)\n",
        "      if information_gain > best_gain:\n",
        "        best_gain = information_gain\n",
        "        best_col = col\n",
        "        best_val = unq_val\n",
        "  return best_gain, best_col, best_val\n"
      ],
      "execution_count": 80,
      "outputs": []
    },
    {
      "cell_type": "code",
      "metadata": {
        "id": "vKCAR-Qxy4Vk",
        "colab_type": "code",
        "colab": {
          "base_uri": "https://localhost:8080/",
          "height": 34
        },
        "outputId": "25596ff1-24ae-447d-b367-f0ab3fd4eb94"
      },
      "source": [
        "find_best_split(X_train, y_train, y_train.index)"
      ],
      "execution_count": 81,
      "outputs": [
        {
          "output_type": "execute_result",
          "data": {
            "text/plain": [
              "(0.33830322669608387, 'petal length (cm)', 1.9)"
            ]
          },
          "metadata": {
            "tags": []
          },
          "execution_count": 81
        }
      ]
    },
    {
      "cell_type": "code",
      "metadata": {
        "id": "qmoWNH-D_oPw",
        "colab_type": "code",
        "colab": {}
      },
      "source": [
        "def count(labels, indxs):\n",
        "  unq_labels, unq_indxs = np.unique(labels.loc[indxs], return_counts=True)\n",
        "  dict_label_count = dict(zip(unq_labels, unq_indxs))\n",
        "  return dict_label_count"
      ],
      "execution_count": 82,
      "outputs": []
    },
    {
      "cell_type": "code",
      "metadata": {
        "id": "V6fmBwcjBUgE",
        "colab_type": "code",
        "colab": {
          "base_uri": "https://localhost:8080/",
          "height": 34
        },
        "outputId": "ec3c44a4-f2d4-4e8f-bb00-528dc6d6ea00"
      },
      "source": [
        "count(y_train, y_train.index)"
      ],
      "execution_count": 83,
      "outputs": [
        {
          "output_type": "execute_result",
          "data": {
            "text/plain": [
              "{'setosa': 38, 'versicolor': 42, 'virginica': 32}"
            ]
          },
          "metadata": {
            "tags": []
          },
          "execution_count": 83
        }
      ]
    },
    {
      "cell_type": "code",
      "metadata": {
        "id": "z_QyvYORBW1l",
        "colab_type": "code",
        "colab": {}
      },
      "source": [
        "class Leaf:\n",
        "  def __init__(self, labels, indxs):\n",
        "    self.predictions = count(labels, indxs)\n",
        "\n",
        "class Node:\n",
        "  def __init__(self, column, value, true_branch, false_branch):\n",
        "    self.column = column\n",
        "    self.value = value\n",
        "    self.true_branch = true_branch\n",
        "    self.false_branch = false_branch\n",
        "\n",
        "def print_tree(node, spacing = \"\"):\n",
        "  if isinstance(node, Leaf):\n",
        "    print(spacing + \"Predict\", node.predictions)\n",
        "    return \n",
        "  print(spacing + f\"[{node.column} <= {node.value}]\")   \n",
        "\n",
        "  # Call this function recursively on the true branch\n",
        "  print(spacing + '--> True:')\n",
        "  print_tree(node.true_branch, spacing + \"  \")\n",
        "\n",
        "  # Call this function recursively on the false branch\n",
        "  print(spacing + '--> False:')\n",
        "  print_tree(node.false_branch, spacing + \"  \") "
      ],
      "execution_count": 88,
      "outputs": []
    },
    {
      "cell_type": "code",
      "metadata": {
        "id": "zrRlejo3DUxJ",
        "colab_type": "code",
        "colab": {
          "base_uri": "https://localhost:8080/",
          "height": 510
        },
        "outputId": "f5bc3387-cc69-4d85-e174-d30504a9a995"
      },
      "source": [
        "def build_tree(df, labels, indxs):\n",
        "  best_gain, best_col, best_value = find_best_split(df, labels, indxs)\n",
        "  if best_gain == 0: \n",
        "        return Leaf(labels, labels.loc[indxs].index)\n",
        "  left_indx, right_indx = partition(df.loc[indxs], best_col, best_value)\n",
        "\n",
        "  true_branch = build_tree(df, labels, left_indx)\n",
        "  false_branch = build_tree(df, labels, right_indx)\n",
        "\n",
        "  return Node(best_col, best_value, true_branch, false_branch)\n",
        "\n",
        "my_tree = build_tree(X_train, y_train, X_train.index)\n",
        "print_tree(my_tree)"
      ],
      "execution_count": 89,
      "outputs": [
        {
          "output_type": "stream",
          "text": [
            "[petal length (cm) <= 1.9]\n",
            "--> True:\n",
            "  Predict {'setosa': 38}\n",
            "--> False:\n",
            "  [petal width (cm) <= 1.6]\n",
            "  --> True:\n",
            "    [petal length (cm) <= 4.9]\n",
            "    --> True:\n",
            "      Predict {'versicolor': 40}\n",
            "    --> False:\n",
            "      [sepal length (cm) <= 6.0]\n",
            "      --> True:\n",
            "        [sepal width (cm) <= 2.2]\n",
            "        --> True:\n",
            "          Predict {'virginica': 1}\n",
            "        --> False:\n",
            "          Predict {'versicolor': 1}\n",
            "      --> False:\n",
            "        Predict {'virginica': 2}\n",
            "  --> False:\n",
            "    [petal length (cm) <= 4.8]\n",
            "    --> True:\n",
            "      [sepal width (cm) <= 3.0]\n",
            "      --> True:\n",
            "        Predict {'virginica': 3}\n",
            "      --> False:\n",
            "        Predict {'versicolor': 1}\n",
            "    --> False:\n",
            "      Predict {'virginica': 26}\n"
          ],
          "name": "stdout"
        }
      ]
    },
    {
      "cell_type": "code",
      "metadata": {
        "id": "Q5joRtpDEOYr",
        "colab_type": "code",
        "colab": {}
      },
      "source": [
        "def predict(test_data, tree):\n",
        "    \n",
        "    \"\"\"\n",
        "    Classify unseen examples\n",
        "    \n",
        "    Inputs\n",
        "    test_data: Unseen observation\n",
        "    tree: tree that has been trained on training data\n",
        "    \n",
        "    Output\n",
        "    The prediction of the observation.\n",
        "    \"\"\"\n",
        "    \n",
        "    # Check if we are at a leaf node\n",
        "    if isinstance(tree, Leaf): \n",
        "        return max(tree.predictions)\n",
        "    \n",
        "    # the current feature_name and value \n",
        "    feature_name, feature_value = tree.column, tree.value\n",
        "    \n",
        "    # pass the observation through the nodes recursively\n",
        "    if test_data[feature_name] <= feature_value: \n",
        "        return predict(test_data, tree.true_branch)\n",
        "    \n",
        "    else: \n",
        "        return predict(test_data, tree.false_branch)"
      ],
      "execution_count": 90,
      "outputs": []
    },
    {
      "cell_type": "code",
      "metadata": {
        "id": "rU89HiauFNzN",
        "colab_type": "code",
        "colab": {
          "base_uri": "https://localhost:8080/",
          "height": 35
        },
        "outputId": "d57bff98-5767-42ba-dfa1-ba14fff66a7a"
      },
      "source": [
        "# taking one instance to test function \n",
        "example, example_target = X_test.iloc[6], y_test.iloc[6]\n",
        "example, example_target\n",
        "predict(example, my_tree)"
      ],
      "execution_count": 92,
      "outputs": [
        {
          "output_type": "execute_result",
          "data": {
            "application/vnd.google.colaboratory.intrinsic+json": {
              "type": "string"
            },
            "text/plain": [
              "'setosa'"
            ]
          },
          "metadata": {
            "tags": []
          },
          "execution_count": 92
        }
      ]
    },
    {
      "cell_type": "code",
      "metadata": {
        "id": "lSRfU7_7FR4X",
        "colab_type": "code",
        "colab": {
          "base_uri": "https://localhost:8080/",
          "height": 119
        },
        "outputId": "27818062-d84b-4864-ef09-5b794cf14a33"
      },
      "source": [
        "X_test[\"predictions\"] = X_test.apply(predict, axis=1, args=(my_tree,))"
      ],
      "execution_count": 93,
      "outputs": [
        {
          "output_type": "stream",
          "text": [
            "/usr/local/lib/python3.6/dist-packages/ipykernel_launcher.py:1: SettingWithCopyWarning: \n",
            "A value is trying to be set on a copy of a slice from a DataFrame.\n",
            "Try using .loc[row_indexer,col_indexer] = value instead\n",
            "\n",
            "See the caveats in the documentation: https://pandas.pydata.org/pandas-docs/stable/user_guide/indexing.html#returning-a-view-versus-a-copy\n",
            "  \"\"\"Entry point for launching an IPython kernel.\n"
          ],
          "name": "stderr"
        }
      ]
    },
    {
      "cell_type": "code",
      "metadata": {
        "id": "9FQVCfdeFfaj",
        "colab_type": "code",
        "colab": {
          "base_uri": "https://localhost:8080/",
          "height": 102
        },
        "outputId": "0366c51b-2fff-4749-eab7-00ca3ec3c6f9"
      },
      "source": [
        "print(f\"Sklearn Implementation:\\nACCURACY: {accuracy_score(y_test, sklearn_y_preds)}\\n\\n\\\n",
        "My Implementation:\\nACCURACY: {accuracy_score(y_test, X_test['predictions'])}\")"
      ],
      "execution_count": 94,
      "outputs": [
        {
          "output_type": "stream",
          "text": [
            "Sklearn Implementation:\n",
            "ACCURACY: 0.9736842105263158\n",
            "\n",
            "My Implementation:\n",
            "ACCURACY: 0.9736842105263158\n"
          ],
          "name": "stdout"
        }
      ]
    },
    {
      "cell_type": "code",
      "metadata": {
        "id": "al4V2aRcFnHd",
        "colab_type": "code",
        "colab": {}
      },
      "source": [
        ""
      ],
      "execution_count": null,
      "outputs": []
    }
  ]
}