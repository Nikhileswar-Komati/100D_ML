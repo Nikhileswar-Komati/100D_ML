{
  "nbformat": 4,
  "nbformat_minor": 0,
  "metadata": {
    "colab": {
      "name": "JanataHack.ipynb",
      "provenance": [],
      "collapsed_sections": [],
      "authorship_tag": "ABX9TyNPFqvTIitqA1VUNotLTVwF",
      "include_colab_link": true
    },
    "kernelspec": {
      "name": "python3",
      "display_name": "Python 3"
    },
    "accelerator": "GPU"
  },
  "cells": [
    {
      "cell_type": "markdown",
      "metadata": {
        "id": "view-in-github",
        "colab_type": "text"
      },
      "source": [
        "<a href=\"https://colab.research.google.com/github/Nikhileswar-Komati/100D_ML/blob/master/Hackathon/JanataHack.ipynb\" target=\"_parent\"><img src=\"https://colab.research.google.com/assets/colab-badge.svg\" alt=\"Open In Colab\"/></a>"
      ]
    },
    {
      "cell_type": "code",
      "metadata": {
        "id": "eP2BODv7YCrY",
        "colab_type": "code",
        "colab": {
          "base_uri": "https://localhost:8080/",
          "height": 71
        },
        "outputId": "99da9c61-3005-4746-c163-a759db963432"
      },
      "source": [
        "import pandas as pd\n",
        "import numpy as np\n",
        "import seaborn as sns"
      ],
      "execution_count": null,
      "outputs": [
        {
          "output_type": "stream",
          "text": [
            "/usr/local/lib/python3.6/dist-packages/statsmodels/tools/_testing.py:19: FutureWarning: pandas.util.testing is deprecated. Use the functions in the public API at pandas.testing instead.\n",
            "  import pandas.util.testing as tm\n"
          ],
          "name": "stderr"
        }
      ]
    },
    {
      "cell_type": "code",
      "metadata": {
        "id": "Is3NBE8qYSbb",
        "colab_type": "code",
        "colab": {}
      },
      "source": [
        "from google.colab import files\n",
        "files.upload()"
      ],
      "execution_count": null,
      "outputs": []
    },
    {
      "cell_type": "code",
      "metadata": {
        "id": "u4PZ3wlVYkcU",
        "colab_type": "code",
        "colab": {
          "base_uri": "https://localhost:8080/",
          "height": 170
        },
        "outputId": "30881eb3-9d81-4b9c-fc8c-63a527ccae53"
      },
      "source": [
        "! unzip '/content/Train_hMYJ020.zip'\n",
        "! unzip '/content/Test_ND2Q3bm.zip'"
      ],
      "execution_count": null,
      "outputs": [
        {
          "output_type": "stream",
          "text": [
            "Archive:  /content/Train_hMYJ020.zip\n",
            "  inflating: train_data_dict.csv     \n",
            "   creating: __MACOSX/\n",
            "  inflating: __MACOSX/._train_data_dict.csv  \n",
            "  inflating: train.csv               \n",
            "  inflating: __MACOSX/._train.csv    \n",
            "Archive:  /content/Test_ND2Q3bm.zip\n",
            "  inflating: test.csv                \n",
            "  inflating: __MACOSX/._test.csv     \n"
          ],
          "name": "stdout"
        }
      ]
    },
    {
      "cell_type": "code",
      "metadata": {
        "id": "e9cJPMIwYYsu",
        "colab_type": "code",
        "colab": {}
      },
      "source": [
        "train = pd.read_csv('/content/train.csv')\n",
        "test = pd.read_csv('/content/test.csv')"
      ],
      "execution_count": null,
      "outputs": []
    },
    {
      "cell_type": "code",
      "metadata": {
        "id": "NIl_s0lbZPKK",
        "colab_type": "code",
        "colab": {
          "base_uri": "https://localhost:8080/",
          "height": 607
        },
        "outputId": "33bae815-acfa-4037-9f63-11d424031ac3"
      },
      "source": [
        "dicts = pd.read_csv('/content/train_data_dict.csv')\n",
        "dicts"
      ],
      "execution_count": null,
      "outputs": [
        {
          "output_type": "execute_result",
          "data": {
            "text/html": [
              "<div>\n",
              "<style scoped>\n",
              "    .dataframe tbody tr th:only-of-type {\n",
              "        vertical-align: middle;\n",
              "    }\n",
              "\n",
              "    .dataframe tbody tr th {\n",
              "        vertical-align: top;\n",
              "    }\n",
              "\n",
              "    .dataframe thead th {\n",
              "        text-align: right;\n",
              "    }\n",
              "</style>\n",
              "<table border=\"1\" class=\"dataframe\">\n",
              "  <thead>\n",
              "    <tr style=\"text-align: right;\">\n",
              "      <th></th>\n",
              "      <th>Column</th>\n",
              "      <th>Description</th>\n",
              "    </tr>\n",
              "  </thead>\n",
              "  <tbody>\n",
              "    <tr>\n",
              "      <th>0</th>\n",
              "      <td>case_id</td>\n",
              "      <td>Case_ID registered in Hospital</td>\n",
              "    </tr>\n",
              "    <tr>\n",
              "      <th>1</th>\n",
              "      <td>Hospital_code</td>\n",
              "      <td>Unique code for the Hospital</td>\n",
              "    </tr>\n",
              "    <tr>\n",
              "      <th>2</th>\n",
              "      <td>Hospital_type_code</td>\n",
              "      <td>Unique code for the type of Hospital</td>\n",
              "    </tr>\n",
              "    <tr>\n",
              "      <th>3</th>\n",
              "      <td>City_Code_Hospital</td>\n",
              "      <td>City Code of the Hospital</td>\n",
              "    </tr>\n",
              "    <tr>\n",
              "      <th>4</th>\n",
              "      <td>Hospital_region_code</td>\n",
              "      <td>Region Code of the Hospital</td>\n",
              "    </tr>\n",
              "    <tr>\n",
              "      <th>5</th>\n",
              "      <td>Available Extra Rooms in Hospital</td>\n",
              "      <td>Number of Extra rooms available in the Hospital</td>\n",
              "    </tr>\n",
              "    <tr>\n",
              "      <th>6</th>\n",
              "      <td>Department</td>\n",
              "      <td>Department overlooking the case</td>\n",
              "    </tr>\n",
              "    <tr>\n",
              "      <th>7</th>\n",
              "      <td>Ward_Type</td>\n",
              "      <td>Code for the Ward type</td>\n",
              "    </tr>\n",
              "    <tr>\n",
              "      <th>8</th>\n",
              "      <td>Ward_Facility_Code</td>\n",
              "      <td>Code for the Ward Facility</td>\n",
              "    </tr>\n",
              "    <tr>\n",
              "      <th>9</th>\n",
              "      <td>Bed Grade</td>\n",
              "      <td>Condition of Bed in the Ward</td>\n",
              "    </tr>\n",
              "    <tr>\n",
              "      <th>10</th>\n",
              "      <td>patientid</td>\n",
              "      <td>Unique Patient Id</td>\n",
              "    </tr>\n",
              "    <tr>\n",
              "      <th>11</th>\n",
              "      <td>City_Code_Patient</td>\n",
              "      <td>City Code for the patient</td>\n",
              "    </tr>\n",
              "    <tr>\n",
              "      <th>12</th>\n",
              "      <td>Type of Admission</td>\n",
              "      <td>Admission Type registered by the Hospital</td>\n",
              "    </tr>\n",
              "    <tr>\n",
              "      <th>13</th>\n",
              "      <td>Severity of Illness</td>\n",
              "      <td>Severity of the illness recorded at the time o...</td>\n",
              "    </tr>\n",
              "    <tr>\n",
              "      <th>14</th>\n",
              "      <td>Visitors with Patient</td>\n",
              "      <td>Number of Visitors with the patient</td>\n",
              "    </tr>\n",
              "    <tr>\n",
              "      <th>15</th>\n",
              "      <td>Age</td>\n",
              "      <td>Age of the patient</td>\n",
              "    </tr>\n",
              "    <tr>\n",
              "      <th>16</th>\n",
              "      <td>Admission_Deposit</td>\n",
              "      <td>Deposit at the Admission Time</td>\n",
              "    </tr>\n",
              "    <tr>\n",
              "      <th>17</th>\n",
              "      <td>Stay</td>\n",
              "      <td>Stay Days by the patient</td>\n",
              "    </tr>\n",
              "  </tbody>\n",
              "</table>\n",
              "</div>"
            ],
            "text/plain": [
              "                               Column                                        Description\n",
              "0                             case_id                     Case_ID registered in Hospital\n",
              "1                       Hospital_code                       Unique code for the Hospital\n",
              "2                  Hospital_type_code               Unique code for the type of Hospital\n",
              "3                  City_Code_Hospital                          City Code of the Hospital\n",
              "4                Hospital_region_code                        Region Code of the Hospital\n",
              "5   Available Extra Rooms in Hospital    Number of Extra rooms available in the Hospital\n",
              "6                          Department                    Department overlooking the case\n",
              "7                           Ward_Type                             Code for the Ward type\n",
              "8                  Ward_Facility_Code                         Code for the Ward Facility\n",
              "9                           Bed Grade                       Condition of Bed in the Ward\n",
              "10                          patientid                                  Unique Patient Id\n",
              "11                  City_Code_Patient                          City Code for the patient\n",
              "12                  Type of Admission          Admission Type registered by the Hospital\n",
              "13                Severity of Illness  Severity of the illness recorded at the time o...\n",
              "14              Visitors with Patient                Number of Visitors with the patient\n",
              "15                                Age                                 Age of the patient\n",
              "16                  Admission_Deposit                      Deposit at the Admission Time\n",
              "17                               Stay                           Stay Days by the patient"
            ]
          },
          "metadata": {
            "tags": []
          },
          "execution_count": 5
        }
      ]
    },
    {
      "cell_type": "code",
      "metadata": {
        "id": "DSUhfdUHZYiD",
        "colab_type": "code",
        "colab": {
          "base_uri": "https://localhost:8080/",
          "height": 411
        },
        "outputId": "f2d5ac12-cb6f-4218-bee7-769d08568d9f"
      },
      "source": [
        "train['source'] = 'train'\n",
        "test['source'] = 'test'\n",
        "data = pd.concat([train, test])\n",
        "print(data.shape, train.shape, test.shape)\n",
        "data.sample(5)"
      ],
      "execution_count": null,
      "outputs": [
        {
          "output_type": "stream",
          "text": [
            "(455495, 19) (318438, 19) (137057, 18)\n"
          ],
          "name": "stdout"
        },
        {
          "output_type": "execute_result",
          "data": {
            "text/html": [
              "<div>\n",
              "<style scoped>\n",
              "    .dataframe tbody tr th:only-of-type {\n",
              "        vertical-align: middle;\n",
              "    }\n",
              "\n",
              "    .dataframe tbody tr th {\n",
              "        vertical-align: top;\n",
              "    }\n",
              "\n",
              "    .dataframe thead th {\n",
              "        text-align: right;\n",
              "    }\n",
              "</style>\n",
              "<table border=\"1\" class=\"dataframe\">\n",
              "  <thead>\n",
              "    <tr style=\"text-align: right;\">\n",
              "      <th></th>\n",
              "      <th>case_id</th>\n",
              "      <th>Hospital_code</th>\n",
              "      <th>Hospital_type_code</th>\n",
              "      <th>City_Code_Hospital</th>\n",
              "      <th>Hospital_region_code</th>\n",
              "      <th>Available Extra Rooms in Hospital</th>\n",
              "      <th>Department</th>\n",
              "      <th>Ward_Type</th>\n",
              "      <th>Ward_Facility_Code</th>\n",
              "      <th>Bed Grade</th>\n",
              "      <th>patientid</th>\n",
              "      <th>City_Code_Patient</th>\n",
              "      <th>Type of Admission</th>\n",
              "      <th>Severity of Illness</th>\n",
              "      <th>Visitors with Patient</th>\n",
              "      <th>Age</th>\n",
              "      <th>Admission_Deposit</th>\n",
              "      <th>Stay</th>\n",
              "      <th>source</th>\n",
              "    </tr>\n",
              "  </thead>\n",
              "  <tbody>\n",
              "    <tr>\n",
              "      <th>288537</th>\n",
              "      <td>288538</td>\n",
              "      <td>11</td>\n",
              "      <td>b</td>\n",
              "      <td>2</td>\n",
              "      <td>Y</td>\n",
              "      <td>3</td>\n",
              "      <td>gynecology</td>\n",
              "      <td>Q</td>\n",
              "      <td>D</td>\n",
              "      <td>3.0</td>\n",
              "      <td>70002</td>\n",
              "      <td>15.0</td>\n",
              "      <td>Urgent</td>\n",
              "      <td>Moderate</td>\n",
              "      <td>8</td>\n",
              "      <td>21-30</td>\n",
              "      <td>4717.0</td>\n",
              "      <td>More than 100 Days</td>\n",
              "      <td>train</td>\n",
              "    </tr>\n",
              "    <tr>\n",
              "      <th>355</th>\n",
              "      <td>356</td>\n",
              "      <td>12</td>\n",
              "      <td>a</td>\n",
              "      <td>9</td>\n",
              "      <td>Y</td>\n",
              "      <td>4</td>\n",
              "      <td>gynecology</td>\n",
              "      <td>Q</td>\n",
              "      <td>B</td>\n",
              "      <td>2.0</td>\n",
              "      <td>79116</td>\n",
              "      <td>9.0</td>\n",
              "      <td>Urgent</td>\n",
              "      <td>Moderate</td>\n",
              "      <td>3</td>\n",
              "      <td>31-40</td>\n",
              "      <td>4988.0</td>\n",
              "      <td>21-30</td>\n",
              "      <td>train</td>\n",
              "    </tr>\n",
              "    <tr>\n",
              "      <th>77663</th>\n",
              "      <td>396102</td>\n",
              "      <td>6</td>\n",
              "      <td>a</td>\n",
              "      <td>6</td>\n",
              "      <td>X</td>\n",
              "      <td>3</td>\n",
              "      <td>radiotherapy</td>\n",
              "      <td>R</td>\n",
              "      <td>F</td>\n",
              "      <td>2.0</td>\n",
              "      <td>44665</td>\n",
              "      <td>7.0</td>\n",
              "      <td>Emergency</td>\n",
              "      <td>Moderate</td>\n",
              "      <td>4</td>\n",
              "      <td>0-10</td>\n",
              "      <td>3250.0</td>\n",
              "      <td>NaN</td>\n",
              "      <td>test</td>\n",
              "    </tr>\n",
              "    <tr>\n",
              "      <th>38358</th>\n",
              "      <td>38359</td>\n",
              "      <td>27</td>\n",
              "      <td>a</td>\n",
              "      <td>7</td>\n",
              "      <td>Y</td>\n",
              "      <td>3</td>\n",
              "      <td>radiotherapy</td>\n",
              "      <td>S</td>\n",
              "      <td>C</td>\n",
              "      <td>3.0</td>\n",
              "      <td>59482</td>\n",
              "      <td>8.0</td>\n",
              "      <td>Emergency</td>\n",
              "      <td>Moderate</td>\n",
              "      <td>4</td>\n",
              "      <td>11-20</td>\n",
              "      <td>4752.0</td>\n",
              "      <td>31-40</td>\n",
              "      <td>train</td>\n",
              "    </tr>\n",
              "    <tr>\n",
              "      <th>28949</th>\n",
              "      <td>347388</td>\n",
              "      <td>12</td>\n",
              "      <td>a</td>\n",
              "      <td>9</td>\n",
              "      <td>Y</td>\n",
              "      <td>6</td>\n",
              "      <td>gynecology</td>\n",
              "      <td>Q</td>\n",
              "      <td>B</td>\n",
              "      <td>2.0</td>\n",
              "      <td>119871</td>\n",
              "      <td>12.0</td>\n",
              "      <td>Urgent</td>\n",
              "      <td>Moderate</td>\n",
              "      <td>4</td>\n",
              "      <td>71-80</td>\n",
              "      <td>6496.0</td>\n",
              "      <td>NaN</td>\n",
              "      <td>test</td>\n",
              "    </tr>\n",
              "  </tbody>\n",
              "</table>\n",
              "</div>"
            ],
            "text/plain": [
              "        case_id  Hospital_code  ...                Stay  source\n",
              "288537   288538             11  ...  More than 100 Days   train\n",
              "355         356             12  ...               21-30   train\n",
              "77663    396102              6  ...                 NaN    test\n",
              "38358     38359             27  ...               31-40   train\n",
              "28949    347388             12  ...                 NaN    test\n",
              "\n",
              "[5 rows x 19 columns]"
            ]
          },
          "metadata": {
            "tags": []
          },
          "execution_count": 6
        }
      ]
    },
    {
      "cell_type": "code",
      "metadata": {
        "id": "4o-mSYSnaFRI",
        "colab_type": "code",
        "colab": {
          "base_uri": "https://localhost:8080/",
          "height": 357
        },
        "outputId": "c9f6be33-91d1-4f8e-a127-294159fd6607"
      },
      "source": [
        "data.isnull().sum()"
      ],
      "execution_count": null,
      "outputs": [
        {
          "output_type": "execute_result",
          "data": {
            "text/plain": [
              "case_id                                   0\n",
              "Hospital_code                             0\n",
              "Hospital_type_code                        0\n",
              "City_Code_Hospital                        0\n",
              "Hospital_region_code                      0\n",
              "Available Extra Rooms in Hospital         0\n",
              "Department                                0\n",
              "Ward_Type                                 0\n",
              "Ward_Facility_Code                        0\n",
              "Bed Grade                               148\n",
              "patientid                                 0\n",
              "City_Code_Patient                      6689\n",
              "Type of Admission                         0\n",
              "Severity of Illness                       0\n",
              "Visitors with Patient                     0\n",
              "Age                                       0\n",
              "Admission_Deposit                         0\n",
              "Stay                                 137057\n",
              "source                                    0\n",
              "dtype: int64"
            ]
          },
          "metadata": {
            "tags": []
          },
          "execution_count": 7
        }
      ]
    },
    {
      "cell_type": "code",
      "metadata": {
        "id": "xJ0ztM2lb1JU",
        "colab_type": "code",
        "colab": {
          "base_uri": "https://localhost:8080/",
          "height": 34
        },
        "outputId": "43e9e590-c3b0-43a8-ab81-32ae4d14d15e"
      },
      "source": [
        "from scipy.stats import mode\n",
        "impute_bed_grades = data.pivot_table('Bed Grade', index = ['Available Extra Rooms in Hospital', 'Ward_Type', 'Ward_Facility_Code'], aggfunc = (lambda x: mode(x).mode[0]))\n",
        "count = 0\n",
        "for i, row in data.loc[data['Bed Grade'].isnull(), :].iterrows():\n",
        "  x = (row['Available Extra Rooms in Hospital'], row['Ward_Type'], row['Ward_Facility_Code'])\n",
        "  if x in impute_bed_grades.index:\n",
        "    count += 1\n",
        "    data.loc[i,'Bed Grade'] = impute_bed_grades.loc[x].values[0]\n",
        "print(\"IMPUTED VALUES\", count)"
      ],
      "execution_count": null,
      "outputs": [
        {
          "output_type": "stream",
          "text": [
            "IMPUTED VALUES 148\n"
          ],
          "name": "stdout"
        }
      ]
    },
    {
      "cell_type": "code",
      "metadata": {
        "id": "OYrKr7cvKlYG",
        "colab_type": "code",
        "colab": {
          "base_uri": "https://localhost:8080/",
          "height": 221
        },
        "outputId": "26e183fa-8dc3-4c4f-bbfc-1b349ce45dcd"
      },
      "source": [
        "data.loc[data['City_Code_Patient'].isnull(), ['patientid', 'City_Code_Patient']]['patientid'].value_counts()"
      ],
      "execution_count": null,
      "outputs": [
        {
          "output_type": "execute_result",
          "data": {
            "text/plain": [
              "16638    19\n",
              "90620    17\n",
              "8265     16\n",
              "74285    15\n",
              "56688    12\n",
              "         ..\n",
              "59505     1\n",
              "18425     1\n",
              "10237     1\n",
              "65534     1\n",
              "34817     1\n",
              "Name: patientid, Length: 2436, dtype: int64"
            ]
          },
          "metadata": {
            "tags": []
          },
          "execution_count": 9
        }
      ]
    },
    {
      "cell_type": "code",
      "metadata": {
        "id": "nGOlxCZUfR_z",
        "colab_type": "code",
        "colab": {
          "base_uri": "https://localhost:8080/",
          "height": 34
        },
        "outputId": "37f99946-0e75-42ef-abe5-80fe07a4d7f5"
      },
      "source": [
        "from scipy.stats import mode\n",
        "impute_patient_city_codes = data.pivot_table('City_Code_Patient', index = ['City_Code_Hospital', 'Hospital_code'], aggfunc = (lambda x: mode(x).mode[0]))\n",
        "count = 0\n",
        "for i, row in data.loc[data['City_Code_Patient'].isnull(), :].iterrows():\n",
        "  x = (row['City_Code_Hospital'], row['Hospital_code'])\n",
        "  if x in impute_patient_city_codes.index:\n",
        "    count += 1\n",
        "    data.loc[i,'City_Code_Patient'] = impute_patient_city_codes.loc[x].values[0]\n",
        "print(\"IMPUTED VALUES\", count)"
      ],
      "execution_count": null,
      "outputs": [
        {
          "output_type": "stream",
          "text": [
            "IMPUTED VALUES 6689\n"
          ],
          "name": "stdout"
        }
      ]
    },
    {
      "cell_type": "code",
      "metadata": {
        "id": "JaG6ajeggFxQ",
        "colab_type": "code",
        "colab": {
          "base_uri": "https://localhost:8080/",
          "height": 357
        },
        "outputId": "9c549c2c-fdc3-429a-d177-0862d04930f8"
      },
      "source": [
        "data.isnull().sum()"
      ],
      "execution_count": null,
      "outputs": [
        {
          "output_type": "execute_result",
          "data": {
            "text/plain": [
              "case_id                                   0\n",
              "Hospital_code                             0\n",
              "Hospital_type_code                        0\n",
              "City_Code_Hospital                        0\n",
              "Hospital_region_code                      0\n",
              "Available Extra Rooms in Hospital         0\n",
              "Department                                0\n",
              "Ward_Type                                 0\n",
              "Ward_Facility_Code                        0\n",
              "Bed Grade                                 0\n",
              "patientid                                 0\n",
              "City_Code_Patient                         0\n",
              "Type of Admission                         0\n",
              "Severity of Illness                       0\n",
              "Visitors with Patient                     0\n",
              "Age                                       0\n",
              "Admission_Deposit                         0\n",
              "Stay                                 137057\n",
              "source                                    0\n",
              "dtype: int64"
            ]
          },
          "metadata": {
            "tags": []
          },
          "execution_count": 11
        }
      ]
    },
    {
      "cell_type": "code",
      "metadata": {
        "id": "IU5OJxiLhE1B",
        "colab_type": "code",
        "colab": {
          "base_uri": "https://localhost:8080/",
          "height": 314
        },
        "outputId": "b8da384f-b9ab-421d-8580-6709139929c3"
      },
      "source": [
        "data.describe()"
      ],
      "execution_count": null,
      "outputs": [
        {
          "output_type": "execute_result",
          "data": {
            "text/html": [
              "<div>\n",
              "<style scoped>\n",
              "    .dataframe tbody tr th:only-of-type {\n",
              "        vertical-align: middle;\n",
              "    }\n",
              "\n",
              "    .dataframe tbody tr th {\n",
              "        vertical-align: top;\n",
              "    }\n",
              "\n",
              "    .dataframe thead th {\n",
              "        text-align: right;\n",
              "    }\n",
              "</style>\n",
              "<table border=\"1\" class=\"dataframe\">\n",
              "  <thead>\n",
              "    <tr style=\"text-align: right;\">\n",
              "      <th></th>\n",
              "      <th>case_id</th>\n",
              "      <th>Hospital_code</th>\n",
              "      <th>City_Code_Hospital</th>\n",
              "      <th>Available Extra Rooms in Hospital</th>\n",
              "      <th>Bed Grade</th>\n",
              "      <th>patientid</th>\n",
              "      <th>City_Code_Patient</th>\n",
              "      <th>Visitors with Patient</th>\n",
              "      <th>Admission_Deposit</th>\n",
              "    </tr>\n",
              "  </thead>\n",
              "  <tbody>\n",
              "    <tr>\n",
              "      <th>count</th>\n",
              "      <td>455495.00000</td>\n",
              "      <td>455495.000000</td>\n",
              "      <td>455495.000000</td>\n",
              "      <td>455495.000000</td>\n",
              "      <td>455495.000000</td>\n",
              "      <td>455495.000000</td>\n",
              "      <td>455495.000000</td>\n",
              "      <td>455495.000000</td>\n",
              "      <td>455495.000000</td>\n",
              "    </tr>\n",
              "    <tr>\n",
              "      <th>mean</th>\n",
              "      <td>227748.00000</td>\n",
              "      <td>18.326335</td>\n",
              "      <td>4.767798</td>\n",
              "      <td>3.196140</td>\n",
              "      <td>2.628207</td>\n",
              "      <td>65786.793563</td>\n",
              "      <td>7.246455</td>\n",
              "      <td>3.284229</td>\n",
              "      <td>4877.434022</td>\n",
              "    </tr>\n",
              "    <tr>\n",
              "      <th>std</th>\n",
              "      <td>131490.22477</td>\n",
              "      <td>8.634036</td>\n",
              "      <td>3.102450</td>\n",
              "      <td>1.166994</td>\n",
              "      <td>0.871880</td>\n",
              "      <td>37968.830850</td>\n",
              "      <td>4.714925</td>\n",
              "      <td>1.768044</td>\n",
              "      <td>1084.982089</td>\n",
              "    </tr>\n",
              "    <tr>\n",
              "      <th>min</th>\n",
              "      <td>1.00000</td>\n",
              "      <td>1.000000</td>\n",
              "      <td>1.000000</td>\n",
              "      <td>0.000000</td>\n",
              "      <td>1.000000</td>\n",
              "      <td>1.000000</td>\n",
              "      <td>1.000000</td>\n",
              "      <td>0.000000</td>\n",
              "      <td>1800.000000</td>\n",
              "    </tr>\n",
              "    <tr>\n",
              "      <th>25%</th>\n",
              "      <td>113874.50000</td>\n",
              "      <td>11.000000</td>\n",
              "      <td>2.000000</td>\n",
              "      <td>2.000000</td>\n",
              "      <td>2.000000</td>\n",
              "      <td>32874.000000</td>\n",
              "      <td>4.000000</td>\n",
              "      <td>2.000000</td>\n",
              "      <td>4184.000000</td>\n",
              "    </tr>\n",
              "    <tr>\n",
              "      <th>50%</th>\n",
              "      <td>227748.00000</td>\n",
              "      <td>19.000000</td>\n",
              "      <td>5.000000</td>\n",
              "      <td>3.000000</td>\n",
              "      <td>3.000000</td>\n",
              "      <td>65735.000000</td>\n",
              "      <td>8.000000</td>\n",
              "      <td>3.000000</td>\n",
              "      <td>4738.000000</td>\n",
              "    </tr>\n",
              "    <tr>\n",
              "      <th>75%</th>\n",
              "      <td>341621.50000</td>\n",
              "      <td>26.000000</td>\n",
              "      <td>7.000000</td>\n",
              "      <td>4.000000</td>\n",
              "      <td>3.000000</td>\n",
              "      <td>98576.500000</td>\n",
              "      <td>8.000000</td>\n",
              "      <td>4.000000</td>\n",
              "      <td>5405.000000</td>\n",
              "    </tr>\n",
              "    <tr>\n",
              "      <th>max</th>\n",
              "      <td>455495.00000</td>\n",
              "      <td>32.000000</td>\n",
              "      <td>13.000000</td>\n",
              "      <td>24.000000</td>\n",
              "      <td>4.000000</td>\n",
              "      <td>131624.000000</td>\n",
              "      <td>38.000000</td>\n",
              "      <td>32.000000</td>\n",
              "      <td>11920.000000</td>\n",
              "    </tr>\n",
              "  </tbody>\n",
              "</table>\n",
              "</div>"
            ],
            "text/plain": [
              "            case_id  Hospital_code  ...  Visitors with Patient  Admission_Deposit\n",
              "count  455495.00000  455495.000000  ...          455495.000000      455495.000000\n",
              "mean   227748.00000      18.326335  ...               3.284229        4877.434022\n",
              "std    131490.22477       8.634036  ...               1.768044        1084.982089\n",
              "min         1.00000       1.000000  ...               0.000000        1800.000000\n",
              "25%    113874.50000      11.000000  ...               2.000000        4184.000000\n",
              "50%    227748.00000      19.000000  ...               3.000000        4738.000000\n",
              "75%    341621.50000      26.000000  ...               4.000000        5405.000000\n",
              "max    455495.00000      32.000000  ...              32.000000       11920.000000\n",
              "\n",
              "[8 rows x 9 columns]"
            ]
          },
          "metadata": {
            "tags": []
          },
          "execution_count": 12
        }
      ]
    },
    {
      "cell_type": "code",
      "metadata": {
        "id": "h-7xCDKUKJTF",
        "colab_type": "code",
        "colab": {
          "base_uri": "https://localhost:8080/",
          "height": 638
        },
        "outputId": "6b6ca685-f9a0-47bb-c47a-464cb0810b25"
      },
      "source": [
        "data.loc[data['patientid'] == 16638, ['patientid', 'City_Code_Patient', 'source']]"
      ],
      "execution_count": null,
      "outputs": [
        {
          "output_type": "execute_result",
          "data": {
            "text/html": [
              "<div>\n",
              "<style scoped>\n",
              "    .dataframe tbody tr th:only-of-type {\n",
              "        vertical-align: middle;\n",
              "    }\n",
              "\n",
              "    .dataframe tbody tr th {\n",
              "        vertical-align: top;\n",
              "    }\n",
              "\n",
              "    .dataframe thead th {\n",
              "        text-align: right;\n",
              "    }\n",
              "</style>\n",
              "<table border=\"1\" class=\"dataframe\">\n",
              "  <thead>\n",
              "    <tr style=\"text-align: right;\">\n",
              "      <th></th>\n",
              "      <th>patientid</th>\n",
              "      <th>City_Code_Patient</th>\n",
              "      <th>source</th>\n",
              "    </tr>\n",
              "  </thead>\n",
              "  <tbody>\n",
              "    <tr>\n",
              "      <th>73053</th>\n",
              "      <td>16638</td>\n",
              "      <td>8.0</td>\n",
              "      <td>test</td>\n",
              "    </tr>\n",
              "    <tr>\n",
              "      <th>73054</th>\n",
              "      <td>16638</td>\n",
              "      <td>8.0</td>\n",
              "      <td>test</td>\n",
              "    </tr>\n",
              "    <tr>\n",
              "      <th>73055</th>\n",
              "      <td>16638</td>\n",
              "      <td>2.0</td>\n",
              "      <td>test</td>\n",
              "    </tr>\n",
              "    <tr>\n",
              "      <th>73056</th>\n",
              "      <td>16638</td>\n",
              "      <td>8.0</td>\n",
              "      <td>test</td>\n",
              "    </tr>\n",
              "    <tr>\n",
              "      <th>73057</th>\n",
              "      <td>16638</td>\n",
              "      <td>2.0</td>\n",
              "      <td>test</td>\n",
              "    </tr>\n",
              "    <tr>\n",
              "      <th>73058</th>\n",
              "      <td>16638</td>\n",
              "      <td>8.0</td>\n",
              "      <td>test</td>\n",
              "    </tr>\n",
              "    <tr>\n",
              "      <th>73059</th>\n",
              "      <td>16638</td>\n",
              "      <td>8.0</td>\n",
              "      <td>test</td>\n",
              "    </tr>\n",
              "    <tr>\n",
              "      <th>73060</th>\n",
              "      <td>16638</td>\n",
              "      <td>8.0</td>\n",
              "      <td>test</td>\n",
              "    </tr>\n",
              "    <tr>\n",
              "      <th>73061</th>\n",
              "      <td>16638</td>\n",
              "      <td>8.0</td>\n",
              "      <td>test</td>\n",
              "    </tr>\n",
              "    <tr>\n",
              "      <th>73062</th>\n",
              "      <td>16638</td>\n",
              "      <td>8.0</td>\n",
              "      <td>test</td>\n",
              "    </tr>\n",
              "    <tr>\n",
              "      <th>73063</th>\n",
              "      <td>16638</td>\n",
              "      <td>2.0</td>\n",
              "      <td>test</td>\n",
              "    </tr>\n",
              "    <tr>\n",
              "      <th>73064</th>\n",
              "      <td>16638</td>\n",
              "      <td>8.0</td>\n",
              "      <td>test</td>\n",
              "    </tr>\n",
              "    <tr>\n",
              "      <th>73065</th>\n",
              "      <td>16638</td>\n",
              "      <td>8.0</td>\n",
              "      <td>test</td>\n",
              "    </tr>\n",
              "    <tr>\n",
              "      <th>73066</th>\n",
              "      <td>16638</td>\n",
              "      <td>8.0</td>\n",
              "      <td>test</td>\n",
              "    </tr>\n",
              "    <tr>\n",
              "      <th>73067</th>\n",
              "      <td>16638</td>\n",
              "      <td>8.0</td>\n",
              "      <td>test</td>\n",
              "    </tr>\n",
              "    <tr>\n",
              "      <th>73068</th>\n",
              "      <td>16638</td>\n",
              "      <td>1.0</td>\n",
              "      <td>test</td>\n",
              "    </tr>\n",
              "    <tr>\n",
              "      <th>73069</th>\n",
              "      <td>16638</td>\n",
              "      <td>8.0</td>\n",
              "      <td>test</td>\n",
              "    </tr>\n",
              "    <tr>\n",
              "      <th>73070</th>\n",
              "      <td>16638</td>\n",
              "      <td>8.0</td>\n",
              "      <td>test</td>\n",
              "    </tr>\n",
              "    <tr>\n",
              "      <th>73071</th>\n",
              "      <td>16638</td>\n",
              "      <td>2.0</td>\n",
              "      <td>test</td>\n",
              "    </tr>\n",
              "  </tbody>\n",
              "</table>\n",
              "</div>"
            ],
            "text/plain": [
              "       patientid  City_Code_Patient source\n",
              "73053      16638                8.0   test\n",
              "73054      16638                8.0   test\n",
              "73055      16638                2.0   test\n",
              "73056      16638                8.0   test\n",
              "73057      16638                2.0   test\n",
              "73058      16638                8.0   test\n",
              "73059      16638                8.0   test\n",
              "73060      16638                8.0   test\n",
              "73061      16638                8.0   test\n",
              "73062      16638                8.0   test\n",
              "73063      16638                2.0   test\n",
              "73064      16638                8.0   test\n",
              "73065      16638                8.0   test\n",
              "73066      16638                8.0   test\n",
              "73067      16638                8.0   test\n",
              "73068      16638                1.0   test\n",
              "73069      16638                8.0   test\n",
              "73070      16638                8.0   test\n",
              "73071      16638                2.0   test"
            ]
          },
          "metadata": {
            "tags": []
          },
          "execution_count": 13
        }
      ]
    },
    {
      "cell_type": "code",
      "metadata": {
        "id": "XS89Jpyb10u2",
        "colab_type": "code",
        "colab": {}
      },
      "source": [
        "table = data.pivot_table('City_Code_Patient', index = ['patientid'], aggfunc = (lambda x: mode(x).mode[0]))\n",
        "data['City_Code_Patient_mode'] = data['patientid'].apply(lambda x: table.loc[x])"
      ],
      "execution_count": null,
      "outputs": []
    },
    {
      "cell_type": "code",
      "metadata": {
        "id": "4wWBLZ-0DJ9m",
        "colab_type": "code",
        "colab": {
          "base_uri": "https://localhost:8080/",
          "height": 638
        },
        "outputId": "b1c99de6-67c6-4521-b052-c1bd8b8eb88b"
      },
      "source": [
        "data.loc[data['patientid'] == 16638, ['patientid', 'City_Code_Patient', 'City_Code_Patient_mode']]"
      ],
      "execution_count": null,
      "outputs": [
        {
          "output_type": "execute_result",
          "data": {
            "text/html": [
              "<div>\n",
              "<style scoped>\n",
              "    .dataframe tbody tr th:only-of-type {\n",
              "        vertical-align: middle;\n",
              "    }\n",
              "\n",
              "    .dataframe tbody tr th {\n",
              "        vertical-align: top;\n",
              "    }\n",
              "\n",
              "    .dataframe thead th {\n",
              "        text-align: right;\n",
              "    }\n",
              "</style>\n",
              "<table border=\"1\" class=\"dataframe\">\n",
              "  <thead>\n",
              "    <tr style=\"text-align: right;\">\n",
              "      <th></th>\n",
              "      <th>patientid</th>\n",
              "      <th>City_Code_Patient</th>\n",
              "      <th>City_Code_Patient_mode</th>\n",
              "    </tr>\n",
              "  </thead>\n",
              "  <tbody>\n",
              "    <tr>\n",
              "      <th>73053</th>\n",
              "      <td>16638</td>\n",
              "      <td>8.0</td>\n",
              "      <td>8.0</td>\n",
              "    </tr>\n",
              "    <tr>\n",
              "      <th>73054</th>\n",
              "      <td>16638</td>\n",
              "      <td>8.0</td>\n",
              "      <td>8.0</td>\n",
              "    </tr>\n",
              "    <tr>\n",
              "      <th>73055</th>\n",
              "      <td>16638</td>\n",
              "      <td>2.0</td>\n",
              "      <td>8.0</td>\n",
              "    </tr>\n",
              "    <tr>\n",
              "      <th>73056</th>\n",
              "      <td>16638</td>\n",
              "      <td>8.0</td>\n",
              "      <td>8.0</td>\n",
              "    </tr>\n",
              "    <tr>\n",
              "      <th>73057</th>\n",
              "      <td>16638</td>\n",
              "      <td>2.0</td>\n",
              "      <td>8.0</td>\n",
              "    </tr>\n",
              "    <tr>\n",
              "      <th>73058</th>\n",
              "      <td>16638</td>\n",
              "      <td>8.0</td>\n",
              "      <td>8.0</td>\n",
              "    </tr>\n",
              "    <tr>\n",
              "      <th>73059</th>\n",
              "      <td>16638</td>\n",
              "      <td>8.0</td>\n",
              "      <td>8.0</td>\n",
              "    </tr>\n",
              "    <tr>\n",
              "      <th>73060</th>\n",
              "      <td>16638</td>\n",
              "      <td>8.0</td>\n",
              "      <td>8.0</td>\n",
              "    </tr>\n",
              "    <tr>\n",
              "      <th>73061</th>\n",
              "      <td>16638</td>\n",
              "      <td>8.0</td>\n",
              "      <td>8.0</td>\n",
              "    </tr>\n",
              "    <tr>\n",
              "      <th>73062</th>\n",
              "      <td>16638</td>\n",
              "      <td>8.0</td>\n",
              "      <td>8.0</td>\n",
              "    </tr>\n",
              "    <tr>\n",
              "      <th>73063</th>\n",
              "      <td>16638</td>\n",
              "      <td>2.0</td>\n",
              "      <td>8.0</td>\n",
              "    </tr>\n",
              "    <tr>\n",
              "      <th>73064</th>\n",
              "      <td>16638</td>\n",
              "      <td>8.0</td>\n",
              "      <td>8.0</td>\n",
              "    </tr>\n",
              "    <tr>\n",
              "      <th>73065</th>\n",
              "      <td>16638</td>\n",
              "      <td>8.0</td>\n",
              "      <td>8.0</td>\n",
              "    </tr>\n",
              "    <tr>\n",
              "      <th>73066</th>\n",
              "      <td>16638</td>\n",
              "      <td>8.0</td>\n",
              "      <td>8.0</td>\n",
              "    </tr>\n",
              "    <tr>\n",
              "      <th>73067</th>\n",
              "      <td>16638</td>\n",
              "      <td>8.0</td>\n",
              "      <td>8.0</td>\n",
              "    </tr>\n",
              "    <tr>\n",
              "      <th>73068</th>\n",
              "      <td>16638</td>\n",
              "      <td>1.0</td>\n",
              "      <td>8.0</td>\n",
              "    </tr>\n",
              "    <tr>\n",
              "      <th>73069</th>\n",
              "      <td>16638</td>\n",
              "      <td>8.0</td>\n",
              "      <td>8.0</td>\n",
              "    </tr>\n",
              "    <tr>\n",
              "      <th>73070</th>\n",
              "      <td>16638</td>\n",
              "      <td>8.0</td>\n",
              "      <td>8.0</td>\n",
              "    </tr>\n",
              "    <tr>\n",
              "      <th>73071</th>\n",
              "      <td>16638</td>\n",
              "      <td>2.0</td>\n",
              "      <td>8.0</td>\n",
              "    </tr>\n",
              "  </tbody>\n",
              "</table>\n",
              "</div>"
            ],
            "text/plain": [
              "       patientid  City_Code_Patient  City_Code_Patient_mode\n",
              "73053      16638                8.0                     8.0\n",
              "73054      16638                8.0                     8.0\n",
              "73055      16638                2.0                     8.0\n",
              "73056      16638                8.0                     8.0\n",
              "73057      16638                2.0                     8.0\n",
              "73058      16638                8.0                     8.0\n",
              "73059      16638                8.0                     8.0\n",
              "73060      16638                8.0                     8.0\n",
              "73061      16638                8.0                     8.0\n",
              "73062      16638                8.0                     8.0\n",
              "73063      16638                2.0                     8.0\n",
              "73064      16638                8.0                     8.0\n",
              "73065      16638                8.0                     8.0\n",
              "73066      16638                8.0                     8.0\n",
              "73067      16638                8.0                     8.0\n",
              "73068      16638                1.0                     8.0\n",
              "73069      16638                8.0                     8.0\n",
              "73070      16638                8.0                     8.0\n",
              "73071      16638                2.0                     8.0"
            ]
          },
          "metadata": {
            "tags": []
          },
          "execution_count": 15
        }
      ]
    },
    {
      "cell_type": "code",
      "metadata": {
        "id": "uC6ZwyxcIpHR",
        "colab_type": "code",
        "colab": {
          "base_uri": "https://localhost:8080/",
          "height": 360
        },
        "outputId": "129cc309-799b-4e35-ac6e-75e374231024"
      },
      "source": [
        "data.sample(5)"
      ],
      "execution_count": null,
      "outputs": [
        {
          "output_type": "execute_result",
          "data": {
            "text/html": [
              "<div>\n",
              "<style scoped>\n",
              "    .dataframe tbody tr th:only-of-type {\n",
              "        vertical-align: middle;\n",
              "    }\n",
              "\n",
              "    .dataframe tbody tr th {\n",
              "        vertical-align: top;\n",
              "    }\n",
              "\n",
              "    .dataframe thead th {\n",
              "        text-align: right;\n",
              "    }\n",
              "</style>\n",
              "<table border=\"1\" class=\"dataframe\">\n",
              "  <thead>\n",
              "    <tr style=\"text-align: right;\">\n",
              "      <th></th>\n",
              "      <th>case_id</th>\n",
              "      <th>Hospital_code</th>\n",
              "      <th>Hospital_type_code</th>\n",
              "      <th>City_Code_Hospital</th>\n",
              "      <th>Hospital_region_code</th>\n",
              "      <th>Available Extra Rooms in Hospital</th>\n",
              "      <th>Department</th>\n",
              "      <th>Ward_Type</th>\n",
              "      <th>Ward_Facility_Code</th>\n",
              "      <th>Bed Grade</th>\n",
              "      <th>patientid</th>\n",
              "      <th>City_Code_Patient</th>\n",
              "      <th>Type of Admission</th>\n",
              "      <th>Severity of Illness</th>\n",
              "      <th>Visitors with Patient</th>\n",
              "      <th>Age</th>\n",
              "      <th>Admission_Deposit</th>\n",
              "      <th>Stay</th>\n",
              "      <th>source</th>\n",
              "      <th>City_Code_Patient_mode</th>\n",
              "    </tr>\n",
              "  </thead>\n",
              "  <tbody>\n",
              "    <tr>\n",
              "      <th>75072</th>\n",
              "      <td>75073</td>\n",
              "      <td>25</td>\n",
              "      <td>e</td>\n",
              "      <td>1</td>\n",
              "      <td>X</td>\n",
              "      <td>2</td>\n",
              "      <td>anesthesia</td>\n",
              "      <td>R</td>\n",
              "      <td>E</td>\n",
              "      <td>3.0</td>\n",
              "      <td>105887</td>\n",
              "      <td>8.0</td>\n",
              "      <td>Emergency</td>\n",
              "      <td>Moderate</td>\n",
              "      <td>2</td>\n",
              "      <td>61-70</td>\n",
              "      <td>6041.0</td>\n",
              "      <td>11-20</td>\n",
              "      <td>train</td>\n",
              "      <td>8.0</td>\n",
              "    </tr>\n",
              "    <tr>\n",
              "      <th>154874</th>\n",
              "      <td>154875</td>\n",
              "      <td>1</td>\n",
              "      <td>d</td>\n",
              "      <td>10</td>\n",
              "      <td>Y</td>\n",
              "      <td>2</td>\n",
              "      <td>gynecology</td>\n",
              "      <td>S</td>\n",
              "      <td>B</td>\n",
              "      <td>1.0</td>\n",
              "      <td>112033</td>\n",
              "      <td>8.0</td>\n",
              "      <td>Trauma</td>\n",
              "      <td>Extreme</td>\n",
              "      <td>4</td>\n",
              "      <td>61-70</td>\n",
              "      <td>4284.0</td>\n",
              "      <td>51-60</td>\n",
              "      <td>train</td>\n",
              "      <td>8.0</td>\n",
              "    </tr>\n",
              "    <tr>\n",
              "      <th>27998</th>\n",
              "      <td>346437</td>\n",
              "      <td>10</td>\n",
              "      <td>e</td>\n",
              "      <td>1</td>\n",
              "      <td>X</td>\n",
              "      <td>2</td>\n",
              "      <td>gynecology</td>\n",
              "      <td>S</td>\n",
              "      <td>E</td>\n",
              "      <td>2.0</td>\n",
              "      <td>97522</td>\n",
              "      <td>10.0</td>\n",
              "      <td>Trauma</td>\n",
              "      <td>Moderate</td>\n",
              "      <td>4</td>\n",
              "      <td>61-70</td>\n",
              "      <td>4413.0</td>\n",
              "      <td>NaN</td>\n",
              "      <td>test</td>\n",
              "      <td>10.0</td>\n",
              "    </tr>\n",
              "    <tr>\n",
              "      <th>316365</th>\n",
              "      <td>316366</td>\n",
              "      <td>25</td>\n",
              "      <td>e</td>\n",
              "      <td>1</td>\n",
              "      <td>X</td>\n",
              "      <td>2</td>\n",
              "      <td>gynecology</td>\n",
              "      <td>S</td>\n",
              "      <td>E</td>\n",
              "      <td>3.0</td>\n",
              "      <td>44128</td>\n",
              "      <td>7.0</td>\n",
              "      <td>Urgent</td>\n",
              "      <td>Extreme</td>\n",
              "      <td>2</td>\n",
              "      <td>11-20</td>\n",
              "      <td>3103.0</td>\n",
              "      <td>31-40</td>\n",
              "      <td>train</td>\n",
              "      <td>7.0</td>\n",
              "    </tr>\n",
              "    <tr>\n",
              "      <th>222357</th>\n",
              "      <td>222358</td>\n",
              "      <td>26</td>\n",
              "      <td>b</td>\n",
              "      <td>2</td>\n",
              "      <td>Y</td>\n",
              "      <td>4</td>\n",
              "      <td>radiotherapy</td>\n",
              "      <td>Q</td>\n",
              "      <td>D</td>\n",
              "      <td>4.0</td>\n",
              "      <td>23878</td>\n",
              "      <td>7.0</td>\n",
              "      <td>Urgent</td>\n",
              "      <td>Moderate</td>\n",
              "      <td>4</td>\n",
              "      <td>31-40</td>\n",
              "      <td>5660.0</td>\n",
              "      <td>21-30</td>\n",
              "      <td>train</td>\n",
              "      <td>7.0</td>\n",
              "    </tr>\n",
              "  </tbody>\n",
              "</table>\n",
              "</div>"
            ],
            "text/plain": [
              "        case_id  Hospital_code  ... source  City_Code_Patient_mode\n",
              "75072     75073             25  ...  train                     8.0\n",
              "154874   154875              1  ...  train                     8.0\n",
              "27998    346437             10  ...   test                    10.0\n",
              "316365   316366             25  ...  train                     7.0\n",
              "222357   222358             26  ...  train                     7.0\n",
              "\n",
              "[5 rows x 20 columns]"
            ]
          },
          "metadata": {
            "tags": []
          },
          "execution_count": 16
        }
      ]
    },
    {
      "cell_type": "code",
      "metadata": {
        "id": "dA4C_zcFwkBr",
        "colab_type": "code",
        "colab": {
          "base_uri": "https://localhost:8080/",
          "height": 374
        },
        "outputId": "f5560269-c6a6-497c-a8b4-a463bd4678b2"
      },
      "source": [
        "data.dtypes"
      ],
      "execution_count": null,
      "outputs": [
        {
          "output_type": "execute_result",
          "data": {
            "text/plain": [
              "case_id                                int64\n",
              "Hospital_code                          int64\n",
              "Hospital_type_code                    object\n",
              "City_Code_Hospital                     int64\n",
              "Hospital_region_code                  object\n",
              "Available Extra Rooms in Hospital      int64\n",
              "Department                            object\n",
              "Ward_Type                             object\n",
              "Ward_Facility_Code                    object\n",
              "Bed Grade                            float64\n",
              "patientid                              int64\n",
              "City_Code_Patient                    float64\n",
              "Type of Admission                     object\n",
              "Severity of Illness                   object\n",
              "Visitors with Patient                  int64\n",
              "Age                                   object\n",
              "Admission_Deposit                    float64\n",
              "Stay                                  object\n",
              "source                                object\n",
              "City_Code_Patient_mode               float64\n",
              "dtype: object"
            ]
          },
          "metadata": {
            "tags": []
          },
          "execution_count": 17
        }
      ]
    },
    {
      "cell_type": "code",
      "metadata": {
        "id": "Wu6GZ2ARxzD3",
        "colab_type": "code",
        "colab": {}
      },
      "source": [
        "from sklearn.preprocessing import LabelEncoder\n",
        "le = LabelEncoder()\n",
        "data['Encoded_Age'] = le.fit_transform(data['Age'])\n",
        "data = pd.get_dummies(data, columns=['Encoded_Age', 'Hospital_type_code', 'Hospital_region_code', 'Department', 'Ward_Type', 'Ward_Facility_Code', 'Type of Admission', 'Severity of Illness'])"
      ],
      "execution_count": null,
      "outputs": []
    },
    {
      "cell_type": "code",
      "metadata": {
        "id": "H55PZudlvPO-",
        "colab_type": "code",
        "colab": {
          "base_uri": "https://localhost:8080/",
          "height": 68
        },
        "outputId": "d0543a73-35ec-4b9c-de56-1ddaf3655d0c"
      },
      "source": [
        "data['Stay'].unique()"
      ],
      "execution_count": null,
      "outputs": [
        {
          "output_type": "execute_result",
          "data": {
            "text/plain": [
              "array(['0-10', '41-50', '31-40', '11-20', '51-60', '21-30', '71-80',\n",
              "       'More than 100 Days', '81-90', '61-70', '91-100', nan],\n",
              "      dtype=object)"
            ]
          },
          "metadata": {
            "tags": []
          },
          "execution_count": 21
        }
      ]
    },
    {
      "cell_type": "code",
      "metadata": {
        "id": "t1rHYHX_-SWd",
        "colab_type": "code",
        "colab": {
          "base_uri": "https://localhost:8080/",
          "height": 986
        },
        "outputId": "95b6f5de-b8e3-4585-9ab8-5b29ead1477e"
      },
      "source": [
        "data.dtypes"
      ],
      "execution_count": null,
      "outputs": [
        {
          "output_type": "execute_result",
          "data": {
            "text/plain": [
              "case_id                                int64\n",
              "Hospital_code                          int64\n",
              "City_Code_Hospital                     int64\n",
              "Available Extra Rooms in Hospital      int64\n",
              "Bed Grade                            float64\n",
              "patientid                              int64\n",
              "City_Code_Patient                    float64\n",
              "Visitors with Patient                  int64\n",
              "Age                                   object\n",
              "Admission_Deposit                    float64\n",
              "Stay                                  object\n",
              "source                                object\n",
              "City_Code_Patient_mode               float64\n",
              "Encoded_Age_0                          uint8\n",
              "Encoded_Age_1                          uint8\n",
              "Encoded_Age_2                          uint8\n",
              "Encoded_Age_3                          uint8\n",
              "Encoded_Age_4                          uint8\n",
              "Encoded_Age_5                          uint8\n",
              "Encoded_Age_6                          uint8\n",
              "Encoded_Age_7                          uint8\n",
              "Encoded_Age_8                          uint8\n",
              "Encoded_Age_9                          uint8\n",
              "Hospital_type_code_a                   uint8\n",
              "Hospital_type_code_b                   uint8\n",
              "Hospital_type_code_c                   uint8\n",
              "Hospital_type_code_d                   uint8\n",
              "Hospital_type_code_e                   uint8\n",
              "Hospital_type_code_f                   uint8\n",
              "Hospital_type_code_g                   uint8\n",
              "Hospital_region_code_X                 uint8\n",
              "Hospital_region_code_Y                 uint8\n",
              "Hospital_region_code_Z                 uint8\n",
              "Department_TB & Chest disease          uint8\n",
              "Department_anesthesia                  uint8\n",
              "Department_gynecology                  uint8\n",
              "Department_radiotherapy                uint8\n",
              "Department_surgery                     uint8\n",
              "Ward_Type_P                            uint8\n",
              "Ward_Type_Q                            uint8\n",
              "Ward_Type_R                            uint8\n",
              "Ward_Type_S                            uint8\n",
              "Ward_Type_T                            uint8\n",
              "Ward_Type_U                            uint8\n",
              "Ward_Facility_Code_A                   uint8\n",
              "Ward_Facility_Code_B                   uint8\n",
              "Ward_Facility_Code_C                   uint8\n",
              "Ward_Facility_Code_D                   uint8\n",
              "Ward_Facility_Code_E                   uint8\n",
              "Ward_Facility_Code_F                   uint8\n",
              "Type of Admission_Emergency            uint8\n",
              "Type of Admission_Trauma               uint8\n",
              "Type of Admission_Urgent               uint8\n",
              "Severity of Illness_Extreme            uint8\n",
              "Severity of Illness_Minor              uint8\n",
              "Severity of Illness_Moderate           uint8\n",
              "dtype: object"
            ]
          },
          "metadata": {
            "tags": []
          },
          "execution_count": 22
        }
      ]
    },
    {
      "cell_type": "code",
      "metadata": {
        "id": "H4svGUVLfhcN",
        "colab_type": "code",
        "colab": {
          "base_uri": "https://localhost:8080/",
          "height": 34
        },
        "outputId": "3e3bf61a-96ff-4634-cb0d-7d17026476d1"
      },
      "source": [
        "len(data.columns)"
      ],
      "execution_count": null,
      "outputs": [
        {
          "output_type": "execute_result",
          "data": {
            "text/plain": [
              "56"
            ]
          },
          "metadata": {
            "tags": []
          },
          "execution_count": 23
        }
      ]
    },
    {
      "cell_type": "code",
      "metadata": {
        "id": "NgLcebY5-pkB",
        "colab_type": "code",
        "colab": {
          "base_uri": "https://localhost:8080/",
          "height": 122
        },
        "outputId": "b7982931-71fe-45a7-a382-0d3acf40854c"
      },
      "source": [
        "data.drop(['Age', 'City_Code_Patient', 'patientid'],axis=1,inplace=True)\n",
        "data['Admission_Deposit'] = np.log(data['Admission_Deposit'])\n",
        "data['Available Extra Rooms in Hospital'] = np.log(data['Available Extra Rooms in Hospital'] + 1)\n",
        "\n",
        "train = data.loc[data['source']==\"train\"]\n",
        "test = data.loc[data['source']==\"test\"]\n",
        "#Drop unnecessary columns:\n",
        "test.drop(['Stay','source'],axis=1,inplace=True)\n",
        "train.drop(['source'],axis=1,inplace=True)\n",
        "\n",
        "train.to_csv(\"train_modified.csv\",index=False)\n",
        "test.to_csv(\"test_modified.csv\",index=False)"
      ],
      "execution_count": null,
      "outputs": [
        {
          "output_type": "stream",
          "text": [
            "/usr/local/lib/python3.6/dist-packages/pandas/core/frame.py:3997: SettingWithCopyWarning: \n",
            "A value is trying to be set on a copy of a slice from a DataFrame\n",
            "\n",
            "See the caveats in the documentation: https://pandas.pydata.org/pandas-docs/stable/user_guide/indexing.html#returning-a-view-versus-a-copy\n",
            "  errors=errors,\n"
          ],
          "name": "stderr"
        }
      ]
    },
    {
      "cell_type": "code",
      "metadata": {
        "id": "2UBv8dXUEtec",
        "colab_type": "code",
        "colab": {
          "base_uri": "https://localhost:8080/",
          "height": 51
        },
        "outputId": "999bb204-e1fc-4eb4-86bd-326d9994a010"
      },
      "source": [
        "train['Stay'].unique()"
      ],
      "execution_count": null,
      "outputs": [
        {
          "output_type": "execute_result",
          "data": {
            "text/plain": [
              "array(['0-10', '41-50', '31-40', '11-20', '51-60', '21-30', '71-80',\n",
              "       'More than 100 Days', '81-90', '61-70', '91-100'], dtype=object)"
            ]
          },
          "metadata": {
            "tags": []
          },
          "execution_count": 26
        }
      ]
    },
    {
      "cell_type": "code",
      "metadata": {
        "id": "LlHb3ntZETwa",
        "colab_type": "code",
        "colab": {
          "resources": {
            "http://localhost:8080/nbextensions/google.colab/files.js": {
              "data": "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",
              "ok": true,
              "headers": [
                [
                  "content-type",
                  "application/javascript"
                ]
              ],
              "status": 200,
              "status_text": ""
            }
          },
          "base_uri": "https://localhost:8080/",
          "height": 106
        },
        "outputId": "4f69f8e6-b8f6-46f0-8b42-b0922481187a"
      },
      "source": [
        "from google.colab import files\n",
        "files.upload()"
      ],
      "execution_count": null,
      "outputs": [
        {
          "output_type": "display_data",
          "data": {
            "text/html": [
              "\n",
              "     <input type=\"file\" id=\"files-bdcc67a8-d585-4b1e-ac5f-9a4f5bc16720\" name=\"files[]\" multiple disabled\n",
              "        style=\"border:none\" />\n",
              "     <output id=\"result-bdcc67a8-d585-4b1e-ac5f-9a4f5bc16720\">\n",
              "      Upload widget is only available when the cell has been executed in the\n",
              "      current browser session. Please rerun this cell to enable.\n",
              "      </output>\n",
              "      <script src=\"/nbextensions/google.colab/files.js\"></script> "
            ],
            "text/plain": [
              "<IPython.core.display.HTML object>"
            ]
          },
          "metadata": {
            "tags": []
          }
        },
        {
          "output_type": "stream",
          "text": [
            "Saving train_modified.csv to train_modified.csv\n",
            "Saving test_modified.csv to test_modified.csv\n"
          ],
          "name": "stdout"
        }
      ]
    },
    {
      "cell_type": "code",
      "metadata": {
        "id": "9PAPy9j8EaPe",
        "colab_type": "code",
        "colab": {}
      },
      "source": [
        "import pandas as pd\n",
        "import numpy as np\n",
        "import seaborn as sns\n",
        "train = pd.read_csv('/content/train_modified.csv')\n",
        "test = pd.read_csv('/content/test_modified.csv')\n"
      ],
      "execution_count": null,
      "outputs": []
    },
    {
      "cell_type": "code",
      "metadata": {
        "id": "CI_TXQg5zZiF",
        "colab_type": "code",
        "colab": {}
      },
      "source": [
        "from sklearn.preprocessing import LabelEncoder\n",
        "le = LabelEncoder()\n",
        "train['Stay'] = le.fit_transform(train['Stay'])"
      ],
      "execution_count": null,
      "outputs": []
    },
    {
      "cell_type": "code",
      "metadata": {
        "id": "LvAON0wZSza0",
        "colab_type": "code",
        "colab": {}
      },
      "source": [
        "train['Stay'].unique()"
      ],
      "execution_count": null,
      "outputs": []
    },
    {
      "cell_type": "code",
      "metadata": {
        "id": "T4X5pR-6FncJ",
        "colab_type": "code",
        "colab": {}
      },
      "source": [
        "#Define target and ID columns:\n",
        "target = 'Stay'\n",
        "IDcol = ['case_id']\n",
        "predictors = [x for x in train.columns if x not in [target] + IDcol]\n",
        "from sklearn import model_selection, metrics\n",
        "def modelfit(alg, dtrain, dtest, predictors, target, IDcol, filename):\n",
        "    #Fit the algorithm on the data\n",
        "    alg.fit(dtrain[predictors], dtrain[target])\n",
        "    print(\"Fit Done\")   \n",
        "    #Predict training set:\n",
        "    dtrain_predictions = alg.predict(dtrain[predictors])\n",
        "    print(\"Predict Done\")\n",
        "    print(dtrain_predictions)\n",
        "\n",
        "    #Perform cross-validation:\n",
        "    cv_score = model_selection.cross_val_score(alg, dtrain[predictors], dtrain[target], scoring='accuracy')\n",
        "    \n",
        "    #Print model report:\n",
        "    print(\"\\nModel Report\")\n",
        "    print(\"ACC : %.4g\" % metrics.accuracy_score(dtrain[target].values, dtrain_predictions))\n",
        "    print(\"CV Score : Mean - %.4g | Std - %.4g | Min - %.4g | Max - %.4g\" % (np.mean(cv_score),np.std(cv_score),np.min(cv_score),np.max(cv_score)))\n",
        "    \n",
        "    #Predict on testing data:\n",
        "    dtest[target] = le.inverse_transform(alg.predict(dtest[predictors]))\n",
        "    \n",
        "    #Export submission file:\n",
        "    IDcol.append(target)\n",
        "    submission = pd.DataFrame({ x: dtest[x] for x in IDcol})\n",
        "    submission.to_csv(filename, index=False)"
      ],
      "execution_count": null,
      "outputs": []
    },
    {
      "cell_type": "code",
      "metadata": {
        "id": "FjFWwGNdJTUj",
        "colab_type": "code",
        "colab": {
          "base_uri": "https://localhost:8080/",
          "height": 204
        },
        "outputId": "715d2f7a-a289-40e6-e11a-b2790583a798"
      },
      "source": [
        "from lightgbm import LGBMClassifier\n",
        "\n",
        "predictors = [x for x in train.columns if x not in [target] + IDcol]\n",
        "alg4 = LGBMClassifier(learning_rate = 0.06, max_depth = 50, n_estimators = 395, objective = 'multiclass', boosting_type = 'gbdt')\n",
        "modelfit(alg4, train, test, predictors, target, IDcol, 'alg4.csv')"
      ],
      "execution_count": null,
      "outputs": [
        {
          "output_type": "stream",
          "text": [
            "Fit Done\n",
            "Predict Done\n",
            "[2 2 2 ... 1 3 1]\n",
            "\n",
            "Model Report\n",
            "ACC : 0.4463\n"
          ],
          "name": "stdout"
        },
        {
          "output_type": "stream",
          "text": [
            "/usr/local/lib/python3.6/dist-packages/ipykernel_launcher.py:23: SettingWithCopyWarning: \n",
            "A value is trying to be set on a copy of a slice from a DataFrame.\n",
            "Try using .loc[row_indexer,col_indexer] = value instead\n",
            "\n",
            "See the caveats in the documentation: https://pandas.pydata.org/pandas-docs/stable/user_guide/indexing.html#returning-a-view-versus-a-copy\n"
          ],
          "name": "stderr"
        }
      ]
    },
    {
      "cell_type": "code",
      "metadata": {
        "id": "xiHmlhXp7Rdu",
        "colab_type": "code",
        "colab": {}
      },
      "source": [
        ""
      ],
      "execution_count": null,
      "outputs": []
    }
  ]
}